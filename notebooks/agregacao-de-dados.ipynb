{
 "cells": [
  {
   "cell_type": "code",
   "execution_count": 154,
   "metadata": {
    "collapsed": true
   },
   "outputs": [],
   "source": [
    "import pandas as pd"
   ]
  },
  {
   "cell_type": "code",
   "execution_count": 202,
   "metadata": {
    "collapsed": true
   },
   "outputs": [],
   "source": [
    "tweets = pd.read_csv('../data/tweets-dataset-limpo.csv')\n",
    "casos = pd.read_csv('../data/casos-por-bairro-lat-long.csv')\n",
    "clima = pd.read_csv('../data/dados-climaticos-limpo.csv')"
   ]
  },
  {
   "cell_type": "code",
   "execution_count": 203,
   "metadata": {
    "collapsed": false,
    "scrolled": true
   },
   "outputs": [],
   "source": [
    "bairros = casos[['bairro', 'latitude', 'longitude']]"
   ]
  },
  {
   "cell_type": "code",
   "execution_count": 204,
   "metadata": {
    "collapsed": false
   },
   "outputs": [],
   "source": [
    "bairros = bairros.drop_duplicates()"
   ]
  },
  {
   "cell_type": "code",
   "execution_count": 205,
   "metadata": {
    "collapsed": false
   },
   "outputs": [],
   "source": [
    "bair = bairros['bairro'].tolist()\n",
    "lat = bairros['latitude'].tolist()\n",
    "long = bairros['longitude'].tolist()\n",
    "dict_lat = dict(zip(bair, lat))\n",
    "dict_long = dict(zip(bair, long))"
   ]
  },
  {
   "cell_type": "code",
   "execution_count": 206,
   "metadata": {
    "collapsed": false
   },
   "outputs": [
    {
     "data": {
      "text/plain": [
       "{'ABOLICAO': -43.299278899999997,\n",
       " 'ACARI': -43.340555600000002,\n",
       " 'AGUA SANTA': -43.310277800000001,\n",
       " 'ANCHIETA': -43.3958333,\n",
       " 'ANDARAI': -43.249732700000003,\n",
       " 'ANIL': -43.340000000000003,\n",
       " 'BANCARIOS': -43.175927000000001,\n",
       " 'BANGU': -43.466667000000001,\n",
       " 'BARRA DA TIJUCA': -43.365833299999998,\n",
       " 'BARRA DE GUARATIBA': -43.566666699999999,\n",
       " 'BARROS FILHO': -43.366666700000003,\n",
       " 'BENFICA': -43.240000000000002,\n",
       " 'BENTO RIBEIRO': -43.360833300000003,\n",
       " 'BONSUCESSO': -43.253055600000003,\n",
       " 'BOTAFOGO': -43.189999999999998,\n",
       " 'CACHAMBI': -43.283333300000002,\n",
       " 'CACUIA': -43.181980799999998,\n",
       " 'CAJU': -43.220555599999997,\n",
       " 'CAMORIM': -43.438888900000002,\n",
       " 'CAMPINHO': -43.347499999999997,\n",
       " 'CAMPO DOS AFONSOS': -43.3849625,\n",
       " 'CAMPO GRANDE': -43.5625,\n",
       " 'CASCADURA': -43.331880100000006,\n",
       " 'CATETE': -43.179166700000003,\n",
       " 'CATUMBI': -43.196944399999992,\n",
       " 'CAVALCANTI': -43.316666699999999,\n",
       " 'CENTRO': -43.177137799999997,\n",
       " 'CIDADE DE DEUS': -43.363247200000004,\n",
       " 'CIDADE NOVA': -43.202500000000001,\n",
       " 'CIDADE UNIVERSITARIA': -43.233333299999998,\n",
       " 'COCOTA': -43.180770099999997,\n",
       " 'COELHO NETO': -43.350555600000007,\n",
       " 'COLEGIO': -43.340328800000002,\n",
       " 'COMPLEXO DA MARE': -43.243055600000012,\n",
       " 'COMPLEXO DO ALEMAO': -43.272699200000012,\n",
       " 'COPACABANA': -43.180697199999997,\n",
       " 'CORDOVIL': -43.293239300000003,\n",
       " 'COSME VELHO': -43.201011000000001,\n",
       " 'COSMOS': -43.616666700000003,\n",
       " 'COSTA BARROS': -43.369284999999998,\n",
       " 'CURICICA': -43.385804999999998,\n",
       " 'DEL CASTILHO': -43.269073600000013,\n",
       " 'DEODORO': -43.385277799999997,\n",
       " 'ENCANTADO': -43.302222200000003,\n",
       " 'ENGENHEIRO LEAL': -43.325844500000002,\n",
       " 'ENGENHO DE DENTRO': -43.299999999999997,\n",
       " 'ENGENHO NOVO': -43.267499999999998,\n",
       " 'ESTACIO': -43.200000000000003,\n",
       " 'FLAMENGO': -43.174469999999999,\n",
       " 'FREGUESIAILHA': -43.1722945,\n",
       " 'FREGUESIAJPA': -43.334294200000002,\n",
       " 'GALEAO': -43.238055600000003,\n",
       " 'GAMBOA': -43.192777800000002,\n",
       " 'GARDENIA AZUL': -43.350000000000001,\n",
       " 'GAVEA': -43.240059500000001,\n",
       " 'GLORIA': -43.173611100000002,\n",
       " 'GRAJAU': -43.260277799999997,\n",
       " 'GRUMARI': -43.534254299999994,\n",
       " 'GUADALUPE': -43.375277799999999,\n",
       " 'GUARATIBA': -43.579915100000001,\n",
       " 'HIGIENOPOLIS': -43.262777800000002,\n",
       " 'HONORIO GURGEL': -43.357222,\n",
       " 'HUMAITA': -43.202962999999997,\n",
       " 'INHAUMA': -43.281388900000003,\n",
       " 'IPANEMA': -43.204527800000001,\n",
       " 'IRAJA': -43.323611100000001,\n",
       " 'JACARE': -43.257222200000001,\n",
       " 'JACAREPAGUA': -43.416302799999997,\n",
       " 'JACAREZINHO': -43.260277799999997,\n",
       " 'JARDIM AMERICA': -43.323333300000002,\n",
       " 'JARDIM BOTANICO': -43.216666700000012,\n",
       " 'JARDIM CARIOCA': -43.200000000000003,\n",
       " 'JARDIM GUANABARA': -43.203611100000003,\n",
       " 'JARDIM SULACAP': -43.3921967,\n",
       " 'JOA': -43.287500000000001,\n",
       " 'LAGOA': -43.20966,\n",
       " 'LARANJEIRAS': -43191.0,\n",
       " 'LEBLON': -43.222161100000001,\n",
       " 'LEME': -43.1666667,\n",
       " 'LINS DE VASCONCELOS': -43.284722199999997,\n",
       " 'MADUREIRA': -43.336708199999997,\n",
       " 'MAGALHAES BASTOS': -43.413892799999992,\n",
       " 'MANGUEIRA': -43.238888899999999,\n",
       " 'MANGUINHOS': -43.245833300000001,\n",
       " 'MARACANA': -43.231335100000003,\n",
       " 'MARECHAL HERMES': -43.366666700000003,\n",
       " 'MARIA DA GRACA': -43.266666700000002,\n",
       " 'MEIER': -43.283333300000002,\n",
       " 'MONERO': -43.197716999999997,\n",
       " 'OLARIA': -43.266666700000002,\n",
       " 'OSWALDO CRUZ': -43.351189400000003,\n",
       " 'PACIENCIA': -43.632317999999998,\n",
       " 'PADRE MIGUEL': -43.450000000000003,\n",
       " 'PAQUETA': -43.108888899999997,\n",
       " 'PARADA DE LUCAS': -43.299999999999997,\n",
       " 'PARQUE ANCHIETA': -43.4166667,\n",
       " 'PARQUE COLUMBIA': -43.3427425,\n",
       " 'PAVUNA': -43.360277799999999,\n",
       " 'PECHINCHA': -43.356015500000012,\n",
       " 'PEDRA DE GUARATIBA': -43.633333299999997,\n",
       " 'PENHA': -43.277777800000003,\n",
       " 'PENHA CIRCULAR': -43.2858333,\n",
       " 'PIEDADE': -43.3125,\n",
       " 'PILARES': -43.298071100000001,\n",
       " 'PITANGUEIRAS': -43.180770099999997,\n",
       " 'PORTUGUESA': -43.206188400000002,\n",
       " 'PRACA DA BANDEIRA': -43.212238499999998,\n",
       " 'PRACA SECA': -43.350000000000001,\n",
       " 'QUINTINO BOCAIUVA': -43.316666699999999,\n",
       " 'RAMOS': -43.2577778,\n",
       " 'REALENGO': -43.433333300000001,\n",
       " 'RECREIO DOS BANDEIRANTES': -43.479233000000001,\n",
       " 'RIACHUELO': -43.255555600000001,\n",
       " 'RIBEIRA': -43.169444400000003,\n",
       " 'RICARDO DE ALBUQUERQUE': -43.389785400000001,\n",
       " 'RIO COMPRIDO': -43.211028499999998,\n",
       " 'ROCHA': -43.249722200000001,\n",
       " 'ROCHA MIRANDA': -43.350000000000001,\n",
       " 'ROCINHA': -43.246666699999999,\n",
       " 'SAMPAIO': -43.260555600000004,\n",
       " 'SANTA CRUZ': -43685.0,\n",
       " 'SANTA TERESA': -43.211028499999998,\n",
       " 'SANTISSIMO': -43.516666999999998,\n",
       " 'SANTO CRISTO': -43205.0,\n",
       " 'SAO CONRADO': -43.266666700000002,\n",
       " 'SAO CRISTOVAO': -43.222200000000001,\n",
       " 'SAO FRANCISCO XAVIER': -43.243333300000003,\n",
       " 'SAUDE': -43.185612599999999,\n",
       " 'SENADOR CAMARA': -43.5,\n",
       " 'SENADOR VASCONCELOS': -43.533333300000002,\n",
       " 'SEPETIBA': -43.700000000000003,\n",
       " 'TANQUE': -43.3558333,\n",
       " 'TAQUARA': -43.388055600000001,\n",
       " 'TAUA': -43.185555600000001,\n",
       " 'TIJUCA': -43.240059500000001,\n",
       " 'TODOS OS SANTOS': -43285.0,\n",
       " 'TOMAS COELHO': -43.306525499999999,\n",
       " 'TURIACU': -43.343888900000003,\n",
       " 'URCA': -43.166558299999998,\n",
       " 'VARGEM GRANDE': -43.494166700000001,\n",
       " 'VARGEM PEQUENA': -43.463611100000001,\n",
       " 'VAZ LOBO': -43.327051700000013,\n",
       " 'VICENTE DE CARVALHO': -43.317222200000003,\n",
       " 'VIDIGAL': -43.242486,\n",
       " 'VIGARIO GERAL': -43.310277800000001,\n",
       " 'VILA ISABEL': -43.25,\n",
       " 'VILA MILITAR': -43.402777800000003,\n",
       " 'VILA VALQUEIRE': -43.366666700000003,\n",
       " 'VISTA ALEGRE': -43.316111100000001,\n",
       " 'ZUMBI': -43.175555600000003}"
      ]
     },
     "execution_count": 206,
     "metadata": {},
     "output_type": "execute_result"
    }
   ],
   "source": [
    "dict_long"
   ]
  },
  {
   "cell_type": "code",
   "execution_count": 207,
   "metadata": {
    "collapsed": false
   },
   "outputs": [],
   "source": [
    "casos_zika_por_bairro = casos[casos['doenca'] == 'Zika']['bairro'].value_counts()"
   ]
  },
  {
   "cell_type": "code",
   "execution_count": 208,
   "metadata": {
    "collapsed": false
   },
   "outputs": [],
   "source": [
    "populacao_por_bairro = casos[['bairro', 'populacao']].drop_duplicates()"
   ]
  },
  {
   "cell_type": "code",
   "execution_count": 209,
   "metadata": {
    "collapsed": false
   },
   "outputs": [
    {
     "data": {
      "text/html": [
       "<div>\n",
       "<table border=\"1\" class=\"dataframe\">\n",
       "  <thead>\n",
       "    <tr style=\"text-align: right;\">\n",
       "      <th></th>\n",
       "      <th>bairro</th>\n",
       "      <th>populacao</th>\n",
       "    </tr>\n",
       "  </thead>\n",
       "  <tbody>\n",
       "    <tr>\n",
       "      <th>0</th>\n",
       "      <td>TAQUARA</td>\n",
       "      <td>102126</td>\n",
       "    </tr>\n",
       "    <tr>\n",
       "      <th>1957</th>\n",
       "      <td>REALENGO</td>\n",
       "      <td>180123</td>\n",
       "    </tr>\n",
       "    <tr>\n",
       "      <th>6893</th>\n",
       "      <td>IRAJA</td>\n",
       "      <td>96382</td>\n",
       "    </tr>\n",
       "    <tr>\n",
       "      <th>8899</th>\n",
       "      <td>MADUREIRA</td>\n",
       "      <td>50106</td>\n",
       "    </tr>\n",
       "    <tr>\n",
       "      <th>9875</th>\n",
       "      <td>PAVUNA</td>\n",
       "      <td>97350</td>\n",
       "    </tr>\n",
       "  </tbody>\n",
       "</table>\n",
       "</div>"
      ],
      "text/plain": [
       "         bairro  populacao\n",
       "0       TAQUARA     102126\n",
       "1957   REALENGO     180123\n",
       "6893      IRAJA      96382\n",
       "8899  MADUREIRA      50106\n",
       "9875     PAVUNA      97350"
      ]
     },
     "execution_count": 209,
     "metadata": {},
     "output_type": "execute_result"
    }
   ],
   "source": [
    "populacao_por_bairro.head()"
   ]
  },
  {
   "cell_type": "code",
   "execution_count": 210,
   "metadata": {
    "collapsed": false
   },
   "outputs": [],
   "source": [
    "populacao_por_bairro = pd.Series(populacao_por_bairro['populacao'].tolist(),index=populacao_por_bairro['bairro'].tolist())"
   ]
  },
  {
   "cell_type": "code",
   "execution_count": 211,
   "metadata": {
    "collapsed": false
   },
   "outputs": [],
   "source": [
    "casos_zika_por_bairro_normalizado = casos_zika_por_bairro / populacao_por_bairro"
   ]
  },
  {
   "cell_type": "code",
   "execution_count": 212,
   "metadata": {
    "collapsed": false
   },
   "outputs": [],
   "source": [
    "casos_zika_por_bairro_normalizado = casos_zika_por_bairro_normalizado.sort_values().dropna().drop_duplicates()"
   ]
  },
  {
   "cell_type": "code",
   "execution_count": 213,
   "metadata": {
    "collapsed": false
   },
   "outputs": [
    {
     "data": {
      "text/plain": [
       "RECREIO DOS BANDEIRANTES    0.000085\n",
       "CAVALCANTI                  0.000496\n",
       "PARQUE COLUMBIA             0.000761\n",
       "MARIA DA GRACA              0.001129\n",
       "JOA                         0.001222\n",
       "dtype: float64"
      ]
     },
     "execution_count": 213,
     "metadata": {},
     "output_type": "execute_result"
    }
   ],
   "source": [
    "casos_zika_por_bairro_normalizado.head()"
   ]
  },
  {
   "cell_type": "code",
   "execution_count": 214,
   "metadata": {
    "collapsed": true
   },
   "outputs": [],
   "source": [
    "casos_dengue_por_bairro = casos[casos['doenca'] == 'Dengue']['bairro'].value_counts()"
   ]
  },
  {
   "cell_type": "code",
   "execution_count": 215,
   "metadata": {
    "collapsed": false
   },
   "outputs": [],
   "source": [
    "casos_dengue_por_bairro_normalizado = casos_dengue_por_bairro / populacao_por_bairro"
   ]
  },
  {
   "cell_type": "code",
   "execution_count": 216,
   "metadata": {
    "collapsed": false
   },
   "outputs": [],
   "source": [
    "casos_dengue_por_bairro_normalizado = casos_dengue_por_bairro_normalizado.sort_values().dropna().drop_duplicates()"
   ]
  },
  {
   "cell_type": "code",
   "execution_count": 217,
   "metadata": {
    "collapsed": false,
    "scrolled": true
   },
   "outputs": [
    {
     "data": {
      "text/plain": [
       "RICARDO DE ALBUQUERQUE    0.000136\n",
       "COMPLEXO DA MARE          0.001056\n",
       "JOA                       0.001222\n",
       "VILA MILITAR              0.001593\n",
       "FREGUESIAILHA             0.001595\n",
       "dtype: float64"
      ]
     },
     "execution_count": 217,
     "metadata": {},
     "output_type": "execute_result"
    }
   ],
   "source": [
    "casos_dengue_por_bairro_normalizado.head()"
   ]
  },
  {
   "cell_type": "code",
   "execution_count": 218,
   "metadata": {
    "collapsed": false
   },
   "outputs": [],
   "source": [
    "casos_chik_por_bairro = casos[casos['doenca'] == 'Chikungunya']['bairro'].value_counts()\n",
    "casos_chik_por_bairro_normalizado = casos_chik_por_bairro / populacao_por_bairro\n",
    "casos_chik_por_bairro_normalizado = casos_chik_por_bairro_normalizado.sort_values().dropna().drop_duplicates()"
   ]
  },
  {
   "cell_type": "code",
   "execution_count": 219,
   "metadata": {
    "collapsed": false
   },
   "outputs": [
    {
     "data": {
      "text/plain": [
       "RICARDO DE ALBUQUERQUE    0.000034\n",
       "SAO CONRADO               0.000273\n",
       "COSME VELHO               0.000279\n",
       "URCA                      0.000283\n",
       "SANTA CRUZ                0.000299\n",
       "dtype: float64"
      ]
     },
     "execution_count": 219,
     "metadata": {},
     "output_type": "execute_result"
    }
   ],
   "source": [
    "casos_chik_por_bairro_normalizado.head()"
   ]
  },
  {
   "cell_type": "code",
   "execution_count": 220,
   "metadata": {
    "collapsed": false
   },
   "outputs": [
    {
     "ename": "AttributeError",
     "evalue": "'Series' object has no attribute 'month'",
     "output_type": "error",
     "traceback": [
      "\u001b[0;31m---------------------------------------------------------------------------\u001b[0m",
      "\u001b[0;31mAttributeError\u001b[0m                            Traceback (most recent call last)",
      "\u001b[0;32m<ipython-input-220-fc8d1ea23ce4>\u001b[0m in \u001b[0;36m<module>\u001b[0;34m()\u001b[0m\n\u001b[0;32m----> 1\u001b[0;31m \u001b[0mpd\u001b[0m\u001b[0;34m.\u001b[0m\u001b[0mgroupby\u001b[0m\u001b[0;34m(\u001b[0m\u001b[0mcasos\u001b[0m\u001b[0;34m[\u001b[0m\u001b[0;34m'dia'\u001b[0m\u001b[0;34m]\u001b[0m\u001b[0;34m,\u001b[0m\u001b[0mby\u001b[0m\u001b[0;34m=\u001b[0m\u001b[0;34m[\u001b[0m\u001b[0mcasos\u001b[0m\u001b[0;34m[\u001b[0m\u001b[0;34m'dia'\u001b[0m\u001b[0;34m]\u001b[0m\u001b[0;34m.\u001b[0m\u001b[0mmonth\u001b[0m\u001b[0;34m,\u001b[0m\u001b[0mcasos\u001b[0m\u001b[0;34m[\u001b[0m\u001b[0;34m'dia'\u001b[0m\u001b[0;34m]\u001b[0m\u001b[0;34m.\u001b[0m\u001b[0myear\u001b[0m\u001b[0;34m]\u001b[0m\u001b[0;34m)\u001b[0m\u001b[0;34m\u001b[0m\u001b[0m\n\u001b[0m",
      "\u001b[0;32m/home/joaomarcosgris/anaconda3/lib/python3.5/site-packages/pandas/core/generic.py\u001b[0m in \u001b[0;36m__getattr__\u001b[0;34m(self, name)\u001b[0m\n\u001b[1;32m   2670\u001b[0m             \u001b[0;32mif\u001b[0m \u001b[0mname\u001b[0m \u001b[0;32min\u001b[0m \u001b[0mself\u001b[0m\u001b[0;34m.\u001b[0m\u001b[0m_info_axis\u001b[0m\u001b[0;34m:\u001b[0m\u001b[0;34m\u001b[0m\u001b[0m\n\u001b[1;32m   2671\u001b[0m                 \u001b[0;32mreturn\u001b[0m \u001b[0mself\u001b[0m\u001b[0;34m[\u001b[0m\u001b[0mname\u001b[0m\u001b[0;34m]\u001b[0m\u001b[0;34m\u001b[0m\u001b[0m\n\u001b[0;32m-> 2672\u001b[0;31m             \u001b[0;32mreturn\u001b[0m \u001b[0mobject\u001b[0m\u001b[0;34m.\u001b[0m\u001b[0m__getattribute__\u001b[0m\u001b[0;34m(\u001b[0m\u001b[0mself\u001b[0m\u001b[0;34m,\u001b[0m \u001b[0mname\u001b[0m\u001b[0;34m)\u001b[0m\u001b[0;34m\u001b[0m\u001b[0m\n\u001b[0m\u001b[1;32m   2673\u001b[0m \u001b[0;34m\u001b[0m\u001b[0m\n\u001b[1;32m   2674\u001b[0m     \u001b[0;32mdef\u001b[0m \u001b[0m__setattr__\u001b[0m\u001b[0;34m(\u001b[0m\u001b[0mself\u001b[0m\u001b[0;34m,\u001b[0m \u001b[0mname\u001b[0m\u001b[0;34m,\u001b[0m \u001b[0mvalue\u001b[0m\u001b[0;34m)\u001b[0m\u001b[0;34m:\u001b[0m\u001b[0;34m\u001b[0m\u001b[0m\n",
      "\u001b[0;31mAttributeError\u001b[0m: 'Series' object has no attribute 'month'"
     ]
    }
   ],
   "source": [
    "pd.groupby(casos['dia'],by=[casos['dia'].month,casos['dia'].year])"
   ]
  },
  {
   "cell_type": "code",
   "execution_count": 221,
   "metadata": {
    "collapsed": false
   },
   "outputs": [],
   "source": [
    "a = pd.to_datetime(casos['dia'])"
   ]
  },
  {
   "cell_type": "code",
   "execution_count": 153,
   "metadata": {
    "collapsed": false
   },
   "outputs": [
    {
     "data": {
      "text/plain": [
       "0        2015-09-17\n",
       "1        2015-04-06\n",
       "2        2015-08-17\n",
       "3        2015-08-17\n",
       "4        2015-02-28\n",
       "5        2015-06-22\n",
       "6        2015-06-30\n",
       "7        2015-08-17\n",
       "8        2015-06-03\n",
       "9        2015-03-18\n",
       "10       2015-03-30\n",
       "11       2015-07-15\n",
       "12       2015-02-11\n",
       "13       2015-07-22\n",
       "14       2015-02-05\n",
       "15       2015-03-19\n",
       "16       2015-03-27\n",
       "17       2015-07-22\n",
       "18       2015-07-22\n",
       "19       2015-08-17\n",
       "20       2015-10-28\n",
       "21       2015-12-24\n",
       "22       2015-07-22\n",
       "23       2015-05-26\n",
       "24       2015-06-22\n",
       "25       2015-09-10\n",
       "26       2015-06-11\n",
       "27       2015-12-22\n",
       "28       2015-12-15\n",
       "29       2015-12-16\n",
       "            ...    \n",
       "102089   2015-12-08\n",
       "102090   2015-12-21\n",
       "102091   2015-12-29\n",
       "102092   2015-12-14\n",
       "102093   2015-12-26\n",
       "102094   2016-04-13\n",
       "102095   2016-05-31\n",
       "102096   2016-06-22\n",
       "102097   2016-01-29\n",
       "102098   2016-01-25\n",
       "102099   2016-04-20\n",
       "102100   2016-04-27\n",
       "102101   2016-01-02\n",
       "102102   2016-02-18\n",
       "102103   2016-02-05\n",
       "102104   2016-01-17\n",
       "102105   2016-03-18\n",
       "102106   2016-05-01\n",
       "102107   2016-05-05\n",
       "102108   2015-12-19\n",
       "102109   2016-02-20\n",
       "102110   2016-02-15\n",
       "102111   2016-01-18\n",
       "102112   2016-01-21\n",
       "102113   2016-03-11\n",
       "102114   2015-12-30\n",
       "102115   2015-12-30\n",
       "102116   2016-03-07\n",
       "102117   2016-03-11\n",
       "102118   2016-03-30\n",
       "Name: dia, dtype: datetime64[ns]"
      ]
     },
     "execution_count": 153,
     "metadata": {},
     "output_type": "execute_result"
    }
   ],
   "source": []
  },
  {
   "cell_type": "code",
   "execution_count": null,
   "metadata": {
    "collapsed": true
   },
   "outputs": [],
   "source": []
  }
 ],
 "metadata": {
  "anaconda-cloud": {},
  "kernelspec": {
   "display_name": "Python [conda root]",
   "language": "python",
   "name": "conda-root-py"
  },
  "language_info": {
   "codemirror_mode": {
    "name": "ipython",
    "version": 3
   },
   "file_extension": ".py",
   "mimetype": "text/x-python",
   "name": "python",
   "nbconvert_exporter": "python",
   "pygments_lexer": "ipython3",
   "version": "3.5.2"
  }
 },
 "nbformat": 4,
 "nbformat_minor": 1
}
