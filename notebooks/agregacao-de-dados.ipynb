{
 "cells": [
  {
   "cell_type": "code",
   "execution_count": 127,
   "metadata": {
    "collapsed": true
   },
   "outputs": [],
   "source": [
    "import pandas as pd"
   ]
  },
  {
   "cell_type": "code",
   "execution_count": 128,
   "metadata": {
    "collapsed": true
   },
   "outputs": [],
   "source": [
    "tweets = pd.read_csv('../data/tweets-dataset-limpo.csv')\n",
    "casos = pd.read_csv('../data/casos-por-bairro-lat-long.csv')\n",
    "clima = pd.read_csv('../data/dados-climaticos-limpo.csv')"
   ]
  },
  {
   "cell_type": "code",
   "execution_count": 129,
   "metadata": {
    "collapsed": false,
    "scrolled": true
   },
   "outputs": [],
   "source": [
    "bairros = casos[['bairro', 'latitude', 'longitude']]"
   ]
  },
  {
   "cell_type": "code",
   "execution_count": 130,
   "metadata": {
    "collapsed": false
   },
   "outputs": [],
   "source": [
    "bairros = bairros.drop_duplicates()"
   ]
  },
  {
   "cell_type": "code",
   "execution_count": 131,
   "metadata": {
    "collapsed": false
   },
   "outputs": [],
   "source": [
    "bair = bairros['bairro'].tolist()\n",
    "lat = bairros['latitude'].tolist()\n",
    "long = bairros['longitude'].tolist()\n",
    "dict_lat = dict(zip(bair, lat))\n",
    "dict_long = dict(zip(bair, long))"
   ]
  },
  {
   "cell_type": "code",
   "execution_count": 132,
   "metadata": {
    "collapsed": false
   },
   "outputs": [
    {
     "data": {
      "text/plain": [
       "{'ABOLICAO': -43.299278899999997,\n",
       " 'ACARI': -43.340555600000002,\n",
       " 'AGUA SANTA': -43.310277800000001,\n",
       " 'ANCHIETA': -43.3958333,\n",
       " 'ANDARAI': -43.249732700000003,\n",
       " 'ANIL': -43.340000000000003,\n",
       " 'BANCARIOS': -43.175927000000001,\n",
       " 'BANGU': -43.466667000000001,\n",
       " 'BARRA DA TIJUCA': -43.365833299999998,\n",
       " 'BARRA DE GUARATIBA': -43.566666699999999,\n",
       " 'BARROS FILHO': -43.366666700000003,\n",
       " 'BENFICA': -43.240000000000002,\n",
       " 'BENTO RIBEIRO': -43.360833300000003,\n",
       " 'BONSUCESSO': -43.253055600000003,\n",
       " 'BOTAFOGO': -43.189999999999998,\n",
       " 'CACHAMBI': -43.283333300000002,\n",
       " 'CACUIA': -43.181980799999998,\n",
       " 'CAJU': -43.220555599999997,\n",
       " 'CAMORIM': -43.438888900000002,\n",
       " 'CAMPINHO': -43.347499999999997,\n",
       " 'CAMPO DOS AFONSOS': -43.3849625,\n",
       " 'CAMPO GRANDE': -43.5625,\n",
       " 'CASCADURA': -43.331880100000006,\n",
       " 'CATETE': -43.179166700000003,\n",
       " 'CATUMBI': -43.196944399999992,\n",
       " 'CAVALCANTI': -43.316666699999999,\n",
       " 'CENTRO': -43.177137799999997,\n",
       " 'CIDADE DE DEUS': -43.363247200000004,\n",
       " 'CIDADE NOVA': -43.202500000000001,\n",
       " 'CIDADE UNIVERSITARIA': -43.233333299999998,\n",
       " 'COCOTA': -43.180770099999997,\n",
       " 'COELHO NETO': -43.350555600000007,\n",
       " 'COLEGIO': -43.340328800000002,\n",
       " 'COMPLEXO DA MARE': -43.243055600000012,\n",
       " 'COMPLEXO DO ALEMAO': -43.272699200000012,\n",
       " 'COPACABANA': -43.180697199999997,\n",
       " 'CORDOVIL': -43.293239300000003,\n",
       " 'COSME VELHO': -43.201011000000001,\n",
       " 'COSMOS': -43.616666700000003,\n",
       " 'COSTA BARROS': -43.369284999999998,\n",
       " 'CURICICA': -43.385804999999998,\n",
       " 'DEL CASTILHO': -43.269073600000013,\n",
       " 'DEODORO': -43.385277799999997,\n",
       " 'ENCANTADO': -43.302222200000003,\n",
       " 'ENGENHEIRO LEAL': -43.325844500000002,\n",
       " 'ENGENHO DE DENTRO': -43.299999999999997,\n",
       " 'ENGENHO NOVO': -43.267499999999998,\n",
       " 'ESTACIO': -43.200000000000003,\n",
       " 'FLAMENGO': -43.174469999999999,\n",
       " 'FREGUESIAILHA': -43.1722945,\n",
       " 'FREGUESIAJPA': -43.334294200000002,\n",
       " 'GALEAO': -43.238055600000003,\n",
       " 'GAMBOA': -43.192777800000002,\n",
       " 'GARDENIA AZUL': -43.350000000000001,\n",
       " 'GAVEA': -43.240059500000001,\n",
       " 'GLORIA': -43.173611100000002,\n",
       " 'GRAJAU': -43.260277799999997,\n",
       " 'GRUMARI': -43.534254299999994,\n",
       " 'GUADALUPE': -43.375277799999999,\n",
       " 'GUARATIBA': -43.579915100000001,\n",
       " 'HIGIENOPOLIS': -43.262777800000002,\n",
       " 'HONORIO GURGEL': -43.357222,\n",
       " 'HUMAITA': -43.202962999999997,\n",
       " 'INHAUMA': -43.281388900000003,\n",
       " 'IPANEMA': -43.204527800000001,\n",
       " 'IRAJA': -43.323611100000001,\n",
       " 'JACARE': -43.257222200000001,\n",
       " 'JACAREPAGUA': -43.416302799999997,\n",
       " 'JACAREZINHO': -43.260277799999997,\n",
       " 'JARDIM AMERICA': -43.323333300000002,\n",
       " 'JARDIM BOTANICO': -43.216666700000012,\n",
       " 'JARDIM CARIOCA': -43.200000000000003,\n",
       " 'JARDIM GUANABARA': -43.203611100000003,\n",
       " 'JARDIM SULACAP': -43.3921967,\n",
       " 'JOA': -43.287500000000001,\n",
       " 'LAGOA': -43.20966,\n",
       " 'LARANJEIRAS': -43191.0,\n",
       " 'LEBLON': -43.222161100000001,\n",
       " 'LEME': -43.1666667,\n",
       " 'LINS DE VASCONCELOS': -43.284722199999997,\n",
       " 'MADUREIRA': -43.336708199999997,\n",
       " 'MAGALHAES BASTOS': -43.413892799999992,\n",
       " 'MANGUEIRA': -43.238888899999999,\n",
       " 'MANGUINHOS': -43.245833300000001,\n",
       " 'MARACANA': -43.231335100000003,\n",
       " 'MARECHAL HERMES': -43.366666700000003,\n",
       " 'MARIA DA GRACA': -43.266666700000002,\n",
       " 'MEIER': -43.283333300000002,\n",
       " 'MONERO': -43.197716999999997,\n",
       " 'OLARIA': -43.266666700000002,\n",
       " 'OSWALDO CRUZ': -43.351189400000003,\n",
       " 'PACIENCIA': -43.632317999999998,\n",
       " 'PADRE MIGUEL': -43.450000000000003,\n",
       " 'PAQUETA': -43.108888899999997,\n",
       " 'PARADA DE LUCAS': -43.299999999999997,\n",
       " 'PARQUE ANCHIETA': -43.4166667,\n",
       " 'PARQUE COLUMBIA': -43.3427425,\n",
       " 'PAVUNA': -43.360277799999999,\n",
       " 'PECHINCHA': -43.356015500000012,\n",
       " 'PEDRA DE GUARATIBA': -43.633333299999997,\n",
       " 'PENHA': -43.277777800000003,\n",
       " 'PENHA CIRCULAR': -43.2858333,\n",
       " 'PIEDADE': -43.3125,\n",
       " 'PILARES': -43.298071100000001,\n",
       " 'PITANGUEIRAS': -43.180770099999997,\n",
       " 'PORTUGUESA': -43.206188400000002,\n",
       " 'PRACA DA BANDEIRA': -43.212238499999998,\n",
       " 'PRACA SECA': -43.350000000000001,\n",
       " 'QUINTINO BOCAIUVA': -43.316666699999999,\n",
       " 'RAMOS': -43.2577778,\n",
       " 'REALENGO': -43.433333300000001,\n",
       " 'RECREIO DOS BANDEIRANTES': -43.479233000000001,\n",
       " 'RIACHUELO': -43.255555600000001,\n",
       " 'RIBEIRA': -43.169444400000003,\n",
       " 'RICARDO DE ALBUQUERQUE': -43.389785400000001,\n",
       " 'RIO COMPRIDO': -43.211028499999998,\n",
       " 'ROCHA': -43.249722200000001,\n",
       " 'ROCHA MIRANDA': -43.350000000000001,\n",
       " 'ROCINHA': -43.246666699999999,\n",
       " 'SAMPAIO': -43.260555600000004,\n",
       " 'SANTA CRUZ': -43685.0,\n",
       " 'SANTA TERESA': -43.211028499999998,\n",
       " 'SANTISSIMO': -43.516666999999998,\n",
       " 'SANTO CRISTO': -43205.0,\n",
       " 'SAO CONRADO': -43.266666700000002,\n",
       " 'SAO CRISTOVAO': -43.222200000000001,\n",
       " 'SAO FRANCISCO XAVIER': -43.243333300000003,\n",
       " 'SAUDE': -43.185612599999999,\n",
       " 'SENADOR CAMARA': -43.5,\n",
       " 'SENADOR VASCONCELOS': -43.533333300000002,\n",
       " 'SEPETIBA': -43.700000000000003,\n",
       " 'TANQUE': -43.3558333,\n",
       " 'TAQUARA': -43.388055600000001,\n",
       " 'TAUA': -43.185555600000001,\n",
       " 'TIJUCA': -43.240059500000001,\n",
       " 'TODOS OS SANTOS': -43285.0,\n",
       " 'TOMAS COELHO': -43.306525499999999,\n",
       " 'TURIACU': -43.343888900000003,\n",
       " 'URCA': -43.166558299999998,\n",
       " 'VARGEM GRANDE': -43.494166700000001,\n",
       " 'VARGEM PEQUENA': -43.463611100000001,\n",
       " 'VAZ LOBO': -43.327051700000013,\n",
       " 'VICENTE DE CARVALHO': -43.317222200000003,\n",
       " 'VIDIGAL': -43.242486,\n",
       " 'VIGARIO GERAL': -43.310277800000001,\n",
       " 'VILA ISABEL': -43.25,\n",
       " 'VILA MILITAR': -43.402777800000003,\n",
       " 'VILA VALQUEIRE': -43.366666700000003,\n",
       " 'VISTA ALEGRE': -43.316111100000001,\n",
       " 'ZUMBI': -43.175555600000003}"
      ]
     },
     "execution_count": 132,
     "metadata": {},
     "output_type": "execute_result"
    }
   ],
   "source": [
    "dict_long"
   ]
  },
  {
   "cell_type": "code",
   "execution_count": 133,
   "metadata": {
    "collapsed": false
   },
   "outputs": [],
   "source": [
    "casos_zika_por_bairro = casos[casos['doenca'] == 'Zika']['bairro'].value_counts()"
   ]
  },
  {
   "cell_type": "code",
   "execution_count": 134,
   "metadata": {
    "collapsed": false
   },
   "outputs": [],
   "source": [
    "populacao_por_bairro = casos[['bairro', 'populacao']].drop_duplicates()"
   ]
  },
  {
   "cell_type": "code",
   "execution_count": 135,
   "metadata": {
    "collapsed": false
   },
   "outputs": [
    {
     "data": {
      "text/html": [
       "<div>\n",
       "<table border=\"1\" class=\"dataframe\">\n",
       "  <thead>\n",
       "    <tr style=\"text-align: right;\">\n",
       "      <th></th>\n",
       "      <th>bairro</th>\n",
       "      <th>populacao</th>\n",
       "    </tr>\n",
       "  </thead>\n",
       "  <tbody>\n",
       "    <tr>\n",
       "      <th>0</th>\n",
       "      <td>TAQUARA</td>\n",
       "      <td>102126</td>\n",
       "    </tr>\n",
       "    <tr>\n",
       "      <th>1957</th>\n",
       "      <td>REALENGO</td>\n",
       "      <td>180123</td>\n",
       "    </tr>\n",
       "    <tr>\n",
       "      <th>6893</th>\n",
       "      <td>IRAJA</td>\n",
       "      <td>96382</td>\n",
       "    </tr>\n",
       "    <tr>\n",
       "      <th>8899</th>\n",
       "      <td>MADUREIRA</td>\n",
       "      <td>50106</td>\n",
       "    </tr>\n",
       "    <tr>\n",
       "      <th>9875</th>\n",
       "      <td>PAVUNA</td>\n",
       "      <td>97350</td>\n",
       "    </tr>\n",
       "  </tbody>\n",
       "</table>\n",
       "</div>"
      ],
      "text/plain": [
       "         bairro  populacao\n",
       "0       TAQUARA     102126\n",
       "1957   REALENGO     180123\n",
       "6893      IRAJA      96382\n",
       "8899  MADUREIRA      50106\n",
       "9875     PAVUNA      97350"
      ]
     },
     "execution_count": 135,
     "metadata": {},
     "output_type": "execute_result"
    }
   ],
   "source": [
    "populacao_por_bairro.head()"
   ]
  },
  {
   "cell_type": "code",
   "execution_count": 136,
   "metadata": {
    "collapsed": false
   },
   "outputs": [],
   "source": [
    "populacao_por_bairro = pd.Series(populacao_por_bairro['populacao'].tolist(),index=populacao_por_bairro['bairro'].tolist())"
   ]
  },
  {
   "cell_type": "code",
   "execution_count": 137,
   "metadata": {
    "collapsed": false
   },
   "outputs": [
    {
     "data": {
      "text/plain": [
       "TAQUARA                   102126\n",
       "REALENGO                  180123\n",
       "IRAJA                      96382\n",
       "MADUREIRA                  50106\n",
       "PAVUNA                     97350\n",
       "OSWALDO CRUZ               34040\n",
       "VILA ISABEL                86018\n",
       "TIJUCA                    163805\n",
       "PACIENCIA                  94626\n",
       "INHAUMA                    64649\n",
       "CAMPINHO                   10156\n",
       "MANGUINHOS                 36160\n",
       "PADRE MIGUEL               64228\n",
       "COMPLEXO DO ALEMAO         69143\n",
       "GUARATIBA                 110049\n",
       "VILA VALQUEIRE             32279\n",
       "ROCHA MIRANDA              44188\n",
       "VIDIGAL                    12797\n",
       "JARDIM SULACAP             13062\n",
       "JACAREZINHO                37839\n",
       "JARDIM BOTANICO            18009\n",
       "SENADOR VASCONCELOS        30600\n",
       "SENADOR CAMARA            105515\n",
       "GUADALUPE                  47144\n",
       "SANTA CRUZ                217333\n",
       "ANCHIETA                   55652\n",
       "GAMBOA                     13108\n",
       "JACAREPAGUA               157326\n",
       "VARGEM GRANDE              14039\n",
       "SEPETIBA                   56575\n",
       "                           ...  \n",
       "HONORIO GURGEL             21989\n",
       "LAGOA                      21198\n",
       "MANGUEIRA                  17835\n",
       "COELHO NETO                32423\n",
       "COMPLEXO DA MARE          129770\n",
       "SAO FRANCISCO XAVIER        8343\n",
       "RIBEIRA                     3528\n",
       "VISTA ALEGRE                8622\n",
       "JACARE                      9276\n",
       "JARDIM GUANABARA           32213\n",
       "CAMPO DOS AFONSOS           1365\n",
       "CAJU                       20477\n",
       "PAQUETA                     3361\n",
       "PRACA DA BANDEIRA           8662\n",
       "ROCHA                       8766\n",
       "SAMPAIO                    10895\n",
       "SAUDE                       2749\n",
       "SANTO CRISTO               12330\n",
       "URCA                        7061\n",
       "BANCARIOS                  12512\n",
       "CAMORIM                     1970\n",
       "CACUIA                     11013\n",
       "ENGENHEIRO LEAL             6113\n",
       "RICARDO DE ALBUQUERQUE     29310\n",
       "CIDADE UNIVERSITARIA        1556\n",
       "ZUMBI                       2016\n",
       "JOA                          818\n",
       "CAVALCANTI                 16141\n",
       "PARQUE COLUMBIA             9202\n",
       "GRUMARI                      167\n",
       "dtype: int64"
      ]
     },
     "execution_count": 137,
     "metadata": {},
     "output_type": "execute_result"
    }
   ],
   "source": [
    "populacao_por_bairro"
   ]
  },
  {
   "cell_type": "code",
   "execution_count": 138,
   "metadata": {
    "collapsed": false
   },
   "outputs": [],
   "source": [
    "casos_zika_por_bairro_normalizado = casos_zika_por_bairro / populacao_por_bairro"
   ]
  },
  {
   "cell_type": "code",
   "execution_count": 139,
   "metadata": {
    "collapsed": false
   },
   "outputs": [],
   "source": [
    "casos_zika_por_bairro_normalizado = casos_zika_por_bairro_normalizado.sort_values().dropna().drop_duplicates()"
   ]
  },
  {
   "cell_type": "code",
   "execution_count": 140,
   "metadata": {
    "collapsed": false
   },
   "outputs": [
    {
     "data": {
      "text/plain": [
       "RECREIO DOS BANDEIRANTES    0.000085\n",
       "CAVALCANTI                  0.000496\n",
       "PARQUE COLUMBIA             0.000761\n",
       "MARIA DA GRACA              0.001129\n",
       "JOA                         0.001222\n",
       "VILA MILITAR                0.001289\n",
       "LEBLON                      0.001303\n",
       "JACAREZINHO                 0.001348\n",
       "PARQUE ANCHIETA             0.001717\n",
       "RICARDO DE ALBUQUERQUE      0.001774\n",
       "LAGOA                       0.001981\n",
       "SAO CONRADO                 0.002004\n",
       "GAVEA                       0.002187\n",
       "FLAMENGO                    0.002358\n",
       "LARANJEIRAS                 0.002503\n",
       "BANGU                       0.002665\n",
       "SENADOR CAMARA              0.002692\n",
       "JARDIM BOTANICO             0.002832\n",
       "JACAREPAGUA                 0.002854\n",
       "IPANEMA                     0.002901\n",
       "MANGUINHOS                  0.002904\n",
       "BARRA DA TIJUCA             0.002921\n",
       "TODOS OS SANTOS             0.002921\n",
       "COSME VELHO                 0.002926\n",
       "CAMPO DOS AFONSOS           0.002930\n",
       "TAUA                        0.003179\n",
       "PRACA DA BANDEIRA           0.003233\n",
       "PADRE MIGUEL                0.003254\n",
       "OSWALDO CRUZ                0.003261\n",
       "ENGENHEIRO LEAL             0.003272\n",
       "                              ...   \n",
       "PRACA SECA                  0.009806\n",
       "VIDIGAL                     0.010315\n",
       "SANTA TERESA                0.010629\n",
       "RIO COMPRIDO                0.010671\n",
       "PACIENCIA                   0.010716\n",
       "TAQUARA                     0.010722\n",
       "CAJU                        0.010744\n",
       "JACARE                      0.011320\n",
       "SAO FRANCISCO XAVIER        0.011387\n",
       "SAMPAIO                     0.011840\n",
       "CENTRO                      0.012129\n",
       "ESTACIO                     0.012392\n",
       "ANIL                        0.012577\n",
       "SAO CRISTOVAO               0.013014\n",
       "ROCINHA                     0.013121\n",
       "GUARATIBA                   0.013867\n",
       "VARGEM GRANDE               0.014104\n",
       "GARDENIA AZUL               0.014620\n",
       "CATUMBI                     0.014973\n",
       "BONSUCESSO                  0.015285\n",
       "VISTA ALEGRE                0.017049\n",
       "CURICICA                    0.017186\n",
       "ZUMBI                       0.017857\n",
       "SANTO CRISTO                0.018005\n",
       "SEPETIBA                    0.019443\n",
       "COSTA BARROS                0.019865\n",
       "CAMORIM                     0.020305\n",
       "PEDRA DE GUARATIBA          0.036046\n",
       "BARRA DE GUARATIBA          0.039419\n",
       "PAQUETA                     0.043142\n",
       "dtype: float64"
      ]
     },
     "execution_count": 140,
     "metadata": {},
     "output_type": "execute_result"
    }
   ],
   "source": [
    "casos_zika_por_bairro_normalizado"
   ]
  },
  {
   "cell_type": "code",
   "execution_count": 141,
   "metadata": {
    "collapsed": true
   },
   "outputs": [],
   "source": [
    "casos_dengue_por_bairro = casos[casos['doenca'] == 'Dengue']['bairro'].value_counts()"
   ]
  },
  {
   "cell_type": "code",
   "execution_count": 142,
   "metadata": {
    "collapsed": false
   },
   "outputs": [],
   "source": [
    "casos_dengue_por_bairro_normalizado = casos_dengue_por_bairro / populacao_por_bairro"
   ]
  },
  {
   "cell_type": "code",
   "execution_count": 143,
   "metadata": {
    "collapsed": false
   },
   "outputs": [],
   "source": [
    "casos_dengue_por_bairro_normalizado = casos_dengue_por_bairro_normalizado.sort_values().dropna().drop_duplicates()"
   ]
  },
  {
   "cell_type": "code",
   "execution_count": 144,
   "metadata": {
    "collapsed": false,
    "scrolled": true
   },
   "outputs": [
    {
     "data": {
      "text/plain": [
       "RICARDO DE ALBUQUERQUE    0.000136\n",
       "COMPLEXO DA MARE          0.001056\n",
       "JOA                       0.001222\n",
       "VILA MILITAR              0.001593\n",
       "FREGUESIAILHA             0.001595\n",
       "LAGOA                     0.001604\n",
       "PORTUGUESA                0.001761\n",
       "JARDIM GUANABARA          0.001863\n",
       "BANCARIOS                 0.002078\n",
       "JARDIM CARIOCA            0.002093\n",
       "HUMAITA                   0.002108\n",
       "PARQUE ANCHIETA           0.002251\n",
       "TAUA                      0.002266\n",
       "RIBEIRA                   0.002268\n",
       "JACAREZINHO               0.002273\n",
       "LARANJEIRAS               0.002503\n",
       "AGUA SANTA                0.002513\n",
       "CAMPO GRANDE              0.002573\n",
       "LEBLON                    0.002606\n",
       "FLAMENGO                  0.002738\n",
       "MANGUEIRA                 0.002747\n",
       "IPANEMA                   0.002784\n",
       "URCA                      0.002832\n",
       "CAMPO DOS AFONSOS         0.002930\n",
       "CACUIA                    0.002996\n",
       "JARDIM BOTANICO           0.002999\n",
       "COPACABANA                0.002999\n",
       "ANDARAI                   0.003277\n",
       "JACAREPAGUA               0.003502\n",
       "TODOS OS SANTOS           0.003530\n",
       "                            ...   \n",
       "ACARI                     0.010495\n",
       "MAGALHAES BASTOS          0.010684\n",
       "COSTA BARROS              0.010759\n",
       "MADUREIRA                 0.010797\n",
       "CURICICA                  0.011030\n",
       "SAO FRANCISCO XAVIER      0.011147\n",
       "GARDENIA AZUL             0.011233\n",
       "CAMORIM                   0.011675\n",
       "VARGEM GRANDE             0.011895\n",
       "IRAJA                     0.012035\n",
       "RAMOS                     0.012233\n",
       "BONSUCESSO                0.013682\n",
       "PEDRA DE GUARATIBA        0.014439\n",
       "JACARE                    0.014769\n",
       "ROCHA MIRANDA             0.015683\n",
       "BARRA DE GUARATIBA        0.015935\n",
       "PENHA                     0.017006\n",
       "COLEGIO                   0.017234\n",
       "REALENGO                  0.017266\n",
       "CAMPINHO                  0.018905\n",
       "SENADOR CAMARA            0.019068\n",
       "VISTA ALEGRE              0.019601\n",
       "VILA ISABEL               0.019612\n",
       "JARDIM SULACAP            0.019905\n",
       "PADRE MIGUEL              0.020396\n",
       "SAMPAIO                   0.020743\n",
       "BANGU                     0.021343\n",
       "PAQUETA                   0.024100\n",
       "COMPLEXO DO ALEMAO        0.032397\n",
       "CATUMBI                   0.068095\n",
       "dtype: float64"
      ]
     },
     "execution_count": 144,
     "metadata": {},
     "output_type": "execute_result"
    }
   ],
   "source": [
    "casos_dengue_por_bairro_normalizado"
   ]
  },
  {
   "cell_type": "code",
   "execution_count": 145,
   "metadata": {
    "collapsed": false
   },
   "outputs": [],
   "source": [
    "casos_chik_por_bairro = casos[casos['doenca'] == 'Chikungunya']['bairro'].value_counts()\n",
    "casos_chik_por_bairro_normalizado = casos_chik_por_bairro / populacao_por_bairro\n",
    "casos_chik_por_bairro_normalizado = casos_chik_por_bairro_normalizado.sort_values().dropna().drop_duplicates()"
   ]
  },
  {
   "cell_type": "code",
   "execution_count": 163,
   "metadata": {
    "collapsed": false
   },
   "outputs": [],
   "source": [
    "from scipy.stats import pearsonr"
   ]
  },
  {
   "cell_type": "code",
   "execution_count": 176,
   "metadata": {
    "collapsed": false
   },
   "outputs": [],
   "source": [
    "a = pd.concat([casos_chik_por_bairro_normalizado, casos_dengue_por_bairro_normalizado, casos_zika_por_bairro_normalizado], axis=1).dropna()"
   ]
  },
  {
   "cell_type": "code",
   "execution_count": 177,
   "metadata": {
    "collapsed": false
   },
   "outputs": [
    {
     "data": {
      "text/plain": [
       "ABOLICAO                0.006957\n",
       "ACARI                   0.010495\n",
       "AGUA SANTA              0.002513\n",
       "ANCHIETA                0.004348\n",
       "ANDARAI                 0.003277\n",
       "ANIL                    0.009019\n",
       "BANCARIOS               0.002078\n",
       "BANGU                   0.021343\n",
       "BARRA DA TIJUCA         0.003620\n",
       "BARRA DE GUARATIBA      0.015935\n",
       "BARROS FILHO            0.007331\n",
       "BENFICA                 0.005263\n",
       "BENTO RIBEIRO           0.005834\n",
       "BONSUCESSO              0.013682\n",
       "BOTAFOGO                0.003535\n",
       "CACHAMBI                0.004786\n",
       "CACUIA                  0.002996\n",
       "CAJU                    0.006300\n",
       "CAMORIM                 0.011675\n",
       "CAMPINHO                0.018905\n",
       "CAMPO DOS AFONSOS       0.002930\n",
       "CAMPO GRANDE            0.002573\n",
       "CASCADURA               0.006675\n",
       "CATETE                  0.009852\n",
       "CATUMBI                 0.068095\n",
       "CENTRO                  0.010087\n",
       "CIDADE DE DEUS          0.008243\n",
       "CIDADE NOVA             0.006220\n",
       "CIDADE UNIVERSITARIA    0.005784\n",
       "COCOTA                  0.004101\n",
       "                          ...   \n",
       "SANTA CRUZ              0.004813\n",
       "SANTA TERESA            0.009700\n",
       "SANTISSIMO              0.006223\n",
       "SANTO CRISTO            0.009002\n",
       "SAO CONRADO             0.004007\n",
       "SAO CRISTOVAO           0.009657\n",
       "SAO FRANCISCO XAVIER    0.011147\n",
       "SAUDE                   0.005093\n",
       "SENADOR CAMARA          0.019068\n",
       "SENADOR VASCONCELOS     0.006111\n",
       "SEPETIBA                0.006098\n",
       "TANQUE                  0.006736\n",
       "TAQUARA                 0.007060\n",
       "TAUA                    0.002266\n",
       "TIJUCA                  0.009194\n",
       "TODOS OS SANTOS         0.003530\n",
       "TOMAS COELHO            0.007629\n",
       "TURIACU                 0.008408\n",
       "URCA                    0.002832\n",
       "VARGEM GRANDE           0.011895\n",
       "VARGEM PEQUENA          0.004697\n",
       "VAZ LOBO                0.010351\n",
       "VICENTE DE CARVALHO     0.009574\n",
       "VIDIGAL                 0.008596\n",
       "VIGARIO GERAL           0.005308\n",
       "VILA ISABEL             0.019612\n",
       "VILA MILITAR            0.001593\n",
       "VILA VALQUEIRE          0.007745\n",
       "VISTA ALEGRE            0.019601\n",
       "ZUMBI                   0.006448\n",
       "Name: 1, dtype: float64"
      ]
     },
     "execution_count": 177,
     "metadata": {},
     "output_type": "execute_result"
    }
   ],
   "source": [
    "a[1]"
   ]
  },
  {
   "cell_type": "code",
   "execution_count": 181,
   "metadata": {
    "collapsed": false
   },
   "outputs": [
    {
     "data": {
      "text/plain": [
       "(0.63132675962054974, 4.7649146768348829e-17)"
      ]
     },
     "execution_count": 181,
     "metadata": {},
     "output_type": "execute_result"
    }
   ],
   "source": [
    "pearsonr(a[0], a[1])"
   ]
  },
  {
   "cell_type": "code",
   "execution_count": 151,
   "metadata": {
    "collapsed": false
   },
   "outputs": [
    {
     "data": {
      "text/plain": [
       "0.0046671363156040859"
      ]
     },
     "execution_count": 151,
     "metadata": {},
     "output_type": "execute_result"
    }
   ],
   "source": [
    "casos_chik_por_bairro_normalizado['ABOLICAO']"
   ]
  },
  {
   "cell_type": "code",
   "execution_count": 220,
   "metadata": {
    "collapsed": false
   },
   "outputs": [
    {
     "ename": "AttributeError",
     "evalue": "'Series' object has no attribute 'month'",
     "output_type": "error",
     "traceback": [
      "\u001b[0;31m---------------------------------------------------------------------------\u001b[0m",
      "\u001b[0;31mAttributeError\u001b[0m                            Traceback (most recent call last)",
      "\u001b[0;32m<ipython-input-220-fc8d1ea23ce4>\u001b[0m in \u001b[0;36m<module>\u001b[0;34m()\u001b[0m\n\u001b[0;32m----> 1\u001b[0;31m \u001b[0mpd\u001b[0m\u001b[0;34m.\u001b[0m\u001b[0mgroupby\u001b[0m\u001b[0;34m(\u001b[0m\u001b[0mcasos\u001b[0m\u001b[0;34m[\u001b[0m\u001b[0;34m'dia'\u001b[0m\u001b[0;34m]\u001b[0m\u001b[0;34m,\u001b[0m\u001b[0mby\u001b[0m\u001b[0;34m=\u001b[0m\u001b[0;34m[\u001b[0m\u001b[0mcasos\u001b[0m\u001b[0;34m[\u001b[0m\u001b[0;34m'dia'\u001b[0m\u001b[0;34m]\u001b[0m\u001b[0;34m.\u001b[0m\u001b[0mmonth\u001b[0m\u001b[0;34m,\u001b[0m\u001b[0mcasos\u001b[0m\u001b[0;34m[\u001b[0m\u001b[0;34m'dia'\u001b[0m\u001b[0;34m]\u001b[0m\u001b[0;34m.\u001b[0m\u001b[0myear\u001b[0m\u001b[0;34m]\u001b[0m\u001b[0;34m)\u001b[0m\u001b[0;34m\u001b[0m\u001b[0m\n\u001b[0m",
      "\u001b[0;32m/home/joaomarcosgris/anaconda3/lib/python3.5/site-packages/pandas/core/generic.py\u001b[0m in \u001b[0;36m__getattr__\u001b[0;34m(self, name)\u001b[0m\n\u001b[1;32m   2670\u001b[0m             \u001b[0;32mif\u001b[0m \u001b[0mname\u001b[0m \u001b[0;32min\u001b[0m \u001b[0mself\u001b[0m\u001b[0;34m.\u001b[0m\u001b[0m_info_axis\u001b[0m\u001b[0;34m:\u001b[0m\u001b[0;34m\u001b[0m\u001b[0m\n\u001b[1;32m   2671\u001b[0m                 \u001b[0;32mreturn\u001b[0m \u001b[0mself\u001b[0m\u001b[0;34m[\u001b[0m\u001b[0mname\u001b[0m\u001b[0;34m]\u001b[0m\u001b[0;34m\u001b[0m\u001b[0m\n\u001b[0;32m-> 2672\u001b[0;31m             \u001b[0;32mreturn\u001b[0m \u001b[0mobject\u001b[0m\u001b[0;34m.\u001b[0m\u001b[0m__getattribute__\u001b[0m\u001b[0;34m(\u001b[0m\u001b[0mself\u001b[0m\u001b[0;34m,\u001b[0m \u001b[0mname\u001b[0m\u001b[0;34m)\u001b[0m\u001b[0;34m\u001b[0m\u001b[0m\n\u001b[0m\u001b[1;32m   2673\u001b[0m \u001b[0;34m\u001b[0m\u001b[0m\n\u001b[1;32m   2674\u001b[0m     \u001b[0;32mdef\u001b[0m \u001b[0m__setattr__\u001b[0m\u001b[0;34m(\u001b[0m\u001b[0mself\u001b[0m\u001b[0;34m,\u001b[0m \u001b[0mname\u001b[0m\u001b[0;34m,\u001b[0m \u001b[0mvalue\u001b[0m\u001b[0;34m)\u001b[0m\u001b[0;34m:\u001b[0m\u001b[0;34m\u001b[0m\u001b[0m\n",
      "\u001b[0;31mAttributeError\u001b[0m: 'Series' object has no attribute 'month'"
     ]
    }
   ],
   "source": [
    "pd.groupby(casos['dia'],by=[casos['dia'].month,casos['dia'].year])"
   ]
  },
  {
   "cell_type": "code",
   "execution_count": 64,
   "metadata": {
    "collapsed": false
   },
   "outputs": [],
   "source": [
    "casos['dia'] = pd.to_datetime(casos['dia'])"
   ]
  },
  {
   "cell_type": "code",
   "execution_count": 73,
   "metadata": {
    "collapsed": false
   },
   "outputs": [
    {
     "data": {
      "text/plain": [
       "-164"
      ]
     },
     "execution_count": 73,
     "metadata": {},
     "output_type": "execute_result"
    }
   ],
   "source": [
    "(casos['dia'][1] - casos['dia'][0]).days"
   ]
  },
  {
   "cell_type": "code",
   "execution_count": 75,
   "metadata": {
    "collapsed": false
   },
   "outputs": [],
   "source": [
    "casos_selva = casos[casos['dia'] >= '2015-01-01']"
   ]
  },
  {
   "cell_type": "code",
   "execution_count": 78,
   "metadata": {
    "collapsed": true
   },
   "outputs": [],
   "source": [
    "from datetime import datetime"
   ]
  },
  {
   "cell_type": "code",
   "execution_count": 92,
   "metadata": {
    "collapsed": false
   },
   "outputs": [
    {
     "data": {
      "text/plain": [
       "Timedelta('94 days 20:34:17.142857')"
      ]
     },
     "execution_count": 92,
     "metadata": {},
     "output_type": "execute_result"
    }
   ],
   "source": [
    "(max(casos_selva['dia']) - min(casos_selva['dia'])) /7"
   ]
  },
  {
   "cell_type": "code",
   "execution_count": 95,
   "metadata": {
    "collapsed": false
   },
   "outputs": [
    {
     "name": "stderr",
     "output_type": "stream",
     "text": [
      "/home/joaomarcosgris/anaconda3/lib/python3.5/site-packages/ipykernel/__main__.py:1: SettingWithCopyWarning: \n",
      "A value is trying to be set on a copy of a slice from a DataFrame.\n",
      "Try using .loc[row_indexer,col_indexer] = value instead\n",
      "\n",
      "See the caveats in the documentation: http://pandas.pydata.org/pandas-docs/stable/indexing.html#indexing-view-versus-copy\n",
      "  if __name__ == '__main__':\n"
     ]
    }
   ],
   "source": [
    "casos_selva['semana'] = (casos_selva['dia'] - min(casos_selva['dia']))"
   ]
  },
  {
   "cell_type": "code",
   "execution_count": 99,
   "metadata": {
    "collapsed": false
   },
   "outputs": [
    {
     "name": "stderr",
     "output_type": "stream",
     "text": [
      "/home/joaomarcosgris/anaconda3/lib/python3.5/site-packages/ipykernel/__main__.py:1: SettingWithCopyWarning: \n",
      "A value is trying to be set on a copy of a slice from a DataFrame.\n",
      "Try using .loc[row_indexer,col_indexer] = value instead\n",
      "\n",
      "See the caveats in the documentation: http://pandas.pydata.org/pandas-docs/stable/indexing.html#indexing-view-versus-copy\n",
      "  if __name__ == '__main__':\n"
     ]
    }
   ],
   "source": [
    "casos_selva['n_semana'] = casos_selva['semana']/7"
   ]
  },
  {
   "cell_type": "code",
   "execution_count": 105,
   "metadata": {
    "collapsed": true
   },
   "outputs": [],
   "source": [
    "def altera(x):\n",
    "    return x.days"
   ]
  },
  {
   "cell_type": "code",
   "execution_count": 106,
   "metadata": {
    "collapsed": false
   },
   "outputs": [
    {
     "name": "stderr",
     "output_type": "stream",
     "text": [
      "/home/joaomarcosgris/anaconda3/lib/python3.5/site-packages/ipykernel/__main__.py:1: SettingWithCopyWarning: \n",
      "A value is trying to be set on a copy of a slice from a DataFrame.\n",
      "Try using .loc[row_indexer,col_indexer] = value instead\n",
      "\n",
      "See the caveats in the documentation: http://pandas.pydata.org/pandas-docs/stable/indexing.html#indexing-view-versus-copy\n",
      "  if __name__ == '__main__':\n"
     ]
    }
   ],
   "source": [
    "casos_selva['semana_numero'] = casos_selva['n_semana'].apply(altera)"
   ]
  },
  {
   "cell_type": "code",
   "execution_count": 125,
   "metadata": {
    "collapsed": false
   },
   "outputs": [
    {
     "name": "stdout",
     "output_type": "stream",
     "text": [
      "[{'PILARES': 1}, {'ABOLICAO': 1, 'SANTO CRISTO': 1, 'TAQUARA': 1, 'SEPETIBA': 1}, {'SANTA CRUZ': 1, 'VISTA ALEGRE': 1}, {}, {'COSTA BARROS': 1, 'SANTA CRUZ': 1, 'CIDADE DE DEUS': 1, 'TAQUARA': 1, 'CURICICA': 1}, {}, {}, {}, {}, {}, {}, {'ENGENHO DE DENTRO': 1}, {}, {'SANTISSIMO': 1}, {'ENGENHO DE DENTRO': 1, 'TIJUCA': 1}, {}, {'SENADOR CAMARA': 1, 'BARRA DA TIJUCA': 1, 'HIGIENOPOLIS': 1, 'ENGENHO NOVO': 1, 'TIJUCA': 3, 'PADRE MIGUEL': 1}, {'COLEGIO': 1, 'BOTAFOGO': 1, 'PENHA': 1, 'BANGU': 1}, {'FLAMENGO': 1, 'BANGU': 8, 'MANGUINHOS': 1, 'SENADOR CAMARA': 1, 'CAMPO GRANDE': 1, 'REALENGO': 3, 'PADRE MIGUEL': 8}, {'MARECHAL HERMES': 1, 'MANGUINHOS': 1, 'FLAMENGO': 1, 'CAMPINHO': 1, 'PIEDADE': 1, 'REALENGO': 4, 'MEIER': 1, 'BARRA DA TIJUCA': 3, 'PADRE MIGUEL': 2, 'SENADOR CAMARA': 1, 'RIO COMPRIDO': 1, 'BANGU': 6}, {'TODOS OS SANTOS': 1, 'DEL CASTILHO': 1, 'SAMPAIO': 1, 'LINS DE VASCONCELOS': 1, 'RAMOS': 1, 'ROCINHA': 1, 'MANGUINHOS': 2, 'CAMPO GRANDE': 1, 'REALENGO': 2, 'OSWALDO CRUZ': 1, 'PORTUGUESA': 1, 'PADRE MIGUEL': 3, 'SENADOR CAMARA': 1, 'TANQUE': 1, 'MADUREIRA': 2, 'RIO COMPRIDO': 3, 'BANGU': 4}, {'SENADOR CAMARA': 1, 'MADUREIRA': 1, 'TIJUCA': 1, 'TAQUARA': 1}, {'VICENTE DE CARVALHO': 1, 'SANTA TERESA': 1, 'PENHA': 1, 'CACHAMBI': 1, 'RAMOS': 1, 'MADUREIRA': 1, 'ENCANTADO': 1, 'IRAJA': 1, 'IPANEMA': 1}, {'PRACA SECA': 1, 'GUADALUPE': 1, 'INHAUMA': 1, 'RAMOS': 1, 'VILA VALQUEIRE': 1, 'TIJUCA': 3}, {'DEL CASTILHO': 1, 'COPACABANA': 1, 'BONSUCESSO': 1, 'CATETE': 1, 'FLAMENGO': 1, 'RAMOS': 1}, {'VISTA ALEGRE': 1, 'SANTISSIMO': 1, 'TIJUCA': 1, 'ROCHA MIRANDA': 1, 'COLEGIO': 1, 'RIO COMPRIDO': 1, 'IRAJA': 3}, {'DEL CASTILHO': 1, 'TOMAS COELHO': 1, 'ROCHA': 1, 'BONSUCESSO': 1, 'MANGUINHOS': 5, 'ENGENHO DE DENTRO': 1, 'RAMOS': 1, 'GALEAO': 1, 'TIJUCA': 1, 'OSWALDO CRUZ': 1, 'MANGUEIRA': 1}, {'JARDIM BOTANICO': 1, 'BONSUCESSO': 1, 'TIJUCA': 2, 'COSTA BARROS': 1, 'CACHAMBI': 1}, {'COLEGIO': 1}, {'SENADOR CAMARA': 2, 'COELHO NETO': 1, 'BENFICA': 1, 'VILA VALQUEIRE': 1, 'IRAJA': 2}, {'CAMPO GRANDE': 1, 'BANGU': 2}, {'CENTRO': 1}, {'BANGU': 1}, {'ROCHA MIRANDA': 1, 'GUARATIBA': 2, 'BANGU': 1, 'PADRE MIGUEL': 1}, {'SENADOR CAMARA': 1, 'TIJUCA': 1}, {'TIJUCA': 1}, {'TIJUCA': 1}, {}, {'BARRA DA TIJUCA': 1, 'MANGUINHOS': 1, 'QUINTINO BOCAIUVA': 1, 'SAO CRISTOVAO': 1, 'PEDRA DE GUARATIBA': 1, 'TIJUCA': 2, 'PADRE MIGUEL': 1, 'JARDIM GUANABARA': 1}, {'COSMOS': 1, 'INHAUMA': 1, 'VARGEM PEQUENA': 1, 'TAQUARA': 1}, {'MANGUINHOS': 1, 'GRAJAU': 1, 'SEPETIBA': 1, 'OLARIA': 1, 'CACHAMBI': 1, 'RAMOS': 1}, {'GRAJAU': 1, 'JACAREZINHO': 1, 'TANQUE': 1, 'RAMOS': 1, 'BANGU': 2}, {'GUARATIBA': 1, 'HONORIO GURGEL': 2, 'MANGUINHOS': 1, 'CACHAMBI': 1, 'ABOLICAO': 1, 'TIJUCA': 1, 'BONSUCESSO': 1, 'TURIACU': 1, 'ROCHA MIRANDA': 1, 'COLEGIO': 1, 'GALEAO': 1, 'RIO COMPRIDO': 1}, {'HONORIO GURGEL': 1, 'TURIACU': 2, 'CACHAMBI': 1, 'GUARATIBA': 2, 'TIJUCA': 1, 'BANGU': 1}, {'JACARE': 3, 'COSMOS': 2, 'SANTISSIMO': 1, 'MEIER': 2, 'REALENGO': 1, 'TIJUCA': 1, 'ANCHIETA': 1, 'BENTO RIBEIRO': 1, 'PENHA': 2, 'MADUREIRA': 2, 'GUARATIBA': 1, 'JACAREPAGUA': 1, 'CENTRO': 2, 'SANTA TERESA': 2, 'VICENTE DE CARVALHO': 1, 'SAUDE': 1, 'FLAMENGO': 1, 'CAMPO GRANDE': 2, 'BOTAFOGO': 1, 'ESTACIO': 1, 'TAQUARA': 1, 'LAGOA': 1, 'ENGENHO DE DENTRO': 2, 'BANGU': 1, 'PENHA CIRCULAR': 1, 'RIO COMPRIDO': 2, 'PADRE MIGUEL': 1, 'IPANEMA': 1}, {'COSMOS': 1, 'LINS DE VASCONCELOS': 2, 'PACIENCIA': 2, 'ENGENHO NOVO': 1, 'COSTA BARROS': 1, 'PIEDADE': 3, 'TIJUCA': 1, 'BENTO RIBEIRO': 1, 'CATUMBI': 2, 'LARANJEIRAS': 1, 'SEPETIBA': 1, 'QUINTINO BOCAIUVA': 1, 'CASCADURA': 1, 'CENTRO': 1, 'GUARATIBA': 1, 'SANTA CRUZ': 2, 'DEL CASTILHO': 1, 'SANTA TERESA': 1, 'RAMOS': 1, 'HONORIO GURGEL': 1, 'MARECHAL HERMES': 1, 'CACHAMBI': 1, 'FLAMENGO': 3, 'CAMPO GRANDE': 2, 'OLARIA': 2, 'TANQUE': 1, 'RIO COMPRIDO': 1, 'PAQUETA': 1, 'MAGALHAES BASTOS': 1, 'ENGENHO DE DENTRO': 1, 'PILARES': 2, 'ROCHA': 1, 'BONSUCESSO': 1, 'TAUA': 1, 'SAO CRISTOVAO': 2, 'INHAUMA': 1, 'ROCHA MIRANDA': 2, 'COLEGIO': 1, 'GRAJAU': 1, 'BANGU': 1, 'COMPLEXO DO ALEMAO': 1}, {'COSMOS': 4, 'COELHO NETO': 1, 'PACIENCIA': 2, 'SANTISSIMO': 2, 'MEIER': 2, 'ABOLICAO': 6, 'DEODORO': 1, 'CAMPINHO': 1, 'CORDOVIL': 1, 'BENTO RIBEIRO': 2, 'PILARES': 1, 'COPACABANA': 1, 'SENADOR CAMARA': 1, 'CASCADURA': 4, 'MADUREIRA': 3, 'ENCANTADO': 1, 'IRAJA': 1, 'SANTA TERESA': 4, 'BARROS FILHO': 2, 'MARECHAL HERMES': 4, 'CAMPO GRANDE': 18, 'BOTAFOGO': 1, 'ENGENHO DE DENTRO': 1, 'TAQUARA': 3, 'VILA ISABEL': 1, 'TOMAS COELHO': 1, 'TANQUE': 4, 'VIGARIO GERAL': 3, 'JARDIM AMERICA': 1, 'ROCHA MIRANDA': 2, 'SANTA CRUZ': 2, 'BENFICA': 1, 'PIEDADE': 1, 'BANGU': 1, 'LINS DE VASCONCELOS': 4, 'ENGENHO NOVO': 3, 'COSTA BARROS': 2, 'JARDIM SULACAP': 1, 'TIJUCA': 1, 'ANCHIETA': 3, 'CATUMBI': 4, 'GRAJAU': 1, 'ANIL': 2, 'PAVUNA': 1, 'GUARATIBA': 8, 'JACAREPAGUA': 3, 'DEL CASTILHO': 2, 'PECHINCHA': 1, 'LEME': 2, 'VICENTE DE CARVALHO': 1, 'VILA VALQUEIRE': 1, 'ACARI': 2, 'CATETE': 1, 'FLAMENGO': 1, 'SAO CRISTOVAO': 1, 'CACHAMBI': 5, 'ESTACIO': 1, 'OSWALDO CRUZ': 1, 'RIO COMPRIDO': 1, 'MAGALHAES BASTOS': 3, 'PRACA SECA': 2, 'COLEGIO': 1, 'SANTO CRISTO': 1, 'LARANJEIRAS': 1, 'TAUA': 1, 'INHAUMA': 4, 'REALENGO': 1, 'CURICICA': 3}, {'COELHO NETO': 7, 'JACARE': 1, 'PACIENCIA': 21, 'SANTISSIMO': 2, 'DEODORO': 1, 'URCA': 1, 'PILARES': 5, 'IRAJA': 26, 'AGUA SANTA': 1, 'VAZ LOBO': 1, 'CAMPO GRANDE': 72, 'OLARIA': 1, 'PEDRA DE GUARATIBA': 2, 'TAQUARA': 3, 'JARDIM BOTANICO': 1, 'TOMAS COELHO': 1, 'VIGARIO GERAL': 2, 'GRAJAU': 4, 'COLEGIO': 4, 'VILA VALQUEIRE': 4, 'CACUIA': 1, 'LINS DE VASCONCELOS': 7, 'BANCARIOS': 1, 'COSTA BARROS': 26, 'PIEDADE': 3, 'TIJUCA': 2, 'PAVUNA': 18, 'GUADALUPE': 3, 'PENHA': 6, 'TURIACU': 1, 'ROCHA MIRANDA': 8, 'SANTA CRUZ': 20, 'GUARATIBA': 18, 'JACAREPAGUA': 4, 'JARDIM GUANABARA': 1, 'DEL CASTILHO': 2, 'ACARI': 6, 'CACHAMBI': 3, 'SAO CRISTOVAO': 2, 'ESTACIO': 3, 'SAO FRANCISCO XAVIER': 1, 'OSWALDO CRUZ': 1, 'PRACA SECA': 9, 'SANTO CRISTO': 2, 'TAUA': 3, 'COCOTA': 1, 'PADRE MIGUEL': 1, 'GLORIA': 1, 'COSMOS': 6, 'CAJU': 1, 'MEIER': 4, 'ABOLICAO': 2, 'REALENGO': 10, 'CORDOVIL': 3, 'MARACANA': 1, 'COPACABANA': 7, 'CASCADURA': 4, 'QUINTINO BOCAIUVA': 3, 'SEPETIBA': 1, 'MADUREIRA': 4, 'CENTRO': 11, 'RIACHUELO': 3, 'SAMPAIO': 1, 'SANTA TERESA': 4, 'MARECHAL HERMES': 4, 'BOTAFOGO': 3, 'VILA ISABEL': 1, 'ENGENHO DE DENTRO': 3, 'VISTA ALEGRE': 10, 'TANQUE': 6, 'ROCHA': 4, 'BENFICA': 1, 'RIO COMPRIDO': 4, 'BANGU': 3, 'COMPLEXO DO ALEMAO': 2, 'GAMBOA': 2, 'ENGENHO NOVO': 10, 'ANCHIETA': 2, 'JARDIM SULACAP': 1, 'ANIL': 1, 'PITANGUEIRAS': 1, 'GALEAO': 3, 'VIDIGAL': 3, 'TODOS OS SANTOS': 1, 'CATUMBI': 4, 'HONORIO GURGEL': 2, 'ROCINHA': 2, 'FLAMENGO': 2, 'CIDADE NOVA': 3, 'MAGALHAES BASTOS': 1, 'BARRA DA TIJUCA': 2, 'PORTUGUESA': 2, 'INHAUMA': 5, 'PARADA DE LUCAS': 1, 'RAMOS': 3, 'CURICICA': 1}, {'COELHO NETO': 11, 'JARDIM CARIOCA': 2, 'PACIENCIA': 104, 'SANTISSIMO': 12, 'DEODORO': 2, 'CAMPINHO': 1, 'BARRA DA TIJUCA': 2, 'BENTO RIBEIRO': 1, 'PILARES': 10, 'ANDARAI': 3, 'ENGENHEIRO LEAL': 1, 'ENCANTADO': 4, 'IRAJA': 7, 'VAZ LOBO': 3, 'BARROS FILHO': 4, 'CAMPO GRANDE': 65, 'JACARE': 3, 'PEDRA DE GUARATIBA': 9, 'MANGUEIRA': 2, 'JARDIM BOTANICO': 1, 'TOMAS COELHO': 3, 'VIGARIO GERAL': 3, 'ROCHA MIRANDA': 22, 'SANTA CRUZ': 46, 'VILA VALQUEIRE': 5, 'CACUIA': 1, 'IPANEMA': 1, 'LINS DE VASCONCELOS': 10, 'HIGIENOPOLIS': 5, 'BANCARIOS': 2, 'COSTA BARROS': 32, 'PIEDADE': 10, 'TIJUCA': 15, 'PAVUNA': 24, 'GUADALUPE': 12, 'PENHA': 4, 'TURIACU': 5, 'GRAJAU': 12, 'GARDENIA AZUL': 3, 'ROCHA': 1, 'GUARATIBA': 55, 'CURICICA': 5, 'TAQUARA': 7, 'JARDIM GUANABARA': 1, 'DEL CASTILHO': 2, 'ACARI': 7, 'CACHAMBI': 8, 'JACAREPAGUA': 3, 'SAO CRISTOVAO': 3, 'ESTACIO': 2, 'SAO FRANCISCO XAVIER': 4, 'OSWALDO CRUZ': 2, 'PAQUETA': 1, 'PRACA SECA': 13, 'SANTO CRISTO': 2, 'TAUA': 5, 'COCOTA': 1, 'PENHA CIRCULAR': 7, 'RICARDO DE ALBUQUERQUE': 2, 'PADRE MIGUEL': 4, 'GLORIA': 1, 'COSMOS': 24, 'CAJU': 3, 'MEIER': 8, 'ABOLICAO': 4, 'REALENGO': 22, 'CORDOVIL': 3, 'BARRA DE GUARATIBA': 6, 'QUINTINO BOCAIUVA': 9, 'ZUMBI': 1, 'MARACANA': 1, 'CASCADURA': 9, 'SENADOR CAMARA': 4, 'SEPETIBA': 6, 'MADUREIRA': 4, 'CENTRO': 6, 'RIACHUELO': 6, 'SAMPAIO': 3, 'SANTA TERESA': 7, 'MARECHAL HERMES': 5, 'PARQUE ANCHIETA': 3, 'BOTAFOGO': 8, 'CATUMBI': 3, 'SENADOR VASCONCELOS': 1, 'VILA ISABEL': 7, 'ENGENHO DE DENTRO': 9, 'VISTA ALEGRE': 1, 'TANQUE': 12, 'BONSUCESSO': 6, 'JARDIM AMERICA': 2, 'AGUA SANTA': 4, 'BENFICA': 5, 'RIO COMPRIDO': 15, 'BANGU': 6, 'COMPLEXO DO ALEMAO': 2, 'GAMBOA': 2, 'MANGUINHOS': 3, 'ENGENHO NOVO': 12, 'JACAREZINHO': 1, 'VARGEM PEQUENA': 1, 'ANCHIETA': 7, 'JARDIM SULACAP': 5, 'ANIL': 3, 'PITANGUEIRAS': 1, 'GALEAO': 2, 'RIBEIRA': 1, 'PECHINCHA': 2, 'LEME': 1, 'HONORIO GURGEL': 6, 'ROCINHA': 13, 'CATETE': 2, 'FLAMENGO': 1, 'MAGALHAES BASTOS': 9, 'COLEGIO': 2, 'PORTUGUESA': 5, 'INHAUMA': 7, 'PARADA DE LUCAS': 3, 'RAMOS': 5}, {'COELHO NETO': 19, 'JARDIM CARIOCA': 2, 'PACIENCIA': 112, 'SANTISSIMO': 16, 'CAMPINHO': 1, 'BENTO RIBEIRO': 3, 'PILARES': 12, 'ANDARAI': 1, 'GAVEA': 1, 'ZUMBI': 1, 'ENCANTADO': 4, 'IRAJA': 23, 'VAZ LOBO': 1, 'BARROS FILHO': 8, 'CAMPO GRANDE': 81, 'PEDRA DE GUARATIBA': 4, 'CAMORIM': 1, 'MANGUEIRA': 3, 'JARDIM BOTANICO': 1, 'TOMAS COELHO': 5, 'VIGARIO GERAL': 7, 'GRAJAU': 9, 'COLEGIO': 6, 'VILA VALQUEIRE': 3, 'IPANEMA': 1, 'LINS DE VASCONCELOS': 5, 'HIGIENOPOLIS': 1, 'BANCARIOS': 2, 'JARDIM AMERICA': 6, 'CACUIA': 4, 'TIJUCA': 31, 'PAVUNA': 31, 'BARRA DA TIJUCA': 5, 'SENADOR VASCONCELOS': 5, 'TURIACU': 3, 'ROCHA MIRANDA': 14, 'GARDENIA AZUL': 2, 'ROCHA': 5, 'SANTA CRUZ': 53, 'GUARATIBA': 59, 'TAQUARA': 15, 'JARDIM GUANABARA': 2, 'DEL CASTILHO': 5, 'MONERO': 2, 'VICENTE DE CARVALHO': 3, 'ACARI': 16, 'CACHAMBI': 5, 'SAO CRISTOVAO': 6, 'LEBLON': 1, 'ESTACIO': 9, 'SAO FRANCISCO XAVIER': 3, 'OSWALDO CRUZ': 1, 'RIO COMPRIDO': 14, 'PAQUETA': 3, 'PRACA SECA': 7, 'SANTO CRISTO': 3, 'SAUDE': 1, 'TAUA': 4, 'COCOTA': 1, 'PENHA CIRCULAR': 10, 'RICARDO DE ALBUQUERQUE': 1, 'PADRE MIGUEL': 2, 'GLORIA': 1, 'COSMOS': 33, 'JACAREPAGUA': 9, 'MEIER': 19, 'ABOLICAO': 4, 'REALENGO': 25, 'CORDOVIL': 20, 'BARRA DE GUARATIBA': 1, 'SENADOR CAMARA': 10, 'MARACANA': 1, 'COPACABANA': 7, 'CASCADURA': 19, 'QUINTINO BOCAIUVA': 19, 'SEPETIBA': 3, 'CENTRO': 10, 'MADUREIRA': 6, 'RIACHUELO': 3, 'SAMPAIO': 6, 'SANTA TERESA': 10, 'MARECHAL HERMES': 13, 'COSME VELHO': 1, 'PARQUE ANCHIETA': 1, 'BOTAFOGO': 9, 'VILA ISABEL': 9, 'ENGENHO DE DENTRO': 19, 'VISTA ALEGRE': 8, 'TANQUE': 3, 'BONSUCESSO': 7, 'COSTA BARROS': 21, 'AGUA SANTA': 8, 'BENFICA': 2, 'PIEDADE': 23, 'BANGU': 27, 'COMPLEXO DO ALEMAO': 2, 'GAMBOA': 1, 'MANGUINHOS': 3, 'ENGENHO NOVO': 5, 'JACAREZINHO': 2, 'VARGEM PEQUENA': 2, 'ANCHIETA': 22, 'JARDIM SULACAP': 1, 'PARADA DE LUCAS': 8, 'ANIL': 3, 'PITANGUEIRAS': 1, 'GALEAO': 4, 'VIDIGAL': 2, 'TODOS OS SANTOS': 4, 'CATUMBI': 7, 'LEME': 3, 'HONORIO GURGEL': 16, 'ROCINHA': 11, 'CATETE': 1, 'FLAMENGO': 5, 'PECHINCHA': 1, 'LAGOA': 1, 'MAGALHAES BASTOS': 6, 'GUADALUPE': 21, 'PORTUGUESA': 4, 'LARANJEIRAS': 3, 'INHAUMA': 5, 'PENHA': 21, 'RAMOS': 7, 'CURICICA': 1}, {'COELHO NETO': 13, 'JACARE': 6, 'PACIENCIA': 91, 'SANTISSIMO': 16, 'SANTO CRISTO': 1, 'DEODORO': 2, 'CAMPINHO': 3, 'ZUMBI': 1, 'BENTO RIBEIRO': 9, 'CAVALCANTI': 1, 'PILARES': 16, 'ANDARAI': 5, 'GAVEA': 1, 'ENGENHEIRO LEAL': 2, 'ROCINHA': 12, 'MANGUEIRA': 1, 'ENCANTADO': 9, 'IRAJA': 42, 'GUADALUPE': 23, 'BARROS FILHO': 1, 'CAMPO GRANDE': 170, 'OLARIA': 8, 'PEDRA DE GUARATIBA': 17, 'TOMAS COELHO': 3, 'TAQUARA': 9, 'JARDIM BOTANICO': 1, 'BARRA DA TIJUCA': 11, 'VIGARIO GERAL': 5, 'ROCHA MIRANDA': 23, 'COLEGIO': 12, 'VILA VALQUEIRE': 6, 'CIDADE DE DEUS': 5, 'CACUIA': 1, 'IPANEMA': 4, 'LINS DE VASCONCELOS': 16, 'HIGIENOPOLIS': 4, 'BANCARIOS': 8, 'JARDIM AMERICA': 6, 'PIEDADE': 25, 'TIJUCA': 33, 'PITANGUEIRAS': 5, 'CATUMBI': 7, 'PENHA': 23, 'TURIACU': 2, 'GRAJAU': 7, 'GARDENIA AZUL': 6, 'SANTA CRUZ': 45, 'GUARATIBA': 69, 'JACAREPAGUA': 11, 'JARDIM GUANABARA': 6, 'DEL CASTILHO': 8, 'MONERO': 1, 'VICENTE DE CARVALHO': 4, 'ACARI': 16, 'CACHAMBI': 7, 'SAO CRISTOVAO': 9, 'LEBLON': 2, 'ESTACIO': 2, 'SAO FRANCISCO XAVIER': 2, 'OSWALDO CRUZ': 7, 'CAMORIM': 2, 'PRACA SECA': 13, 'SAO CONRADO': 1, 'ROCHA': 3, 'TAUA': 6, 'COCOTA': 3, 'PENHA CIRCULAR': 9, 'RICARDO DE ALBUQUERQUE': 3, 'PADRE MIGUEL': 2, 'GLORIA': 1, 'COSMOS': 48, 'CAJU': 3, 'MEIER': 16, 'ABOLICAO': 4, 'REALENGO': 32, 'CORDOVIL': 20, 'BARRA DE GUARATIBA': 3, 'QUINTINO BOCAIUVA': 27, 'MARACANA': 5, 'COPACABANA': 17, 'CASCADURA': 10, 'SENADOR CAMARA': 5, 'SEPETIBA': 5, 'MADUREIRA': 5, 'CENTRO': 11, 'RIACHUELO': 4, 'SAMPAIO': 2, 'SANTA TERESA': 13, 'MARECHAL HERMES': 28, 'COSME VELHO': 1, 'PARQUE ANCHIETA': 4, 'BOTAFOGO': 14, 'SENADOR VASCONCELOS': 27, 'VILA ISABEL': 13, 'ENGENHO DE DENTRO': 16, 'TANQUE': 15, 'BONSUCESSO': 10, 'COSTA BARROS': 26, 'AGUA SANTA': 10, 'BENFICA': 3, 'RIO COMPRIDO': 15, 'BANGU': 21, 'COMPLEXO DO ALEMAO': 1, 'GAMBOA': 3, 'MANGUINHOS': 8, 'ENGENHO NOVO': 11, 'JACAREZINHO': 1, 'VAZ LOBO': 3, 'ANCHIETA': 17, 'JARDIM SULACAP': 3, 'ANIL': 6, 'PAVUNA': 24, 'GALEAO': 10, 'RIBEIRA': 1, 'VIDIGAL': 1, 'TODOS OS SANTOS': 2, 'PECHINCHA': 7, 'LEME': 4, 'HONORIO GURGEL': 6, 'JARDIM CARIOCA': 11, 'CATETE': 4, 'FLAMENGO': 4, 'VARGEM PEQUENA': 1, 'MAGALHAES BASTOS': 16, 'VISTA ALEGRE': 14, 'PORTUGUESA': 6, 'LARANJEIRAS': 5, 'URCA': 1, 'INHAUMA': 6, 'PARADA DE LUCAS': 8, 'RAMOS': 9, 'CURICICA': 7}, {'COELHO NETO': 18, 'JACARE': 1, 'PACIENCIA': 80, 'SANTISSIMO': 9, 'SANTO CRISTO': 2, 'DEODORO': 3, 'BARRA DA TIJUCA': 17, 'DEL CASTILHO': 1, 'BENTO RIBEIRO': 6, 'PILARES': 15, 'GAVEA': 1, 'ZUMBI': 2, 'CACUIA': 2, 'ENCANTADO': 8, 'IRAJA': 98, 'HUMAITA': 1, 'VAZ LOBO': 4, 'BARROS FILHO': 1, 'ENGENHEIRO LEAL': 1, 'CAMPO GRANDE': 131, 'OLARIA': 5, 'PEDRA DE GUARATIBA': 15, 'CAMORIM': 1, 'CURICICA': 21, 'TOMAS COELHO': 4, 'VIGARIO GERAL': 19, 'ROCHA MIRANDA': 23, 'COLEGIO': 30, 'VILA VALQUEIRE': 7, 'CIDADE DE DEUS': 2, 'LINS DE VASCONCELOS': 14, 'HIGIENOPOLIS': 1, 'BANCARIOS': 4, 'JARDIM AMERICA': 15, 'PIEDADE': 26, 'TIJUCA': 22, 'PAVUNA': 28, 'CATUMBI': 6, 'PENHA': 12, 'TURIACU': 1, 'GRAJAU': 5, 'GARDENIA AZUL': 3, 'SANTA CRUZ': 48, 'GUARATIBA': 45, 'JACAREPAGUA': 7, 'TAQUARA': 19, 'JARDIM GUANABARA': 3, 'ACARI': 33, 'MONERO': 1, 'VICENTE DE CARVALHO': 1, 'JARDIM CARIOCA': 5, 'GUADALUPE': 13, 'CACHAMBI': 6, 'SAO CRISTOVAO': 10, 'ESTACIO': 3, 'OSWALDO CRUZ': 5, 'PAQUETA': 1, 'PRACA SECA': 25, 'SAO CONRADO': 1, 'ROCHA': 6, 'TAUA': 2, 'COCOTA': 1, 'PENHA CIRCULAR': 5, 'RICARDO DE ALBUQUERQUE': 3, 'PADRE MIGUEL': 4, 'COSMOS': 24, 'CAJU': 1, 'MEIER': 15, 'ABOLICAO': 3, 'REALENGO': 37, 'CORDOVIL': 35, 'BARRA DE GUARATIBA': 4, 'SENADOR CAMARA': 2, 'MARACANA': 5, 'COPACABANA': 10, 'CASCADURA': 6, 'QUINTINO BOCAIUVA': 12, 'SEPETIBA': 7, 'CENTRO': 14, 'PARQUE COLUMBIA': 2, 'MADUREIRA': 12, 'RIACHUELO': 3, 'VARGEM PEQUENA': 6, 'SANTA TERESA': 13, 'MARECHAL HERMES': 10, 'COSME VELHO': 1, 'PARQUE ANCHIETA': 3, 'BOTAFOGO': 5, 'VILA ISABEL': 7, 'ENGENHO DE DENTRO': 24, 'TANQUE': 8, 'BONSUCESSO': 7, 'COSTA BARROS': 19, 'AGUA SANTA': 5, 'BENFICA': 1, 'RIO COMPRIDO': 15, 'BANGU': 20, 'COMPLEXO DO ALEMAO': 7, 'GAMBOA': 5, 'MANGUINHOS': 1, 'ENGENHO NOVO': 12, 'JACAREZINHO': 1, 'SAMPAIO': 1, 'ANCHIETA': 5, 'JARDIM SULACAP': 3, 'VILA MILITAR': 1, 'PARADA DE LUCAS': 14, 'ANIL': 6, 'PITANGUEIRAS': 2, 'GALEAO': 5, 'RIBEIRA': 1, 'TODOS OS SANTOS': 5, 'PECHINCHA': 8, 'HONORIO GURGEL': 12, 'ROCINHA': 10, 'CATETE': 3, 'FLAMENGO': 3, 'VARGEM GRANDE': 1, 'MAGALHAES BASTOS': 18, 'VISTA ALEGRE': 26, 'PORTUGUESA': 2, 'LARANJEIRAS': 3, 'INHAUMA': 12, 'SENADOR VASCONCELOS': 28, 'RAMOS': 7}, {'COELHO NETO': 10, 'PACIENCIA': 54, 'SANTISSIMO': 9, 'PRACA DA BANDEIRA': 2, 'URCA': 2, 'BENTO RIBEIRO': 7, 'CAVALCANTI': 1, 'PILARES': 2, 'ANDARAI': 1, 'ROCINHA': 10, 'MANGUEIRA': 1, 'ENCANTADO': 2, 'IRAJA': 29, 'AGUA SANTA': 2, 'GUADALUPE': 8, 'BARROS FILHO': 2, 'CAMPO GRANDE': 97, 'OLARIA': 8, 'PEDRA DE GUARATIBA': 18, 'CAMORIM': 2, 'JACAREPAGUA': 17, 'JARDIM BOTANICO': 1, 'TOMAS COELHO': 2, 'VIGARIO GERAL': 7, 'ROCHA MIRANDA': 10, 'COLEGIO': 14, 'VILA VALQUEIRE': 4, 'CIDADE DE DEUS': 1, 'IPANEMA': 2, 'LINS DE VASCONCELOS': 8, 'HIGIENOPOLIS': 1, 'BANCARIOS': 2, 'JARDIM AMERICA': 5, 'CACUIA': 6, 'TIJUCA': 28, 'PAVUNA': 34, 'BARRA DA TIJUCA': 25, 'SENADOR VASCONCELOS': 20, 'TURIACU': 4, 'GRAJAU': 5, 'GARDENIA AZUL': 13, 'SANTA CRUZ': 75, 'GUARATIBA': 116, 'CURICICA': 25, 'TAQUARA': 21, 'JARDIM GUANABARA': 5, 'DEL CASTILHO': 7, 'MONERO': 1, 'VICENTE DE CARVALHO': 2, 'JARDIM CARIOCA': 6, 'CACHAMBI': 6, 'SAO CRISTOVAO': 7, 'LEBLON': 1, 'ESTACIO': 8, 'SAO FRANCISCO XAVIER': 4, 'PAQUETA': 4, 'PRACA SECA': 37, 'SAO CONRADO': 1, 'SANTO CRISTO': 13, 'TAUA': 3, 'COCOTA': 2, 'PENHA CIRCULAR': 10, 'PADRE MIGUEL': 3, 'GLORIA': 2, 'COSMOS': 28, 'CAJU': 5, 'MEIER': 18, 'ABOLICAO': 3, 'REALENGO': 27, 'CORDOVIL': 13, 'QUINTINO BOCAIUVA': 8, 'COPACABANA': 8, 'CASCADURA': 10, 'SENADOR CAMARA': 3, 'SEPETIBA': 64, 'MADUREIRA': 6, 'CENTRO': 15, 'RIACHUELO': 4, 'LAGOA': 1, 'SAMPAIO': 2, 'SANTA TERESA': 14, 'MARECHAL HERMES': 9, 'PARQUE ANCHIETA': 1, 'BOTAFOGO': 10, 'CATUMBI': 3, 'VILA ISABEL': 8, 'ENGENHO DE DENTRO': 14, 'TANQUE': 7, 'BONSUCESSO': 8, 'COSTA BARROS': 21, 'ROCHA': 2, 'BENFICA': 1, 'RIO COMPRIDO': 11, 'BANGU': 29, 'MARIA DA GRACA': 1, 'GAMBOA': 4, 'MANGUINHOS': 3, 'ENGENHO NOVO': 11, 'JACAREZINHO': 2, 'PIEDADE': 18, 'VARGEM PEQUENA': 2, 'ANCHIETA': 6, 'JARDIM SULACAP': 1, 'VILA MILITAR': 1, 'PARADA DE LUCAS': 10, 'ANIL': 8, 'PITANGUEIRAS': 2, 'GALEAO': 8, 'VIDIGAL': 1, 'TODOS OS SANTOS': 3, 'PECHINCHA': 3, 'HONORIO GURGEL': 6, 'ACARI': 3, 'CATETE': 4, 'FLAMENGO': 4, 'VARGEM GRANDE': 6, 'CIDADE UNIVERSITARIA': 1, 'MAGALHAES BASTOS': 12, 'VISTA ALEGRE': 5, 'PORTUGUESA': 2, 'LARANJEIRAS': 7, 'INHAUMA': 12, 'PENHA': 20, 'RAMOS': 5}, {'COELHO NETO': 5, 'JACARE': 3, 'PACIENCIA': 62, 'SANTISSIMO': 10, 'COLEGIO': 2, 'PRACA DA BANDEIRA': 1, 'URCA': 3, 'ZUMBI': 3, 'BENTO RIBEIRO': 3, 'PILARES': 14, 'ANDARAI': 7, 'GAVEA': 2, 'ENGENHEIRO LEAL': 4, 'CACUIA': 2, 'ENCANTADO': 3, 'IRAJA': 6, 'HUMAITA': 3, 'AGUA SANTA': 2, 'GUADALUPE': 8, 'BARROS FILHO': 3, 'CAMPO GRANDE': 102, 'OLARIA': 8, 'PEDRA DE GUARATIBA': 27, 'CAMORIM': 4, 'JACAREPAGUA': 25, 'TOMAS COELHO': 8, 'VIGARIO GERAL': 5, 'ROCHA MIRANDA': 14, 'SANTA CRUZ': 91, 'VILA VALQUEIRE': 6, 'CIDADE DE DEUS': 6, 'IPANEMA': 2, 'LINS DE VASCONCELOS': 10, 'HIGIENOPOLIS': 6, 'BANCARIOS': 7, 'COSTA BARROS': 18, 'PIEDADE': 11, 'TIJUCA': 34, 'PAVUNA': 30, 'CATUMBI': 7, 'PENHA': 24, 'RECREIO DOS BANDEIRANTES': 2, 'GRAJAU': 7, 'GARDENIA AZUL': 8, 'GUARATIBA': 154, 'TAQUARA': 45, 'JARDIM GUANABARA': 10, 'DEL CASTILHO': 3, 'VICENTE DE CARVALHO': 4, 'ROCINHA': 50, 'CACHAMBI': 11, 'SAO CRISTOVAO': 25, 'LEBLON': 2, 'ESTACIO': 7, 'SAO FRANCISCO XAVIER': 3, 'OSWALDO CRUZ': 4, 'PRACA SECA': 43, 'SANTO CRISTO': 17, 'SAUDE': 2, 'TAUA': 4, 'COCOTA': 3, 'PENHA CIRCULAR': 10, 'RICARDO DE ALBUQUERQUE': 2, 'PADRE MIGUEL': 8, 'GLORIA': 6, 'COSMOS': 40, 'CAJU': 8, 'MEIER': 18, 'ABOLICAO': 3, 'REALENGO': 32, 'CORDOVIL': 12, 'BARRA DE GUARATIBA': 9, 'QUINTINO BOCAIUVA': 20, 'MARACANA': 5, 'COPACABANA': 18, 'CAMPINHO': 2, 'CASCADURA': 13, 'SENADOR CAMARA': 6, 'SEPETIBA': 72, 'MADUREIRA': 5, 'CENTRO': 20, 'RIACHUELO': 4, 'LAGOA': 1, 'VARGEM PEQUENA': 4, 'SANTA TERESA': 16, 'MARECHAL HERMES': 6, 'COSME VELHO': 2, 'BOTAFOGO': 13, 'SENADOR VASCONCELOS': 23, 'VILA ISABEL': 19, 'ACARI': 1, 'ENGENHO DE DENTRO': 16, 'TANQUE': 8, 'BONSUCESSO': 11, 'JARDIM AMERICA': 4, 'ROCHA': 3, 'BENFICA': 4, 'RIO COMPRIDO': 30, 'BANGU': 25, 'COMPLEXO DO ALEMAO': 5, 'GAMBOA': 4, 'MANGUINHOS': 5, 'ENGENHO NOVO': 10, 'JACAREZINHO': 3, 'VAZ LOBO': 1, 'ANCHIETA': 3, 'JARDIM SULACAP': 5, 'VILA MILITAR': 1, 'ANIL': 19, 'PITANGUEIRAS': 8, 'GALEAO': 22, 'RIBEIRA': 1, 'VIDIGAL': 6, 'TODOS OS SANTOS': 4, 'PECHINCHA': 13, 'LEME': 5, 'HONORIO GURGEL': 6, 'JARDIM CARIOCA': 11, 'CATETE': 7, 'FLAMENGO': 7, 'VARGEM GRANDE': 15, 'CIDADE NOVA': 4, 'CIDADE UNIVERSITARIA': 1, 'MAGALHAES BASTOS': 10, 'BARRA DA TIJUCA': 21, 'PORTUGUESA': 19, 'LARANJEIRAS': 2, 'INHAUMA': 17, 'PARADA DE LUCAS': 8, 'RAMOS': 10, 'CURICICA': 36}, {'COELHO NETO': 13, 'JACARE': 1, 'PACIENCIA': 57, 'SANTISSIMO': 8, 'DEODORO': 3, 'CAMPINHO': 2, 'BENTO RIBEIRO': 3, 'PILARES': 7, 'ANDARAI': 3, 'GAVEA': 1, 'ZUMBI': 3, 'PITANGUEIRAS': 1, 'MANGUEIRA': 2, 'ENCANTADO': 2, 'IRAJA': 58, 'HUMAITA': 3, 'VAZ LOBO': 5, 'BARROS FILHO': 5, 'ENGENHEIRO LEAL': 2, 'CAMPO GRANDE': 105, 'OLARIA': 5, 'PEDRA DE GUARATIBA': 11, 'CURICICA': 40, 'JARDIM BOTANICO': 2, 'TOMAS COELHO': 3, 'VIGARIO GERAL': 11, 'ROCHA MIRANDA': 16, 'COLEGIO': 11, 'VILA VALQUEIRE': 9, 'CIDADE DE DEUS': 8, 'IPANEMA': 2, 'LINS DE VASCONCELOS': 14, 'HIGIENOPOLIS': 2, 'JARDIM AMERICA': 10, 'PIEDADE': 16, 'TIJUCA': 15, 'PAVUNA': 38, 'GUADALUPE': 9, 'PENHA': 15, 'GRAJAU': 1, 'GARDENIA AZUL': 14, 'ROCHA': 1, 'SANTA CRUZ': 86, 'GUARATIBA': 86, 'JACAREPAGUA': 29, 'TAQUARA': 71, 'JARDIM GUANABARA': 5, 'DEL CASTILHO': 7, 'MONERO': 1, 'VICENTE DE CARVALHO': 2, 'ROCINHA': 42, 'CACHAMBI': 4, 'SAO CRISTOVAO': 9, 'LEBLON': 1, 'ESTACIO': 3, 'SAO FRANCISCO XAVIER': 3, 'OSWALDO CRUZ': 3, 'PAQUETA': 2, 'PRACA SECA': 42, 'SAO CONRADO': 1, 'SANTO CRISTO': 4, 'TAUA': 3, 'PENHA CIRCULAR': 2, 'RICARDO DE ALBUQUERQUE': 3, 'PADRE MIGUEL': 1, 'GLORIA': 1, 'COSMOS': 16, 'CAJU': 15, 'MEIER': 21, 'ABOLICAO': 4, 'REALENGO': 15, 'CORDOVIL': 15, 'BARRA DE GUARATIBA': 13, 'SENADOR CAMARA': 11, 'MARACANA': 1, 'COPACABANA': 17, 'SEPETIBA': 53, 'QUINTINO BOCAIUVA': 8, 'CASCADURA': 10, 'MADUREIRA': 7, 'PARQUE COLUMBIA': 1, 'CENTRO': 15, 'VARGEM PEQUENA': 1, 'SANTA TERESA': 16, 'MARECHAL HERMES': 5, 'PARQUE ANCHIETA': 1, 'BOTAFOGO': 12, 'CATUMBI': 3, 'SENADOR VASCONCELOS': 18, 'VILA ISABEL': 4, 'ACARI': 12, 'ENGENHO DE DENTRO': 9, 'VISTA ALEGRE': 14, 'TANQUE': 9, 'BONSUCESSO': 11, 'COSTA BARROS': 25, 'AGUA SANTA': 9, 'RIO COMPRIDO': 6, 'BANGU': 23, 'COMPLEXO DO ALEMAO': 2, 'GAMBOA': 2, 'MANGUINHOS': 2, 'ENGENHO NOVO': 11, 'JACAREZINHO': 1, 'SAMPAIO': 1, 'ANCHIETA': 4, 'JARDIM SULACAP': 1, 'ANIL': 14, 'CAVALCANTI': 1, 'GALEAO': 11, 'RIBEIRA': 3, 'VIDIGAL': 3, 'TODOS OS SANTOS': 3, 'PECHINCHA': 14, 'HONORIO GURGEL': 5, 'JARDIM CARIOCA': 5, 'CATETE': 7, 'FLAMENGO': 3, 'VARGEM GRANDE': 13, 'CIDADE NOVA': 2, 'MAGALHAES BASTOS': 3, 'BARRA DA TIJUCA': 18, 'PORTUGUESA': 2, 'LARANJEIRAS': 1, 'URCA': 1, 'INHAUMA': 6, 'PARADA DE LUCAS': 9, 'RAMOS': 7}, {'COELHO NETO': 3, 'PACIENCIA': 69, 'SANTISSIMO': 4, 'COLEGIO': 3, 'PRACA DA BANDEIRA': 3, 'DEODORO': 1, 'URCA': 4, 'BENTO RIBEIRO': 3, 'PILARES': 3, 'ANDARAI': 6, 'GAVEA': 1, 'ZUMBI': 3, 'CACUIA': 2, 'MANGUEIRA': 1, 'ENCANTADO': 3, 'IRAJA': 7, 'AGUA SANTA': 3, 'GUADALUPE': 8, 'BARROS FILHO': 3, 'ENGENHEIRO LEAL': 1, 'JOA': 1, 'CAMPO GRANDE': 86, 'OLARIA': 6, 'PEDRA DE GUARATIBA': 17, 'CAMORIM': 1, 'JACAREPAGUA': 30, 'TOMAS COELHO': 8, 'VIGARIO GERAL': 1, 'ROCHA MIRANDA': 10, 'SANTA CRUZ': 136, 'VILA VALQUEIRE': 10, 'CIDADE DE DEUS': 10, 'MARIA DA GRACA': 2, 'MARACANA': 7, 'HIGIENOPOLIS': 3, 'BANCARIOS': 4, 'JARDIM AMERICA': 6, 'PIEDADE': 7, 'TIJUCA': 31, 'PAVUNA': 11, 'CATUMBI': 4, 'SENADOR VASCONCELOS': 15, 'RECREIO DOS BANDEIRANTES': 2, 'GRAJAU': 9, 'GARDENIA AZUL': 20, 'GUARATIBA': 119, 'CURICICA': 44, 'TAQUARA': 81, 'JARDIM GUANABARA': 10, 'DEL CASTILHO': 7, 'MONERO': 2, 'ROCINHA': 54, 'CACHAMBI': 9, 'SAO CRISTOVAO': 19, 'LEBLON': 6, 'ESTACIO': 9, 'SAO FRANCISCO XAVIER': 1, 'OSWALDO CRUZ': 7, 'PAQUETA': 1, 'PRACA SECA': 35, 'SANTO CRISTO': 19, 'SAUDE': 1, 'TAUA': 4, 'COCOTA': 1, 'PENHA CIRCULAR': 7, 'RICARDO DE ALBUQUERQUE': 1, 'PADRE MIGUEL': 3, 'GLORIA': 3, 'COSMOS': 16, 'CAJU': 16, 'MEIER': 14, 'ABOLICAO': 1, 'REALENGO': 40, 'CORDOVIL': 8, 'BARRA DE GUARATIBA': 17, 'QUINTINO BOCAIUVA': 11, 'LINS DE VASCONCELOS': 8, 'COPACABANA': 15, 'CAMPINHO': 2, 'CASCADURA': 9, 'SENADOR CAMARA': 4, 'SEPETIBA': 44, 'MADUREIRA': 6, 'PARQUE COLUMBIA': 1, 'CENTRO': 25, 'RIACHUELO': 2, 'SAMPAIO': 2, 'SANTA TERESA': 27, 'MARECHAL HERMES': 7, 'COSME VELHO': 1, 'BOTAFOGO': 9, 'VILA ISABEL': 20, 'ENGENHO DE DENTRO': 12, 'VISTA ALEGRE': 3, 'TANQUE': 23, 'BONSUCESSO': 8, 'COSTA BARROS': 11, 'ROCHA': 3, 'BENFICA': 2, 'RIO COMPRIDO': 15, 'BANGU': 23, 'COMPLEXO DO ALEMAO': 10, 'GAMBOA': 2, 'MANGUINHOS': 4, 'ENGENHO NOVO': 8, 'JACAREZINHO': 3, 'VARGEM PEQUENA': 2, 'ANCHIETA': 4, 'JARDIM SULACAP': 5, 'VILA MILITAR': 1, 'PARADA DE LUCAS': 2, 'ANIL': 14, 'PITANGUEIRAS': 1, 'GALEAO': 7, 'RIBEIRA': 1, 'VIDIGAL': 4, 'TODOS OS SANTOS': 5, 'PECHINCHA': 11, 'LEME': 5, 'HONORIO GURGEL': 4, 'JARDIM CARIOCA': 4, 'CATETE': 3, 'FLAMENGO': 3, 'VARGEM GRANDE': 5, 'CIDADE UNIVERSITARIA': 1, 'MAGALHAES BASTOS': 9, 'BARRA DA TIJUCA': 26, 'PORTUGUESA': 5, 'LARANJEIRAS': 1, 'INHAUMA': 24, 'PENHA': 13, 'RAMOS': 4}, {'COELHO NETO': 7, 'JARDIM CARIOCA': 13, 'PACIENCIA': 44, 'SANTISSIMO': 5, 'COLEGIO': 9, 'PRACA DA BANDEIRA': 1, 'DEODORO': 1, 'URCA': 1, 'BENTO RIBEIRO': 6, 'PILARES': 8, 'ANDARAI': 5, 'GAVEA': 2, 'ZUMBI': 4, 'MANGUEIRA': 2, 'ENCANTADO': 2, 'IRAJA': 41, 'HUMAITA': 6, 'AGUA SANTA': 1, 'VAZ LOBO': 4, 'ENGENHEIRO LEAL': 2, 'CAMPO GRANDE': 98, 'OLARIA': 9, 'PEDRA DE GUARATIBA': 28, 'JACAREPAGUA': 35, 'JARDIM BOTANICO': 4, 'TOMAS COELHO': 2, 'HONORIO GURGEL': 1, 'VIGARIO GERAL': 14, 'ROCHA MIRANDA': 7, 'SANTA CRUZ': 84, 'VILA VALQUEIRE': 8, 'CIDADE DE DEUS': 10, 'IPANEMA': 4, 'MARACANA': 8, 'HIGIENOPOLIS': 2, 'BANCARIOS': 3, 'COSTA BARROS': 9, 'CACUIA': 6, 'TIJUCA': 35, 'PAVUNA': 12, 'BARRA DA TIJUCA': 21, 'SENADOR VASCONCELOS': 11, 'TURIACU': 1, 'GRAJAU': 5, 'GARDENIA AZUL': 12, 'GUARATIBA': 90, 'CURICICA': 31, 'TAQUARA': 71, 'JARDIM GUANABARA': 11, 'DEL CASTILHO': 8, 'VICENTE DE CARVALHO': 2, 'ROCINHA': 49, 'GUADALUPE': 3, 'CACHAMBI': 7, 'SAO CRISTOVAO': 14, 'LEBLON': 3, 'ESTACIO': 5, 'SAO FRANCISCO XAVIER': 4, 'OSWALDO CRUZ': 3, 'PAQUETA': 2, 'PRACA SECA': 28, 'SAO CONRADO': 2, 'SANTO CRISTO': 8, 'TAUA': 9, 'COCOTA': 1, 'PENHA CIRCULAR': 10, 'JACARE': 2, 'PADRE MIGUEL': 4, 'COSMOS': 10, 'CAJU': 15, 'MEIER': 15, 'ABOLICAO': 2, 'REALENGO': 22, 'CORDOVIL': 11, 'BARRA DE GUARATIBA': 15, 'QUINTINO BOCAIUVA': 8, 'LINS DE VASCONCELOS': 4, 'COPACABANA': 22, 'CAMPINHO': 1, 'SEPETIBA': 43, 'SENADOR CAMARA': 6, 'CASCADURA': 7, 'MADUREIRA': 7, 'CENTRO': 16, 'SAMPAIO': 3, 'SANTA TERESA': 15, 'MARECHAL HERMES': 9, 'PARQUE ANCHIETA': 2, 'BOTAFOGO': 27, 'CATUMBI': 3, 'VILA ISABEL': 9, 'ENGENHO DE DENTRO': 9, 'TANQUE': 15, 'BONSUCESSO': 13, 'JARDIM AMERICA': 10, 'ROCHA': 3, 'BENFICA': 5, 'RIO COMPRIDO': 16, 'BANGU': 20, 'COMPLEXO DO ALEMAO': 4, 'GAMBOA': 3, 'MANGUINHOS': 6, 'ENGENHO NOVO': 7, 'PIEDADE': 11, 'VARGEM PEQUENA': 1, 'ANCHIETA': 7, 'JARDIM SULACAP': 4, 'PARADA DE LUCAS': 3, 'ANIL': 13, 'PITANGUEIRAS': 4, 'GALEAO': 14, 'RIBEIRA': 3, 'VIDIGAL': 2, 'TODOS OS SANTOS': 2, 'PECHINCHA': 9, 'LEME': 4, 'GLORIA': 2, 'ACARI': 8, 'CATETE': 3, 'FLAMENGO': 13, 'VARGEM GRANDE': 9, 'CIDADE NOVA': 2, 'LAGOA': 1, 'MAGALHAES BASTOS': 6, 'VISTA ALEGRE': 7, 'PORTUGUESA': 8, 'LARANJEIRAS': 6, 'INHAUMA': 16, 'PENHA': 20, 'RAMOS': 9}, {'COELHO NETO': 5, 'JACARE': 3, 'PACIENCIA': 24, 'SANTISSIMO': 5, 'URCA': 2, 'ZUMBI': 1, 'BENTO RIBEIRO': 4, 'CAVALCANTI': 1, 'PILARES': 2, 'ANDARAI': 3, 'GAVEA': 1, 'ENGENHEIRO LEAL': 1, 'CACUIA': 1, 'MANGUEIRA': 1, 'ENCANTADO': 2, 'IRAJA': 59, 'HUMAITA': 2, 'VAZ LOBO': 4, 'BARROS FILHO': 1, 'CAMPO GRANDE': 66, 'OLARIA': 5, 'PEDRA DE GUARATIBA': 12, 'CAMORIM': 3, 'JACAREPAGUA': 17, 'JARDIM BOTANICO': 1, 'TOMAS COELHO': 4, 'VIGARIO GERAL': 14, 'ROCHA MIRANDA': 7, 'COLEGIO': 12, 'VILA VALQUEIRE': 4, 'CIDADE DE DEUS': 7, 'IPANEMA': 4, 'LINS DE VASCONCELOS': 4, 'HIGIENOPOLIS': 4, 'BANCARIOS': 1, 'COSTA BARROS': 11, 'PIEDADE': 9, 'TIJUCA': 12, 'PAVUNA': 16, 'GUADALUPE': 3, 'SENADOR VASCONCELOS': 12, 'TURIACU': 3, 'GRAJAU': 3, 'GARDENIA AZUL': 13, 'SANTA CRUZ': 93, 'GUARATIBA': 50, 'TAQUARA': 51, 'JARDIM GUANABARA': 6, 'DEL CASTILHO': 4, 'MONERO': 1, 'VICENTE DE CARVALHO': 1, 'ACARI': 9, 'CACHAMBI': 5, 'SAO CRISTOVAO': 10, 'LEBLON': 2, 'ESTACIO': 1, 'SAO FRANCISCO XAVIER': 1, 'OSWALDO CRUZ': 3, 'PAQUETA': 5, 'PRACA SECA': 19, 'SAO CONRADO': 1, 'SANTO CRISTO': 3, 'SAUDE': 1, 'TAUA': 5, 'PENHA CIRCULAR': 10, 'PADRE MIGUEL': 2, 'COSMOS': 10, 'CAJU': 5, 'MEIER': 12, 'ABOLICAO': 1, 'REALENGO': 15, 'CORDOVIL': 24, 'BARRA DE GUARATIBA': 2, 'QUINTINO BOCAIUVA': 10, 'MARACANA': 4, 'COPACABANA': 13, 'CAMPINHO': 1, 'SEPETIBA': 39, 'SENADOR CAMARA': 7, 'CASCADURA': 4, 'MADUREIRA': 4, 'CENTRO': 12, 'RIACHUELO': 2, 'VARGEM PEQUENA': 2, 'SANTA TERESA': 10, 'MARECHAL HERMES': 6, 'COSME VELHO': 3, 'PENHA': 37, 'PARQUE ANCHIETA': 1, 'BOTAFOGO': 21, 'VILA ISABEL': 2, 'ENGENHO DE DENTRO': 8, 'VISTA ALEGRE': 6, 'TANQUE': 7, 'BONSUCESSO': 10, 'JARDIM AMERICA': 14, 'ROCHA': 1, 'BENFICA': 2, 'RIO COMPRIDO': 10, 'BANGU': 15, 'COMPLEXO DO ALEMAO': 6, 'GAMBOA': 3, 'MANGUINHOS': 3, 'ENGENHO NOVO': 4, 'ANCHIETA': 8, 'JARDIM SULACAP': 4, 'VILA MILITAR': 1, 'ANIL': 11, 'PITANGUEIRAS': 2, 'GALEAO': 7, 'VIDIGAL': 1, 'TODOS OS SANTOS': 7, 'PECHINCHA': 3, 'GLORIA': 2, 'ROCINHA': 30, 'CATETE': 9, 'FLAMENGO': 3, 'VARGEM GRANDE': 3, 'JARDIM CARIOCA': 1, 'CIDADE NOVA': 1, 'LAGOA': 1, 'MAGALHAES BASTOS': 3, 'BARRA DA TIJUCA': 21, 'PORTUGUESA': 2, 'LARANJEIRAS': 8, 'INHAUMA': 10, 'PARADA DE LUCAS': 7, 'RAMOS': 7, 'CURICICA': 7}, {'COELHO NETO': 4, 'PACIENCIA': 37, 'RECREIO DOS BANDEIRANTES': 1, 'SANTISSIMO': 3, 'DEODORO': 1, 'CAMPINHO': 5, 'DEL CASTILHO': 2, 'BENTO RIBEIRO': 9, 'PILARES': 6, 'ANDARAI': 8, 'GAVEA': 3, 'ZUMBI': 7, 'CACUIA': 4, 'MANGUEIRA': 4, 'IRAJA': 36, 'HUMAITA': 4, 'GUADALUPE': 10, 'BARROS FILHO': 2, 'ENGENHEIRO LEAL': 1, 'CAMPO GRANDE': 73, 'OLARIA': 4, 'PEDRA DE GUARATIBA': 33, 'JACAREPAGUA': 34, 'JARDIM BOTANICO': 9, 'TOMAS COELHO': 5, 'VIGARIO GERAL': 3, 'ROCHA MIRANDA': 14, 'COLEGIO': 6, 'VILA VALQUEIRE': 6, 'CIDADE DE DEUS': 7, 'IPANEMA': 10, 'LINS DE VASCONCELOS': 7, 'HIGIENOPOLIS': 5, 'BANCARIOS': 3, 'JARDIM AMERICA': 7, 'PIEDADE': 6, 'TIJUCA': 99, 'PAVUNA': 13, 'BARRA DA TIJUCA': 29, 'PENHA': 27, 'TURIACU': 12, 'GRAJAU': 6, 'GARDENIA AZUL': 12, 'ROCHA': 3, 'SANTA CRUZ': 137, 'GUARATIBA': 102, 'CURICICA': 23, 'TAQUARA': 78, 'JARDIM GUANABARA': 22, 'ACARI': 3, 'MONERO': 1, 'VICENTE DE CARVALHO': 5, 'JARDIM CARIOCA': 13, 'LEBLON': 7, 'SAO CRISTOVAO': 13, 'CACHAMBI': 4, 'ESTACIO': 6, 'SAO FRANCISCO XAVIER': 2, 'OSWALDO CRUZ': 3, 'PAQUETA': 17, 'PRACA SECA': 12, 'SANTO CRISTO': 8, 'TAUA': 4, 'COCOTA': 5, 'PENHA CIRCULAR': 10, 'RICARDO DE ALBUQUERQUE': 3, 'PADRE MIGUEL': 13, 'GLORIA': 1, 'COSMOS': 11, 'CAJU': 25, 'MEIER': 8, 'ABOLICAO': 3, 'REALENGO': 25, 'CORDOVIL': 15, 'BARRA DE GUARATIBA': 10, 'SENADOR CAMARA': 13, 'MARACANA': 9, 'COPACABANA': 43, 'CASCADURA': 4, 'QUINTINO BOCAIUVA': 17, 'SEPETIBA': 66, 'CENTRO': 11, 'PARQUE COLUMBIA': 1, 'MADUREIRA': 2, 'VARGEM PEQUENA': 4, 'SANTA TERESA': 38, 'MARECHAL HERMES': 5, 'COSME VELHO': 1, 'PARQUE ANCHIETA': 2, 'BOTAFOGO': 38, 'CATUMBI': 3, 'VILA ISABEL': 21, 'ENGENHO DE DENTRO': 14, 'TANQUE': 11, 'BONSUCESSO': 14, 'COSTA BARROS': 22, 'AGUA SANTA': 4, 'BENFICA': 7, 'RIO COMPRIDO': 29, 'BANGU': 23, 'COMPLEXO DO ALEMAO': 1, 'GAMBOA': 2, 'MANGUINHOS': 9, 'ENGENHO NOVO': 6, 'JACAREZINHO': 2, 'SAMPAIO': 2, 'ANCHIETA': 10, 'JARDIM SULACAP': 5, 'PARADA DE LUCAS': 4, 'ANIL': 21, 'PITANGUEIRAS': 3, 'GALEAO': 15, 'VIDIGAL': 5, 'TODOS OS SANTOS': 3, 'PECHINCHA': 12, 'LEME': 11, 'HONORIO GURGEL': 3, 'ROCINHA': 43, 'CATETE': 6, 'FLAMENGO': 9, 'VARGEM GRANDE': 19, 'CIDADE NOVA': 1, 'LAGOA': 2, 'MAGALHAES BASTOS': 3, 'VISTA ALEGRE': 5, 'PORTUGUESA': 8, 'LARANJEIRAS': 10, 'URCA': 3, 'INHAUMA': 14, 'SENADOR VASCONCELOS': 8, 'RAMOS': 14}, {'COELHO NETO': 4, 'JACARE': 3, 'CAMPO DOS AFONSOS': 1, 'PACIENCIA': 16, 'SANTISSIMO': 5, 'DEODORO': 4, 'CAMPINHO': 6, 'BENTO RIBEIRO': 6, 'CAVALCANTI': 1, 'PILARES': 5, 'ANDARAI': 4, 'GAVEA': 3, 'ZUMBI': 4, 'ROCINHA': 51, 'ENCANTADO': 5, 'IRAJA': 53, 'HUMAITA': 2, 'AGUA SANTA': 2, 'VAZ LOBO': 1, 'BARROS FILHO': 3, 'CAMPO GRANDE': 79, 'OLARIA': 11, 'PEDRA DE GUARATIBA': 15, 'TOMAS COELHO': 4, 'MANGUEIRA': 7, 'JARDIM BOTANICO': 4, 'BARRA DA TIJUCA': 27, 'VIGARIO GERAL': 11, 'ROCHA MIRANDA': 13, 'COLEGIO': 13, 'VILA VALQUEIRE': 7, 'CIDADE DE DEUS': 6, 'IPANEMA': 10, 'LINS DE VASCONCELOS': 5, 'HIGIENOPOLIS': 3, 'BANCARIOS': 8, 'JARDIM AMERICA': 8, 'CACUIA': 5, 'TIJUCA': 51, 'PAVUNA': 16, 'CATUMBI': 6, 'PENHA': 34, 'TURIACU': 2, 'GRAJAU': 5, 'GARDENIA AZUL': 17, 'SANTA CRUZ': 122, 'GUARATIBA': 97, 'CURICICA': 27, 'TAQUARA': 60, 'JARDIM GUANABARA': 8, 'DEL CASTILHO': 4, 'MONERO': 3, 'VICENTE DE CARVALHO': 5, 'JARDIM CARIOCA': 10, 'LEBLON': 6, 'JACAREPAGUA': 25, 'SAO CRISTOVAO': 17, 'CACHAMBI': 6, 'ESTACIO': 2, 'SAO FRANCISCO XAVIER': 4, 'OSWALDO CRUZ': 5, 'CAMORIM': 2, 'PAQUETA': 10, 'PRACA SECA': 15, 'SAO CONRADO': 2, 'SANTO CRISTO': 12, 'TAUA': 5, 'COCOTA': 4, 'PENHA CIRCULAR': 6, 'RICARDO DE ALBUQUERQUE': 1, 'PADRE MIGUEL': 4, 'GLORIA': 1, 'COSMOS': 9, 'CAJU': 17, 'MEIER': 24, 'ABOLICAO': 7, 'REALENGO': 27, 'CORDOVIL': 15, 'BARRA DE GUARATIBA': 7, 'QUINTINO BOCAIUVA': 12, 'MARACANA': 2, 'COPACABANA': 23, 'CASCADURA': 5, 'SENADOR CAMARA': 10, 'SEPETIBA': 76, 'MADUREIRA': 13, 'PARQUE COLUMBIA': 1, 'CENTRO': 14, 'RIACHUELO': 4, 'VARGEM PEQUENA': 7, 'SANTA TERESA': 25, 'MARECHAL HERMES': 5, 'PARQUE ANCHIETA': 1, 'BOTAFOGO': 25, 'VILA ISABEL': 10, 'ENGENHO DE DENTRO': 6, 'VISTA ALEGRE': 9, 'TANQUE': 15, 'BONSUCESSO': 20, 'COSTA BARROS': 23, 'ROCHA': 3, 'BENFICA': 4, 'RIO COMPRIDO': 11, 'BANGU': 21, 'COMPLEXO DO ALEMAO': 4, 'GAMBOA': 4, 'MANGUINHOS': 2, 'ENGENHO NOVO': 14, 'JACAREZINHO': 1, 'PIEDADE': 2, 'SAMPAIO': 1, 'ANCHIETA': 7, 'JARDIM SULACAP': 6, 'PARADA DE LUCAS': 11, 'ANIL': 14, 'PITANGUEIRAS': 3, 'GALEAO': 12, 'RIBEIRA': 1, 'VIDIGAL': 14, 'TODOS OS SANTOS': 2, 'PECHINCHA': 14, 'LEME': 6, 'HONORIO GURGEL': 1, 'ACARI': 8, 'CATETE': 6, 'FLAMENGO': 4, 'VARGEM GRANDE': 8, 'CIDADE NOVA': 3, 'LAGOA': 4, 'MAGALHAES BASTOS': 9, 'GUADALUPE': 6, 'PORTUGUESA': 6, 'LARANJEIRAS': 8, 'URCA': 1, 'INHAUMA': 15, 'SENADOR VASCONCELOS': 5, 'RAMOS': 14}, {'COELHO NETO': 2, 'JARDIM CARIOCA': 2, 'PACIENCIA': 6, 'RECREIO DOS BANDEIRANTES': 1, 'SANTISSIMO': 9, 'PRACA DA BANDEIRA': 3, 'URCA': 5, 'BENTO RIBEIRO': 4, 'PILARES': 5, 'ANDARAI': 8, 'GAVEA': 2, 'CACUIA': 1, 'MANGUEIRA': 3, 'ENCANTADO': 2, 'IRAJA': 38, 'HUMAITA': 8, 'VAZ LOBO': 4, 'BARROS FILHO': 3, 'CAMPO GRANDE': 56, 'OLARIA': 10, 'PEDRA DE GUARATIBA': 22, 'CAMORIM': 8, 'JACAREPAGUA': 22, 'JARDIM BOTANICO': 6, 'TOMAS COELHO': 2, 'HONORIO GURGEL': 2, 'VIGARIO GERAL': 5, 'ROCHA MIRANDA': 17, 'COLEGIO': 13, 'VILA VALQUEIRE': 9, 'CIDADE DE DEUS': 5, 'IPANEMA': 8, 'LINS DE VASCONCELOS': 4, 'BANCARIOS': 1, 'JARDIM AMERICA': 8, 'PIEDADE': 4, 'TIJUCA': 47, 'PAVUNA': 23, 'CATUMBI': 5, 'SENADOR VASCONCELOS': 14, 'TURIACU': 2, 'GRAJAU': 5, 'GARDENIA AZUL': 8, 'ROCHA': 1, 'SANTA CRUZ': 79, 'GUARATIBA': 48, 'TAQUARA': 125, 'JARDIM GUANABARA': 8, 'DEL CASTILHO': 1, 'MONERO': 3, 'VICENTE DE CARVALHO': 4, 'ACARI': 13, 'GUADALUPE': 3, 'CACHAMBI': 9, 'SAO CRISTOVAO': 12, 'LEBLON': 2, 'ESTACIO': 9, 'SAO FRANCISCO XAVIER': 5, 'OSWALDO CRUZ': 4, 'PRACA SECA': 25, 'SAO CONRADO': 4, 'SANTO CRISTO': 7, 'TAUA': 2, 'PENHA CIRCULAR': 10, 'RICARDO DE ALBUQUERQUE': 2, 'JACARE': 1, 'PADRE MIGUEL': 8, 'COSMOS': 14, 'CAJU': 11, 'MEIER': 14, 'REALENGO': 25, 'CORDOVIL': 18, 'BARRA DE GUARATIBA': 13, 'SENADOR CAMARA': 19, 'MARACANA': 3, 'COPACABANA': 37, 'CAMPINHO': 4, 'SEPETIBA': 42, 'QUINTINO BOCAIUVA': 9, 'CASCADURA': 5, 'MADUREIRA': 9, 'CENTRO': 18, 'RIACHUELO': 1, 'VARGEM PEQUENA': 15, 'SANTA TERESA': 27, 'MARECHAL HERMES': 6, 'PENHA': 43, 'PARQUE ANCHIETA': 3, 'BOTAFOGO': 40, 'VILA ISABEL': 16, 'ENGENHO DE DENTRO': 5, 'VISTA ALEGRE': 7, 'TANQUE': 16, 'BONSUCESSO': 11, 'COSTA BARROS': 24, 'AGUA SANTA': 2, 'BENFICA': 1, 'RIO COMPRIDO': 24, 'BANGU': 30, 'COMPLEXO DO ALEMAO': 7, 'GAMBOA': 6, 'MANGUINHOS': 4, 'ENGENHO NOVO': 8, 'JACAREZINHO': 1, 'ANCHIETA': 11, 'JARDIM SULACAP': 3, 'ANIL': 22, 'PITANGUEIRAS': 2, 'GALEAO': 7, 'RIBEIRA': 1, 'VIDIGAL': 6, 'TODOS OS SANTOS': 3, 'PECHINCHA': 12, 'LEME': 6, 'GLORIA': 4, 'ROCINHA': 50, 'CATETE': 6, 'FLAMENGO': 10, 'VARGEM GRANDE': 21, 'CIDADE NOVA': 4, 'LAGOA': 6, 'MAGALHAES BASTOS': 7, 'BARRA DA TIJUCA': 16, 'PORTUGUESA': 3, 'LARANJEIRAS': 11, 'INHAUMA': 5, 'PARADA DE LUCAS': 6, 'RAMOS': 12, 'CURICICA': 56}, {'COELHO NETO': 6, 'JACARE': 2, 'PACIENCIA': 17, 'SANTISSIMO': 6, 'COLEGIO': 3, 'DEODORO': 5, 'CAMPINHO': 3, 'DEL CASTILHO': 1, 'BENTO RIBEIRO': 14, 'ANDARAI': 9, 'GAVEA': 2, 'ZUMBI': 2, 'CACUIA': 3, 'ENCANTADO': 2, 'IRAJA': 11, 'HUMAITA': 7, 'AGUA SANTA': 1, 'VAZ LOBO': 2, 'BARROS FILHO': 5, 'CAMPO GRANDE': 54, 'OLARIA': 5, 'PEDRA DE GUARATIBA': 31, 'CAMORIM': 3, 'MANGUEIRA': 9, 'JARDIM BOTANICO': 4, 'TOMAS COELHO': 3, 'VIGARIO GERAL': 1, 'GRAJAU': 8, 'SANTA CRUZ': 113, 'VILA VALQUEIRE': 11, 'CIDADE DE DEUS': 23, 'IPANEMA': 15, 'LINS DE VASCONCELOS': 3, 'HIGIENOPOLIS': 2, 'BANCARIOS': 2, 'COSTA BARROS': 20, 'PIEDADE': 3, 'TIJUCA': 53, 'PAVUNA': 13, 'GUADALUPE': 6, 'PENHA': 26, 'TURIACU': 6, 'ROCHA MIRANDA': 7, 'GARDENIA AZUL': 12, 'GUARATIBA': 46, 'JACAREPAGUA': 27, 'TAQUARA': 45, 'ACARI': 1, 'VICENTE DE CARVALHO': 4, 'ROCINHA': 67, 'CACHAMBI': 4, 'SAO CRISTOVAO': 11, 'LEBLON': 6, 'ESTACIO': 11, 'SAO FRANCISCO XAVIER': 4, 'OSWALDO CRUZ': 4, 'PAQUETA': 4, 'PRACA SECA': 15, 'SAO CONRADO': 1, 'SANTO CRISTO': 8, 'TAUA': 5, 'COCOTA': 3, 'PENHA CIRCULAR': 6, 'RICARDO DE ALBUQUERQUE': 3, 'PADRE MIGUEL': 2, 'GLORIA': 3, 'COSMOS': 5, 'CAJU': 14, 'MEIER': 23, 'ABOLICAO': 3, 'REALENGO': 38, 'CORDOVIL': 9, 'BARRA DE GUARATIBA': 7, 'SENADOR CAMARA': 3, 'MARACANA': 3, 'COPACABANA': 40, 'SEPETIBA': 55, 'QUINTINO BOCAIUVA': 7, 'CASCADURA': 7, 'MADUREIRA': 7, 'CENTRO': 27, 'CIDADE UNIVERSITARIA': 3, 'VARGEM PEQUENA': 18, 'SANTA TERESA': 16, 'MARECHAL HERMES': 8, 'MAGALHAES BASTOS': 1, 'PARQUE ANCHIETA': 3, 'BOTAFOGO': 30, 'CATUMBI': 11, 'VILA ISABEL': 17, 'ENGENHO DE DENTRO': 7, 'VISTA ALEGRE': 3, 'TANQUE': 8, 'BONSUCESSO': 12, 'JARDIM AMERICA': 1, 'ROCHA': 3, 'BENFICA': 8, 'RIO COMPRIDO': 33, 'BANGU': 21, 'COMPLEXO DO ALEMAO': 10, 'GAMBOA': 6, 'MANGUINHOS': 2, 'ENGENHO NOVO': 15, 'JACAREZINHO': 1, 'SAMPAIO': 1, 'ANCHIETA': 18, 'JARDIM SULACAP': 3, 'PARADA DE LUCAS': 1, 'ANIL': 13, 'PITANGUEIRAS': 2, 'GALEAO': 4, 'RIBEIRA': 1, 'VIDIGAL': 4, 'TODOS OS SANTOS': 1, 'PECHINCHA': 10, 'LEME': 4, 'HONORIO GURGEL': 3, 'JARDIM CARIOCA': 4, 'CATETE': 8, 'FLAMENGO': 7, 'VARGEM GRANDE': 23, 'CIDADE NOVA': 2, 'LAGOA': 5, 'COSME VELHO': 1, 'BARRA DA TIJUCA': 20, 'PORTUGUESA': 5, 'LARANJEIRAS': 6, 'URCA': 1, 'INHAUMA': 11, 'SENADOR VASCONCELOS': 8, 'RAMOS': 11, 'CURICICA': 22}, {'COELHO NETO': 3, 'COSMOS': 4, 'CAMPO DOS AFONSOS': 1, 'PACIENCIA': 22, 'RECREIO DOS BANDEIRANTES': 1, 'SANTISSIMO': 7, 'COLEGIO': 11, 'PRACA DA BANDEIRA': 1, 'DEODORO': 1, 'CAMPINHO': 2, 'BENTO RIBEIRO': 16, 'PILARES': 8, 'ANDARAI': 9, 'GAVEA': 3, 'ZUMBI': 1, 'CACUIA': 1, 'MANGUEIRA': 2, 'ENCANTADO': 2, 'IRAJA': 28, 'HUMAITA': 3, 'BARROS FILHO': 1, 'CAMPO GRANDE': 45, 'OLARIA': 19, 'PEDRA DE GUARATIBA': 8, 'JACAREPAGUA': 17, 'JARDIM BOTANICO': 1, 'TOMAS COELHO': 3, 'VIGARIO GERAL': 2, 'ROCHA MIRANDA': 23, 'SANTA CRUZ': 101, 'VILA VALQUEIRE': 7, 'CIDADE DE DEUS': 5, 'IPANEMA': 15, 'LINS DE VASCONCELOS': 9, 'HIGIENOPOLIS': 1, 'BANCARIOS': 1, 'COSTA BARROS': 37, 'PIEDADE': 8, 'TIJUCA': 86, 'PAVUNA': 19, 'GUADALUPE': 10, 'PENHA': 41, 'TURIACU': 9, 'GRAJAU': 9, 'GARDENIA AZUL': 11, 'GUARATIBA': 46, 'TAQUARA': 27, 'JARDIM GUANABARA': 5, 'DEL CASTILHO': 4, 'MONERO': 1, 'VICENTE DE CARVALHO': 5, 'ROCINHA': 63, 'CACHAMBI': 7, 'SAO CRISTOVAO': 21, 'LEBLON': 5, 'ESTACIO': 14, 'SAO FRANCISCO XAVIER': 4, 'OSWALDO CRUZ': 5, 'PAQUETA': 18, 'PRACA SECA': 19, 'SAO CONRADO': 2, 'SANTO CRISTO': 9, 'SAUDE': 1, 'TAUA': 4, 'COCOTA': 1, 'PENHA CIRCULAR': 7, 'RICARDO DE ALBUQUERQUE': 3, 'PADRE MIGUEL': 5, 'GLORIA': 1, 'JACARE': 8, 'CAJU': 9, 'MEIER': 16, 'ABOLICAO': 2, 'REALENGO': 16, 'CORDOVIL': 9, 'BARRA DE GUARATIBA': 4, 'SENADOR CAMARA': 15, 'MARACANA': 6, 'COPACABANA': 32, 'CASCADURA': 5, 'QUINTINO BOCAIUVA': 8, 'SEPETIBA': 60, 'MADUREIRA': 6, 'PARQUE COLUMBIA': 1, 'CENTRO': 17, 'RIACHUELO': 8, 'VARGEM PEQUENA': 21, 'SANTA TERESA': 24, 'MARECHAL HERMES': 8, 'COSME VELHO': 1, 'PARQUE ANCHIETA': 2, 'BOTAFOGO': 23, 'CATUMBI': 4, 'VILA ISABEL': 25, 'ENGENHO DE DENTRO': 12, 'VISTA ALEGRE': 1, 'TANQUE': 8, 'BONSUCESSO': 21, 'JARDIM AMERICA': 4, 'ROCHA': 2, 'BENFICA': 10, 'RIO COMPRIDO': 31, 'BANGU': 21, 'COMPLEXO DO ALEMAO': 55, 'GAMBOA': 7, 'MANGUINHOS': 5, 'ENGENHO NOVO': 14, 'JACAREZINHO': 5, 'SAMPAIO': 6, 'ANCHIETA': 17, 'JARDIM SULACAP': 3, 'VILA MILITAR': 1, 'PARADA DE LUCAS': 4, 'ANIL': 18, 'GALEAO': 2, 'VIDIGAL': 10, 'TODOS OS SANTOS': 5, 'PECHINCHA': 12, 'LEME': 6, 'HONORIO GURGEL': 2, 'ACARI': 10, 'CATETE': 4, 'FLAMENGO': 5, 'VARGEM GRANDE': 10, 'JARDIM CARIOCA': 2, 'CIDADE NOVA': 2, 'LAGOA': 6, 'MAGALHAES BASTOS': 2, 'BARRA DA TIJUCA': 29, 'LARANJEIRAS': 3, 'INHAUMA': 19, 'SENADOR VASCONCELOS': 9, 'RAMOS': 28, 'CURICICA': 16}, {'COELHO NETO': 4, 'JACARE': 4, 'PACIENCIA': 23, 'SANTISSIMO': 15, 'COLEGIO': 3, 'PRACA DA BANDEIRA': 2, 'DEODORO': 2, 'CAMPINHO': 2, 'BENTO RIBEIRO': 16, 'CAVALCANTI': 1, 'PILARES': 9, 'ANDARAI': 6, 'CACUIA': 2, 'ENCANTADO': 2, 'IRAJA': 9, 'HUMAITA': 4, 'AGUA SANTA': 2, 'VAZ LOBO': 3, 'CAMPO GRANDE': 51, 'OLARIA': 9, 'PEDRA DE GUARATIBA': 11, 'CAMORIM': 3, 'MANGUEIRA': 6, 'JARDIM BOTANICO': 4, 'BARRA DA TIJUCA': 15, 'HONORIO GURGEL': 2, 'VIGARIO GERAL': 4, 'ROCHA MIRANDA': 14, 'SANTA CRUZ': 77, 'VILA VALQUEIRE': 6, 'CIDADE DE DEUS': 9, 'IPANEMA': 7, 'LINS DE VASCONCELOS': 8, 'BANCARIOS': 7, 'COSTA BARROS': 44, 'PIEDADE': 8, 'TIJUCA': 19, 'PAVUNA': 18, 'GUADALUPE': 7, 'SENADOR VASCONCELOS': 15, 'TURIACU': 3, 'GRAJAU': 10, 'GARDENIA AZUL': 5, 'GUARATIBA': 38, 'JACAREPAGUA': 20, 'TAQUARA': 21, 'JARDIM GUANABARA': 3, 'DEL CASTILHO': 3, 'TOMAS COELHO': 3, 'VICENTE DE CARVALHO': 6, 'ROCINHA': 55, 'CACHAMBI': 9, 'SAO CRISTOVAO': 11, 'LEBLON': 1, 'ESTACIO': 19, 'SAO FRANCISCO XAVIER': 12, 'OSWALDO CRUZ': 6, 'PAQUETA': 13, 'PRACA SECA': 25, 'CAMPO DOS AFONSOS': 2, 'SANTO CRISTO': 5, 'SAUDE': 1, 'TAUA': 4, 'MONERO': 1, 'PENHA CIRCULAR': 6, 'RICARDO DE ALBUQUERQUE': 6, 'PADRE MIGUEL': 5, 'COSMOS': 6, 'CAJU': 23, 'MEIER': 18, 'ABOLICAO': 3, 'REALENGO': 41, 'CORDOVIL': 6, 'BARRA DE GUARATIBA': 2, 'QUINTINO BOCAIUVA': 12, 'MARACANA': 3, 'COPACABANA': 68, 'SEPETIBA': 57, 'SENADOR CAMARA': 13, 'CASCADURA': 7, 'CENTRO': 24, 'MADUREIRA': 10, 'RIACHUELO': 3, 'VARGEM PEQUENA': 27, 'SANTA TERESA': 21, 'MANGUINHOS': 1, 'MARECHAL HERMES': 16, 'COSME VELHO': 1, 'PARQUE ANCHIETA': 2, 'BOTAFOGO': 31, 'VILA ISABEL': 17, 'ENGENHO DE DENTRO': 12, 'TANQUE': 3, 'BONSUCESSO': 10, 'JARDIM AMERICA': 4, 'ROCHA': 3, 'BENFICA': 7, 'RIO COMPRIDO': 21, 'BANGU': 24, 'COMPLEXO DO ALEMAO': 5, 'GAMBOA': 12, 'JARDIM CARIOCA': 3, 'ENGENHO NOVO': 23, 'JACAREZINHO': 1, 'SAMPAIO': 7, 'ANCHIETA': 24, 'JARDIM SULACAP': 5, 'ANIL': 9, 'PITANGUEIRAS': 1, 'GALEAO': 4, 'VIDIGAL': 6, 'TODOS OS SANTOS': 1, 'PECHINCHA': 7, 'LEME': 3, 'GLORIA': 5, 'ACARI': 5, 'CATETE': 5, 'FLAMENGO': 5, 'VARGEM GRANDE': 5, 'CIDADE NOVA': 1, 'LAGOA': 1, 'MAGALHAES BASTOS': 8, 'CATUMBI': 15, 'PORTUGUESA': 5, 'LARANJEIRAS': 11, 'URCA': 1, 'INHAUMA': 17, 'PENHA': 42, 'RAMOS': 21, 'CURICICA': 13}, {'COELHO NETO': 3, 'COSMOS': 8, 'PACIENCIA': 22, 'SANTISSIMO': 12, 'DEODORO': 2, 'CAMPINHO': 2, 'BENTO RIBEIRO': 14, 'PILARES': 13, 'ANDARAI': 4, 'GAVEA': 2, 'ENCANTADO': 4, 'IRAJA': 8, 'HUMAITA': 1, 'AGUA SANTA': 1, 'BARROS FILHO': 1, 'CAMPO GRANDE': 73, 'OLARIA': 2, 'PEDRA DE GUARATIBA': 11, 'TOMAS COELHO': 2, 'MANGUEIRA': 3, 'JARDIM BOTANICO': 2, 'BARRA DA TIJUCA': 13, 'VIGARIO GERAL': 1, 'GRUMARI': 1, 'ROCHA MIRANDA': 16, 'COLEGIO': 10, 'VILA VALQUEIRE': 7, 'CIDADE DE DEUS': 6, 'IPANEMA': 2, 'LINS DE VASCONCELOS': 8, 'HIGIENOPOLIS': 1, 'BANCARIOS': 3, 'JARDIM AMERICA': 5, 'PIEDADE': 8, 'TIJUCA': 12, 'PAVUNA': 29, 'GUADALUPE': 10, 'PENHA': 20, 'TURIACU': 7, 'GRAJAU': 5, 'GARDENIA AZUL': 9, 'SANTA CRUZ': 63, 'GUARATIBA': 33, 'CURICICA': 15, 'TAQUARA': 20, 'DEL CASTILHO': 1, 'VICENTE DE CARVALHO': 4, 'CACHAMBI': 3, 'SAO CRISTOVAO': 10, 'ESTACIO': 6, 'SAO FRANCISCO XAVIER': 6, 'OSWALDO CRUZ': 4, 'PAQUETA': 7, 'PRACA SECA': 17, 'SAO CONRADO': 1, 'ROCHA': 4, 'BANGU': 37, 'PENHA CIRCULAR': 6, 'RICARDO DE ALBUQUERQUE': 3, 'PADRE MIGUEL': 13, 'GLORIA': 3, 'JACARE': 9, 'CAJU': 7, 'MEIER': 8, 'ABOLICAO': 3, 'REALENGO': 36, 'CORDOVIL': 2, 'BARRA DE GUARATIBA': 2, 'QUINTINO BOCAIUVA': 11, 'MARACANA': 1, 'COPACABANA': 11, 'SEPETIBA': 32, 'SENADOR CAMARA': 16, 'CASCADURA': 3, 'MADUREIRA': 5, 'CENTRO': 19, 'RIACHUELO': 2, 'SAMPAIO': 24, 'SANTA TERESA': 16, 'MARECHAL HERMES': 5, 'PARQUE ANCHIETA': 4, 'BOTAFOGO': 7, 'VILA ISABEL': 10, 'ENGENHO DE DENTRO': 7, 'VISTA ALEGRE': 1, 'TANQUE': 5, 'BONSUCESSO': 11, 'COSTA BARROS': 29, 'SANTO CRISTO': 6, 'BENFICA': 3, 'RIO COMPRIDO': 15, 'JACAREPAGUA': 15, 'COMPLEXO DO ALEMAO': 15, 'GAMBOA': 1, 'MANGUINHOS': 1, 'ENGENHO NOVO': 23, 'JACAREZINHO': 1, 'VARGEM PEQUENA': 10, 'ANCHIETA': 20, 'JARDIM SULACAP': 2, 'VILA MILITAR': 1, 'ANIL': 9, 'PITANGUEIRAS': 1, 'RIBEIRA': 1, 'VIDIGAL': 8, 'PECHINCHA': 7, 'LEME': 2, 'HONORIO GURGEL': 3, 'ROCINHA': 50, 'CATETE': 5, 'FLAMENGO': 2, 'VARGEM GRANDE': 14, 'CIDADE NOVA': 1, 'LAGOA': 1, 'MAGALHAES BASTOS': 6, 'CATUMBI': 10, 'LARANJEIRAS': 2, 'URCA': 1, 'INHAUMA': 8, 'SENADOR VASCONCELOS': 14, 'RAMOS': 9}, {'COELHO NETO': 5, 'JACARE': 9, 'PACIENCIA': 30, 'SANTISSIMO': 7, 'DEODORO': 2, 'CAMPINHO': 6, 'BARRA DA TIJUCA': 16, 'BENTO RIBEIRO': 7, 'PILARES': 7, 'ANDARAI': 7, 'GAVEA': 1, 'CACUIA': 1, 'ENCANTADO': 4, 'IRAJA': 5, 'HUMAITA': 2, 'VAZ LOBO': 2, 'BARROS FILHO': 7, 'CAMPO GRANDE': 71, 'OLARIA': 9, 'PEDRA DE GUARATIBA': 12, 'CAMORIM': 5, 'MANGUEIRA': 7, 'JARDIM BOTANICO': 2, 'TOMAS COELHO': 6, 'VIGARIO GERAL': 5, 'ROCHA MIRANDA': 20, 'COLEGIO': 9, 'VILA VALQUEIRE': 12, 'CIDADE DE DEUS': 14, 'IPANEMA': 4, 'LINS DE VASCONCELOS': 20, 'HIGIENOPOLIS': 4, 'BANCARIOS': 2, 'COSTA BARROS': 39, 'PIEDADE': 15, 'TIJUCA': 12, 'PAVUNA': 49, 'GUADALUPE': 9, 'PENHA': 21, 'TURIACU': 10, 'GRAJAU': 7, 'GARDENIA AZUL': 15, 'SANTA CRUZ': 46, 'GUARATIBA': 34, 'CURICICA': 57, 'TAQUARA': 139, 'JARDIM GUANABARA': 4, 'DEL CASTILHO': 3, 'MONERO': 1, 'VICENTE DE CARVALHO': 11, 'ACARI': 4, 'CACHAMBI': 8, 'JACAREPAGUA': 21, 'SAO CRISTOVAO': 18, 'LEBLON': 3, 'ESTACIO': 14, 'SAO FRANCISCO XAVIER': 6, 'OSWALDO CRUZ': 9, 'PAQUETA': 10, 'PRACA SECA': 43, 'SAO CONRADO': 2, 'SANTO CRISTO': 13, 'SAUDE': 2, 'TAUA': 1, 'PENHA CIRCULAR': 3, 'RICARDO DE ALBUQUERQUE': 5, 'PADRE MIGUEL': 11, 'GLORIA': 2, 'COSMOS': 10, 'CAJU': 9, 'MEIER': 12, 'ABOLICAO': 1, 'REALENGO': 51, 'CORDOVIL': 6, 'BARRA DE GUARATIBA': 3, 'QUINTINO BOCAIUVA': 15, 'MARACANA': 1, 'COPACABANA': 13, 'SEPETIBA': 71, 'SENADOR CAMARA': 15, 'CASCADURA': 11, 'MADUREIRA': 13, 'CENTRO': 24, 'RIACHUELO': 4, 'SAMPAIO': 25, 'SANTA TERESA': 15, 'MARECHAL HERMES': 8, 'COSME VELHO': 1, 'PARQUE ANCHIETA': 1, 'BOTAFOGO': 12, 'VILA ISABEL': 9, 'ENGENHO DE DENTRO': 18, 'VISTA ALEGRE': 5, 'TANQUE': 33, 'BONSUCESSO': 14, 'JARDIM AMERICA': 4, 'ROCHA': 4, 'BENFICA': 6, 'RIO COMPRIDO': 22, 'BANGU': 27, 'COMPLEXO DO ALEMAO': 13, 'GAMBOA': 8, 'MANGUINHOS': 6, 'ENGENHO NOVO': 31, 'JACAREZINHO': 3, 'VARGEM PEQUENA': 19, 'ANCHIETA': 18, 'JARDIM SULACAP': 3, 'ANIL': 23, 'GALEAO': 6, 'VIDIGAL': 15, 'TODOS OS SANTOS': 3, 'PECHINCHA': 24, 'LEME': 2, 'HONORIO GURGEL': 6, 'ROCINHA': 40, 'CATETE': 1, 'FLAMENGO': 3, 'VARGEM GRANDE': 19, 'JARDIM CARIOCA': 2, 'CIDADE NOVA': 1, 'LAGOA': 2, 'MAGALHAES BASTOS': 9, 'CATUMBI': 19, 'PORTUGUESA': 1, 'LARANJEIRAS': 2, 'URCA': 1, 'INHAUMA': 24, 'SENADOR VASCONCELOS': 7, 'RAMOS': 31}, {'COELHO NETO': 5, 'JACARE': 6, 'VAZ LOBO': 3, 'PACIENCIA': 23, 'SANTISSIMO': 5, 'PRACA DA BANDEIRA': 3, 'DEODORO': 5, 'CAMPINHO': 6, 'BENTO RIBEIRO': 18, 'PILARES': 9, 'ANDARAI': 13, 'GAVEA': 2, 'CACUIA': 1, 'ENCANTADO': 2, 'IRAJA': 9, 'GUADALUPE': 7, 'BARROS FILHO': 4, 'CAMPO GRANDE': 46, 'OLARIA': 3, 'PEDRA DE GUARATIBA': 5, 'CAMORIM': 1, 'MANGUEIRA': 15, 'JARDIM BOTANICO': 1, 'VIGARIO GERAL': 2, 'GRAJAU': 14, 'COLEGIO': 5, 'VILA VALQUEIRE': 9, 'CIDADE DE DEUS': 5, 'IPANEMA': 1, 'LINS DE VASCONCELOS': 13, 'HIGIENOPOLIS': 2, 'DEL CASTILHO': 2, 'COSTA BARROS': 18, 'PIEDADE': 11, 'TIJUCA': 116, 'PAVUNA': 26, 'BARRA DA TIJUCA': 7, 'PENHA': 6, 'TURIACU': 4, 'ROCHA MIRANDA': 25, 'GARDENIA AZUL': 9, 'ROCHA': 1, 'GUARATIBA': 30, 'SANTA CRUZ': 50, 'TAQUARA': 22, 'ACARI': 3, 'MONERO': 1, 'VICENTE DE CARVALHO': 4, 'ROCINHA': 43, 'CACHAMBI': 7, 'SAO CRISTOVAO': 27, 'LEBLON': 1, 'ESTACIO': 27, 'SAO FRANCISCO XAVIER': 11, 'OSWALDO CRUZ': 1, 'PAQUETA': 7, 'PRACA SECA': 37, 'SANTO CRISTO': 11, 'BANGU': 26, 'COCOTA': 2, 'PENHA CIRCULAR': 2, 'RICARDO DE ALBUQUERQUE': 2, 'PADRE MIGUEL': 15, 'GLORIA': 1, 'COSMOS': 10, 'CAJU': 2, 'MEIER': 10, 'ABOLICAO': 3, 'REALENGO': 83, 'CORDOVIL': 3, 'BARRA DE GUARATIBA': 2, 'QUINTINO BOCAIUVA': 13, 'MARACANA': 6, 'COPACABANA': 12, 'SEPETIBA': 37, 'SENADOR CAMARA': 12, 'CASCADURA': 5, 'MADUREIRA': 18, 'CENTRO': 19, 'RIACHUELO': 9, 'SAMPAIO': 15, 'SANTA TERESA': 23, 'MARECHAL HERMES': 12, 'COSME VELHO': 1, 'PARQUE ANCHIETA': 4, 'BOTAFOGO': 12, 'SENADOR VASCONCELOS': 1, 'VILA ISABEL': 29, 'ENGENHO DE DENTRO': 11, 'VISTA ALEGRE': 2, 'TANQUE': 14, 'BONSUCESSO': 13, 'JARDIM AMERICA': 3, 'AGUA SANTA': 3, 'BENFICA': 19, 'RIO COMPRIDO': 46, 'JACAREPAGUA': 16, 'COMPLEXO DO ALEMAO': 5, 'GAMBOA': 3, 'MANGUINHOS': 3, 'ENGENHO NOVO': 25, 'JACAREZINHO': 1, 'VARGEM PEQUENA': 14, 'ANCHIETA': 13, 'SAUDE': 1, 'JARDIM SULACAP': 3, 'VILA MILITAR': 2, 'ANIL': 18, 'GALEAO': 3, 'RIBEIRA': 1, 'VIDIGAL': 10, 'TODOS OS SANTOS': 1, 'PECHINCHA': 13, 'LEME': 3, 'HONORIO GURGEL': 4, 'JARDIM CARIOCA': 5, 'CATETE': 6, 'FLAMENGO': 3, 'VARGEM GRANDE': 5, 'CIDADE NOVA': 3, 'MAGALHAES BASTOS': 5, 'CATUMBI': 19, 'PORTUGUESA': 1, 'LARANJEIRAS': 3, 'INHAUMA': 16, 'PARADA DE LUCAS': 1, 'RAMOS': 8, 'CURICICA': 12}, {'COELHO NETO': 15, 'JACARE': 3, 'PACIENCIA': 17, 'SANTISSIMO': 5, 'PRACA DA BANDEIRA': 1, 'DEODORO': 5, 'URCA': 3, 'ZUMBI': 1, 'BENTO RIBEIRO': 16, 'PILARES': 13, 'ANDARAI': 3, 'GAVEA': 1, 'ENGENHEIRO LEAL': 2, 'CACUIA': 1, 'MANGUEIRA': 1, 'ENCANTADO': 5, 'IRAJA': 7, 'AGUA SANTA': 1, 'VAZ LOBO': 3, 'BARROS FILHO': 5, 'CAMPO GRANDE': 48, 'OLARIA': 9, 'PEDRA DE GUARATIBA': 3, 'CURICICA': 9, 'TOMAS COELHO': 2, 'VIGARIO GERAL': 2, 'ROCHA MIRANDA': 14, 'COLEGIO': 7, 'CIDADE DE DEUS': 7, 'MARIA DA GRACA': 2, 'LINS DE VASCONCELOS': 12, 'JARDIM AMERICA': 4, 'PIEDADE': 12, 'TIJUCA': 15, 'PAVUNA': 16, 'GUADALUPE': 13, 'PENHA': 17, 'TURIACU': 4, 'GRAJAU': 4, 'GARDENIA AZUL': 12, 'SANTA CRUZ': 57, 'GUARATIBA': 26, 'JACAREPAGUA': 6, 'TAQUARA': 20, 'DEL CASTILHO': 3, 'VICENTE DE CARVALHO': 7, 'ACARI': 3, 'CACHAMBI': 4, 'SAO CRISTOVAO': 13, 'LEBLON': 1, 'ESTACIO': 6, 'SAO FRANCISCO XAVIER': 3, 'OSWALDO CRUZ': 3, 'PAQUETA': 1, 'PRACA SECA': 24, 'SANTO CRISTO': 18, 'SAUDE': 1, 'TAUA': 2, 'PENHA CIRCULAR': 1, 'IPANEMA': 1, 'RICARDO DE ALBUQUERQUE': 6, 'PADRE MIGUEL': 21, 'GLORIA': 3, 'COSMOS': 14, 'CAJU': 3, 'MEIER': 7, 'ABOLICAO': 3, 'REALENGO': 171, 'CORDOVIL': 3, 'BARRA DE GUARATIBA': 1, 'SENADOR CAMARA': 20, 'MARACANA': 2, 'COPACABANA': 5, 'CAMPINHO': 3, 'SEPETIBA': 44, 'QUINTINO BOCAIUVA': 8, 'CASCADURA': 10, 'CENTRO': 42, 'MADUREIRA': 8, 'RIACHUELO': 6, 'VARGEM PEQUENA': 25, 'SANTA TERESA': 18, 'MANGUINHOS': 2, 'MARECHAL HERMES': 15, 'COSME VELHO': 1, 'PARQUE ANCHIETA': 1, 'BOTAFOGO': 8, 'CATUMBI': 14, 'VILA ISABEL': 12, 'ENGENHO DE DENTRO': 18, 'TANQUE': 10, 'BONSUCESSO': 9, 'COSTA BARROS': 22, 'ROCHA': 3, 'BENFICA': 7, 'RIO COMPRIDO': 18, 'BANGU': 34, 'COMPLEXO DO ALEMAO': 2, 'GAMBOA': 6, 'JARDIM CARIOCA': 2, 'ENGENHO NOVO': 27, 'JACAREZINHO': 2, 'SAMPAIO': 9, 'ANCHIETA': 12, 'JARDIM SULACAP': 10, 'VILA MILITAR': 2, 'PARADA DE LUCAS': 2, 'ANIL': 16, 'PITANGUEIRAS': 2, 'GALEAO': 2, 'VIDIGAL': 8, 'TODOS OS SANTOS': 2, 'PECHINCHA': 14, 'LEME': 1, 'HONORIO GURGEL': 4, 'ROCINHA': 43, 'CATETE': 3, 'FLAMENGO': 1, 'VARGEM GRANDE': 6, 'CIDADE NOVA': 4, 'LAGOA': 1, 'MAGALHAES BASTOS': 11, 'BARRA DA TIJUCA': 17, 'PORTUGUESA': 2, 'LARANJEIRAS': 1, 'INHAUMA': 10, 'SENADOR VASCONCELOS': 2, 'RAMOS': 10}, {'COELHO NETO': 14, 'JACARE': 3, 'PACIENCIA': 15, 'SANTISSIMO': 9, 'COLEGIO': 1, 'PRACA DA BANDEIRA': 6, 'DEODORO': 8, 'CAMPINHO': 2, 'BENTO RIBEIRO': 12, 'PILARES': 8, 'ANDARAI': 1, 'ENGENHEIRO LEAL': 1, 'ENCANTADO': 5, 'IRAJA': 8, 'HUMAITA': 3, 'VAZ LOBO': 2, 'BARROS FILHO': 3, 'CAMPO GRANDE': 63, 'OLARIA': 17, 'PEDRA DE GUARATIBA': 3, 'MANGUEIRA': 5, 'TOMAS COELHO': 4, 'VIGARIO GERAL': 1, 'ROCHA MIRANDA': 6, 'SANTA CRUZ': 41, 'VILA VALQUEIRE': 6, 'CIDADE DE DEUS': 4, 'IPANEMA': 9, 'LINS DE VASCONCELOS': 19, 'HIGIENOPOLIS': 1, 'COSTA BARROS': 14, 'PIEDADE': 19, 'TIJUCA': 27, 'PITANGUEIRAS': 3, 'BARRA DA TIJUCA': 6, 'PENHA': 22, 'TURIACU': 2, 'AGUA SANTA': 1, 'GARDENIA AZUL': 10, 'GUARATIBA': 23, 'CURICICA': 6, 'TAQUARA': 16, 'HONORIO GURGEL': 1, 'DEL CASTILHO': 2, 'VICENTE DE CARVALHO': 7, 'ACARI': 2, 'CACHAMBI': 11, 'JACAREPAGUA': 5, 'SAO CRISTOVAO': 19, 'LEBLON': 2, 'ESTACIO': 7, 'SAO FRANCISCO XAVIER': 3, 'OSWALDO CRUZ': 4, 'PAQUETA': 3, 'PRACA SECA': 17, 'SANTO CRISTO': 5, 'SAUDE': 1, 'TAUA': 3, 'COCOTA': 1, 'PENHA CIRCULAR': 6, 'PADRE MIGUEL': 16, 'COSMOS': 12, 'CAJU': 10, 'MEIER': 12, 'ABOLICAO': 1, 'REALENGO': 65, 'CORDOVIL': 5, 'BARRA DE GUARATIBA': 3, 'SENADOR CAMARA': 19, 'MARACANA': 1, 'COPACABANA': 15, 'SEPETIBA': 45, 'QUINTINO BOCAIUVA': 7, 'CASCADURA': 7, 'CENTRO': 32, 'MADUREIRA': 9, 'RIACHUELO': 5, 'VARGEM PEQUENA': 9, 'SANTA TERESA': 8, 'MARECHAL HERMES': 19, 'PARQUE ANCHIETA': 3, 'BOTAFOGO': 8, 'CATUMBI': 6, 'VILA ISABEL': 8, 'ENGENHO DE DENTRO': 9, 'VISTA ALEGRE': 1, 'TANQUE': 4, 'BONSUCESSO': 8, 'JARDIM AMERICA': 1, 'ROCHA': 5, 'BENFICA': 8, 'RIO COMPRIDO': 17, 'BANGU': 24, 'COMPLEXO DO ALEMAO': 112, 'GAMBOA': 5, 'MANGUINHOS': 2, 'ENGENHO NOVO': 14, 'JACAREZINHO': 1, 'SAMPAIO': 7, 'ANCHIETA': 7, 'JARDIM SULACAP': 5, 'PARADA DE LUCAS': 1, 'ANIL': 9, 'PAVUNA': 10, 'GALEAO': 1, 'VIDIGAL': 4, 'TODOS OS SANTOS': 2, 'PECHINCHA': 6, 'GLORIA': 1, 'ROCINHA': 20, 'CATETE': 1, 'FLAMENGO': 2, 'VARGEM GRANDE': 3, 'JARDIM CARIOCA': 2, 'CIDADE NOVA': 5, 'CIDADE UNIVERSITARIA': 1, 'MAGALHAES BASTOS': 14, 'GUADALUPE': 13, 'PORTUGUESA': 1, 'LARANJEIRAS': 4, 'INHAUMA': 13, 'SENADOR VASCONCELOS': 8, 'RAMOS': 14, 'GRAJAU': 1}, {'COELHO NETO': 10, 'JACARE': 5, 'PACIENCIA': 10, 'SANTISSIMO': 1, 'PRACA DA BANDEIRA': 2, 'DEODORO': 5, 'URCA': 3, 'BENTO RIBEIRO': 8, 'PILARES': 6, 'ANDARAI': 2, 'GAVEA': 1, 'ENGENHEIRO LEAL': 1, 'CACUIA': 1, 'ENCANTADO': 4, 'IRAJA': 45, 'HUMAITA': 1, 'AGUA SANTA': 1, 'VAZ LOBO': 8, 'BARROS FILHO': 1, 'CAMPO GRANDE': 29, 'OLARIA': 13, 'PEDRA DE GUARATIBA': 2, 'TAQUARA': 16, 'JARDIM BOTANICO': 1, 'TOMAS COELHO': 10, 'VIGARIO GERAL': 9, 'ROCHA MIRANDA': 20, 'COLEGIO': 22, 'VILA VALQUEIRE': 5, 'CIDADE DE DEUS': 3, 'IPANEMA': 6, 'LINS DE VASCONCELOS': 5, 'HIGIENOPOLIS': 3, 'BANCARIOS': 1, 'JARDIM AMERICA': 11, 'PIEDADE': 10, 'TIJUCA': 14, 'PAVUNA': 20, 'BARRA DA TIJUCA': 6, 'SENADOR VASCONCELOS': 4, 'TURIACU': 7, 'GRAJAU': 2, 'GARDENIA AZUL': 3, 'SANTA CRUZ': 24, 'GUARATIBA': 16, 'CURICICA': 4, 'JARDIM GUANABARA': 3, 'DEL CASTILHO': 4, 'MONERO': 1, 'VICENTE DE CARVALHO': 6, 'ACARI': 11, 'CACHAMBI': 7, 'JACAREPAGUA': 3, 'SAO CRISTOVAO': 11, 'LEBLON': 2, 'ESTACIO': 10, 'SAO FRANCISCO XAVIER': 2, 'OSWALDO CRUZ': 2, 'PAQUETA': 1, 'PRACA SECA': 3, 'SAO CONRADO': 1, 'SANTO CRISTO': 8, 'SAUDE': 2, 'TAUA': 1, 'MARIA DA GRACA': 1, 'PENHA CIRCULAR': 4, 'PADRE MIGUEL': 12, 'GLORIA': 1, 'COSMOS': 5, 'CAJU': 5, 'MEIER': 11, 'ABOLICAO': 2, 'REALENGO': 40, 'CORDOVIL': 23, 'BARRA DE GUARATIBA': 4, 'QUINTINO BOCAIUVA': 9, 'COPACABANA': 19, 'CAMPINHO': 1, 'SEPETIBA': 39, 'SENADOR CAMARA': 8, 'CASCADURA': 4, 'MADUREIRA': 14, 'CENTRO': 20, 'RIACHUELO': 1, 'VARGEM PEQUENA': 5, 'SANTA TERESA': 10, 'MARECHAL HERMES': 10, 'COSME VELHO': 2, 'PARQUE ANCHIETA': 1, 'BOTAFOGO': 9, 'CATUMBI': 5, 'VILA ISABEL': 5, 'ENGENHO DE DENTRO': 9, 'VISTA ALEGRE': 12, 'TANQUE': 4, 'BONSUCESSO': 6, 'COSTA BARROS': 23, 'ROCHA': 1, 'BENFICA': 7, 'RIO COMPRIDO': 11, 'BANGU': 25, 'COMPLEXO DO ALEMAO': 81, 'GAMBOA': 6, 'MANGUINHOS': 3, 'ENGENHO NOVO': 20, 'JACAREZINHO': 3, 'SAMPAIO': 1, 'ANCHIETA': 13, 'JARDIM SULACAP': 2, 'VILA MILITAR': 1, 'PARADA DE LUCAS': 5, 'ANIL': 12, 'CAVALCANTI': 1, 'GALEAO': 2, 'RIBEIRA': 1, 'VIDIGAL': 3, 'TODOS OS SANTOS': 4, 'PECHINCHA': 4, 'HONORIO GURGEL': 4, 'ROCINHA': 22, 'CATETE': 2, 'FLAMENGO': 3, 'VARGEM GRANDE': 4, 'JARDIM CARIOCA': 1, 'CIDADE NOVA': 4, 'LAGOA': 1, 'MAGALHAES BASTOS': 3, 'GUADALUPE': 16, 'LARANJEIRAS': 3, 'INHAUMA': 11, 'PENHA': 10, 'RAMOS': 14}, {'COELHO NETO': 6, 'COSMOS': 2, 'PACIENCIA': 11, 'SANTISSIMO': 6, 'COLEGIO': 1, 'PRACA DA BANDEIRA': 1, 'DEODORO': 4, 'CAMPINHO': 1, 'BARRA DA TIJUCA': 7, 'BENTO RIBEIRO': 3, 'PILARES': 10, 'ANDARAI': 1, 'GAVEA': 1, 'ENCANTADO': 2, 'IRAJA': 11, 'HUMAITA': 1, 'VAZ LOBO': 1, 'BARROS FILHO': 1, 'CAMPO GRANDE': 37, 'OLARIA': 7, 'PEDRA DE GUARATIBA': 1, 'ENGENHO DE DENTRO': 4, 'MANGUEIRA': 2, 'TOMAS COELHO': 2, 'VIGARIO GERAL': 1, 'ROCHA MIRANDA': 5, 'SANTA CRUZ': 26, 'VILA VALQUEIRE': 3, 'CIDADE DE DEUS': 1, 'IPANEMA': 5, 'LINS DE VASCONCELOS': 4, 'COSTA BARROS': 7, 'PIEDADE': 5, 'TIJUCA': 25, 'PAVUNA': 4, 'GUADALUPE': 3, 'PENHA': 13, 'TURIACU': 2, 'GRAJAU': 4, 'GARDENIA AZUL': 7, 'GUARATIBA': 11, 'CURICICA': 3, 'TAQUARA': 4, 'JARDIM GUANABARA': 2, 'DEL CASTILHO': 3, 'MONERO': 1, 'ROCINHA': 20, 'CACHAMBI': 11, 'JACAREPAGUA': 2, 'SAO CRISTOVAO': 13, 'ESTACIO': 5, 'SAO FRANCISCO XAVIER': 3, 'OSWALDO CRUZ': 4, 'PAQUETA': 2, 'PRACA SECA': 4, 'SAO CONRADO': 1, 'ROCHA': 3, 'TAUA': 2, 'MARIA DA GRACA': 1, 'PENHA CIRCULAR': 2, 'RICARDO DE ALBUQUERQUE': 1, 'PADRE MIGUEL': 6, 'GLORIA': 1, 'JACARE': 8, 'CAJU': 5, 'COCOTA': 1, 'MEIER': 6, 'REALENGO': 45, 'CORDOVIL': 5, 'BARRA DE GUARATIBA': 5, 'SENADOR CAMARA': 8, 'MARACANA': 3, 'COPACABANA': 18, 'SEPETIBA': 20, 'QUINTINO BOCAIUVA': 3, 'CASCADURA': 3, 'MADUREIRA': 5, 'CENTRO': 13, 'RIACHUELO': 2, 'VARGEM PEQUENA': 2, 'SANTA TERESA': 9, 'MARECHAL HERMES': 12, 'COSME VELHO': 1, 'BOTAFOGO': 4, 'VILA ISABEL': 27, 'CAMORIM': 2, 'TANQUE': 2, 'BONSUCESSO': 6, 'JARDIM AMERICA': 1, 'SANTO CRISTO': 6, 'BENFICA': 3, 'RIO COMPRIDO': 6, 'BANGU': 17, 'COMPLEXO DO ALEMAO': 19, 'GAMBOA': 5, 'MANGUINHOS': 2, 'ENGENHO NOVO': 16, 'JACAREZINHO': 1, 'SAMPAIO': 1, 'ANCHIETA': 2, 'JARDIM SULACAP': 1, 'VILA MILITAR': 1, 'PARADA DE LUCAS': 2, 'ANIL': 5, 'CAVALCANTI': 1, 'GALEAO': 1, 'VIDIGAL': 7, 'TODOS OS SANTOS': 2, 'PECHINCHA': 2, 'LEME': 1, 'HONORIO GURGEL': 4, 'JARDIM CARIOCA': 2, 'CATETE': 1, 'FLAMENGO': 2, 'VARGEM GRANDE': 4, 'CIDADE NOVA': 2, 'LAGOA': 2, 'MAGALHAES BASTOS': 7, 'CATUMBI': 6, 'LARANJEIRAS': 2, 'INHAUMA': 10, 'SENADOR VASCONCELOS': 5, 'RAMOS': 8}, {'COELHO NETO': 3, 'JACARE': 3, 'PACIENCIA': 8, 'SANTISSIMO': 7, 'PRACA DA BANDEIRA': 1, 'DEODORO': 2, 'URCA': 1, 'BARRA DA TIJUCA': 1, 'BENTO RIBEIRO': 3, 'PILARES': 4, 'ANDARAI': 1, 'ENCANTADO': 2, 'IRAJA': 6, 'VAZ LOBO': 1, 'CAMPO GRANDE': 75, 'OLARIA': 2, 'PEDRA DE GUARATIBA': 9, 'CAMORIM': 1, 'CURICICA': 3, 'TOMAS COELHO': 2, 'VIGARIO GERAL': 4, 'GRAJAU': 6, 'COLEGIO': 2, 'VILA VALQUEIRE': 2, 'CIDADE DE DEUS': 2, 'MARIA DA GRACA': 2, 'LINS DE VASCONCELOS': 6, 'HIGIENOPOLIS': 1, 'COSTA BARROS': 4, 'JARDIM SULACAP': 3, 'TIJUCA': 10, 'PAVUNA': 4, 'GUADALUPE': 5, 'PENHA': 5, 'TURIACU': 3, 'ROCHA MIRANDA': 6, 'GARDENIA AZUL': 9, 'SANTA CRUZ': 14, 'GUARATIBA': 21, 'JACAREPAGUA': 3, 'TAQUARA': 4, 'JARDIM GUANABARA': 1, 'DEL CASTILHO': 2, 'MONERO': 1, 'VICENTE DE CARVALHO': 2, 'ROCINHA': 24, 'CACHAMBI': 5, 'SAO CRISTOVAO': 9, 'LEBLON': 1, 'ESTACIO': 1, 'OSWALDO CRUZ': 2, 'PAQUETA': 8, 'PRACA SECA': 4, 'SANTO CRISTO': 5, 'TAUA': 1, 'COCOTA': 2, 'PENHA CIRCULAR': 3, 'IPANEMA': 3, 'PADRE MIGUEL': 5, 'COSMOS': 13, 'CAJU': 1, 'MEIER': 6, 'ABOLICAO': 4, 'REALENGO': 36, 'CORDOVIL': 2, 'BARRA DE GUARATIBA': 3, 'QUINTINO BOCAIUVA': 1, 'COPACABANA': 15, 'CASCADURA': 6, 'SENADOR CAMARA': 10, 'SEPETIBA': 19, 'CENTRO': 9, 'MADUREIRA': 3, 'RIACHUELO': 3, 'SAMPAIO': 1, 'SANTA TERESA': 6, 'MARECHAL HERMES': 3, 'BOTAFOGO': 5, 'VILA ISABEL': 2, 'ACARI': 1, 'ENGENHO DE DENTRO': 2, 'VISTA ALEGRE': 1, 'BONSUCESSO': 5, 'JARDIM AMERICA': 1, 'ROCHA': 1, 'RIO COMPRIDO': 2, 'BANGU': 22, 'COMPLEXO DO ALEMAO': 1, 'GAMBOA': 1, 'MANGUINHOS': 1, 'ENGENHO NOVO': 7, 'JACAREZINHO': 2, 'ANCHIETA': 4, 'GALEAO': 1, 'VIDIGAL': 2, 'TODOS OS SANTOS': 2, 'LEME': 3, 'HONORIO GURGEL': 2, 'JARDIM CARIOCA': 2, 'VARGEM GRANDE': 2, 'CIDADE NOVA': 1, 'LAGOA': 2, 'MAGALHAES BASTOS': 3, 'CATUMBI': 3, 'INHAUMA': 6, 'SENADOR VASCONCELOS': 6, 'RAMOS': 1}, {'COELHO NETO': 1, 'COSMOS': 3, 'PACIENCIA': 8, 'SANTISSIMO': 4, 'DEODORO': 2, 'CAMPINHO': 1, 'BENTO RIBEIRO': 4, 'PILARES': 2, 'ANDARAI': 1, 'ZUMBI': 1, 'ENCANTADO': 1, 'IRAJA': 5, 'HUMAITA': 1, 'CAMPO GRANDE': 54, 'OLARIA': 7, 'PEDRA DE GUARATIBA': 2, 'CAMORIM': 1, 'MANGUEIRA': 2, 'TOMAS COELHO': 2, 'VIGARIO GERAL': 1, 'ROCHA MIRANDA': 3, 'SANTA CRUZ': 13, 'VILA VALQUEIRE': 4, 'CIDADE DE DEUS': 25, 'IPANEMA': 1, 'LINS DE VASCONCELOS': 6, 'HIGIENOPOLIS': 1, 'BANCARIOS': 1, 'COSTA BARROS': 4, 'PIEDADE': 3, 'TIJUCA': 4, 'PAVUNA': 2, 'GUADALUPE': 4, 'SENADOR VASCONCELOS': 5, 'TURIACU': 1, 'GRAJAU': 2, 'GARDENIA AZUL': 12, 'GUARATIBA': 16, 'JACAREPAGUA': 15, 'TAQUARA': 19, 'JARDIM GUANABARA': 3, 'DEL CASTILHO': 1, 'VICENTE DE CARVALHO': 1, 'JARDIM CARIOCA': 1, 'CACHAMBI': 5, 'SAO CRISTOVAO': 6, 'ESTACIO': 2, 'OSWALDO CRUZ': 3, 'PAQUETA': 2, 'PRACA SECA': 12, 'SANTO CRISTO': 8, 'TAUA': 4, 'PENHA CIRCULAR': 2, 'PADRE MIGUEL': 10, 'JACARE': 4, 'MEIER': 5, 'ABOLICAO': 2, 'REALENGO': 31, 'CORDOVIL': 8, 'BARRA DE GUARATIBA': 3, 'QUINTINO BOCAIUVA': 1, 'COPACABANA': 14, 'SEPETIBA': 19, 'SENADOR CAMARA': 11, 'CASCADURA': 4, 'MADUREIRA': 3, 'CENTRO': 4, 'RIACHUELO': 4, 'SAMPAIO': 2, 'SANTA TERESA': 2, 'MARECHAL HERMES': 1, 'BOTAFOGO': 3, 'CATUMBI': 1, 'VILA ISABEL': 4, 'ENGENHO DE DENTRO': 3, 'TANQUE': 7, 'BONSUCESSO': 2, 'AGUA SANTA': 1, 'BENFICA': 5, 'RIO COMPRIDO': 6, 'BANGU': 16, 'LARANJEIRAS': 2, 'GAMBOA': 1, 'MANGUINHOS': 2, 'ENGENHO NOVO': 4, 'JACAREZINHO': 4, 'VARGEM PEQUENA': 1, 'ANCHIETA': 1, 'JARDIM SULACAP': 3, 'VILA MILITAR': 1, 'ANIL': 6, 'VIDIGAL': 2, 'PECHINCHA': 8, 'LEME': 1, 'HONORIO GURGEL': 2, 'ROCINHA': 11, 'CATETE': 1, 'FLAMENGO': 1, 'MAGALHAES BASTOS': 2, 'BARRA DA TIJUCA': 1, 'SAO CONRADO': 1, 'INHAUMA': 8, 'PENHA': 5, 'RAMOS': 1, 'CURICICA': 12}, {'COELHO NETO': 1, 'COSMOS': 4, 'PACIENCIA': 4, 'SANTISSIMO': 4, 'DEODORO': 6, 'ZUMBI': 1, 'BENTO RIBEIRO': 3, 'PILARES': 1, 'ANDARAI': 1, 'GAVEA': 1, 'ENGENHEIRO LEAL': 1, 'IRAJA': 2, 'VAZ LOBO': 1, 'CAMPO GRANDE': 30, 'OLARIA': 7, 'PEDRA DE GUARATIBA': 1, 'CURICICA': 4, 'JARDIM BOTANICO': 1, 'VIGARIO GERAL': 1, 'ROCHA MIRANDA': 4, 'COLEGIO': 5, 'VILA VALQUEIRE': 1, 'CIDADE DE DEUS': 5, 'LINS DE VASCONCELOS': 3, 'DEL CASTILHO': 1, 'JARDIM AMERICA': 2, 'PIEDADE': 2, 'TIJUCA': 3, 'PAVUNA': 3, 'BARRA DA TIJUCA': 5, 'PENHA': 5, 'TURIACU': 1, 'GRAJAU': 3, 'GARDENIA AZUL': 2, 'ROCHA': 1, 'SANTA CRUZ': 14, 'GUARATIBA': 14, 'TAQUARA': 9, 'ACARI': 1, 'VICENTE DE CARVALHO': 1, 'ROCINHA': 3, 'CACHAMBI': 3, 'JACAREPAGUA': 3, 'SAO CRISTOVAO': 7, 'ESTACIO': 5, 'SAO FRANCISCO XAVIER': 2, 'OSWALDO CRUZ': 4, 'PAQUETA': 2, 'PRACA SECA': 38, 'SANTO CRISTO': 5, 'SAUDE': 1, 'PENHA CIRCULAR': 1, 'PADRE MIGUEL': 4, 'JACARE': 6, 'CAJU': 4, 'MEIER': 8, 'REALENGO': 28, 'CORDOVIL': 2, 'BARRA DE GUARATIBA': 1, 'QUINTINO BOCAIUVA': 3, 'COPACABANA': 9, 'SEPETIBA': 16, 'SENADOR CAMARA': 2, 'CASCADURA': 2, 'MADUREIRA': 4, 'CENTRO': 6, 'RIACHUELO': 1, 'VARGEM PEQUENA': 2, 'SANTA TERESA': 3, 'MARECHAL HERMES': 6, 'COSME VELHO': 1, 'PARQUE ANCHIETA': 1, 'BOTAFOGO': 1, 'CATUMBI': 1, 'VILA ISABEL': 4, 'ENGENHO DE DENTRO': 4, 'TANQUE': 4, 'BONSUCESSO': 2, 'COSTA BARROS': 2, 'AGUA SANTA': 1, 'BENFICA': 1, 'RIO COMPRIDO': 5, 'BANGU': 9, 'MANGUINHOS': 2, 'ENGENHO NOVO': 4, 'SAMPAIO': 1, 'ANCHIETA': 3, 'JARDIM SULACAP': 1, 'VILA MILITAR': 2, 'GALEAO': 2, 'VIDIGAL': 2, 'TODOS OS SANTOS': 1, 'PECHINCHA': 4, 'LEME': 1, 'HONORIO GURGEL': 2, 'JARDIM CARIOCA': 1, 'FLAMENGO': 1, 'CIDADE NOVA': 2, 'MAGALHAES BASTOS': 1, 'GUADALUPE': 4, 'LARANJEIRAS': 1, 'INHAUMA': 2, 'RAMOS': 1}, {'COELHO NETO': 3, 'JACARE': 2, 'PACIENCIA': 6, 'SANTISSIMO': 5, 'COLEGIO': 3, 'DEODORO': 1, 'BENTO RIBEIRO': 5, 'PILARES': 1, 'ANDARAI': 8, 'ENCANTADO': 1, 'CAMPO GRANDE': 33, 'OLARIA': 5, 'PEDRA DE GUARATIBA': 5, 'JACAREPAGUA': 5, 'TOMAS COELHO': 1, 'VIGARIO GERAL': 1, 'GRAJAU': 3, 'SANTA CRUZ': 4, 'CIDADE DE DEUS': 3, 'LINS DE VASCONCELOS': 2, 'HIGIENOPOLIS': 3, 'COSTA BARROS': 2, 'JARDIM SULACAP': 3, 'TIJUCA': 4, 'PAVUNA': 1, 'BARRA DA TIJUCA': 1, 'SENADOR VASCONCELOS': 3, 'TURIACU': 1, 'ROCHA MIRANDA': 1, 'GARDENIA AZUL': 1, 'GUARATIBA': 10, 'TAQUARA': 21, 'DEL CASTILHO': 1, 'VICENTE DE CARVALHO': 1, 'JARDIM CARIOCA': 2, 'LEBLON': 1, 'SAO CRISTOVAO': 1, 'CACHAMBI': 1, 'ESTACIO': 6, 'OSWALDO CRUZ': 3, 'PAQUETA': 2, 'PRACA SECA': 5, 'ROCHA': 2, 'SAUDE': 1, 'TAUA': 2, 'PENHA CIRCULAR': 1, 'PADRE MIGUEL': 2, 'GLORIA': 1, 'COSMOS': 8, 'CAJU': 1, 'MEIER': 2, 'ABOLICAO': 2, 'REALENGO': 15, 'BARRA DE GUARATIBA': 1, 'COPACABANA': 7, 'SEPETIBA': 10, 'SENADOR CAMARA': 4, 'CASCADURA': 2, 'CENTRO': 4, 'MADUREIRA': 2, 'RIACHUELO': 1, 'SAMPAIO': 2, 'SANTA TERESA': 6, 'MARECHAL HERMES': 4, 'BOTAFOGO': 5, 'VILA ISABEL': 11, 'ACARI': 3, 'TANQUE': 2, 'BONSUCESSO': 5, 'JARDIM AMERICA': 2, 'SANTO CRISTO': 4, 'PIEDADE': 1, 'BANGU': 5, 'COMPLEXO DO ALEMAO': 34, 'GAMBOA': 1, 'MANGUINHOS': 2, 'ENGENHO NOVO': 2, 'JACAREZINHO': 1, 'VARGEM PEQUENA': 1, 'ANCHIETA': 3, 'ANIL': 1, 'PECHINCHA': 2, 'LEME': 2, 'HONORIO GURGEL': 4, 'ROCINHA': 4, 'VARGEM GRANDE': 1, 'MAGALHAES BASTOS': 3, 'GUADALUPE': 5, 'LARANJEIRAS': 1, 'INHAUMA': 9, 'PENHA': 1, 'RAMOS': 7, 'CURICICA': 9}, {'COELHO NETO': 2, 'JACARE': 1, 'PACIENCIA': 5, 'SANTISSIMO': 3, 'DEODORO': 1, 'CAMPINHO': 1, 'BENTO RIBEIRO': 4, 'PILARES': 1, 'ANDARAI': 2, 'ENCANTADO': 2, 'IRAJA': 3, 'GUADALUPE': 2, 'BARROS FILHO': 1, 'CAMPO GRANDE': 28, 'OLARIA': 1, 'PEDRA DE GUARATIBA': 4, 'JACAREPAGUA': 7, 'ROCHA MIRANDA': 3, 'COLEGIO': 1, 'VILA VALQUEIRE': 3, 'CIDADE DE DEUS': 8, 'PIEDADE': 2, 'TIJUCA': 5, 'PAVUNA': 2, 'CATUMBI': 1, 'PENHA': 1, 'TURIACU': 3, 'GRAJAU': 2, 'GARDENIA AZUL': 6, 'SANTA CRUZ': 5, 'GUARATIBA': 7, 'CURICICA': 15, 'TAQUARA': 37, 'ROCINHA': 3, 'LEBLON': 1, 'SAO CRISTOVAO': 1, 'ESTACIO': 2, 'OSWALDO CRUZ': 2, 'RIO COMPRIDO': 1, 'PAQUETA': 1, 'PRACA SECA': 34, 'ROCHA': 2, 'TAUA': 2, 'PENHA CIRCULAR': 1, 'PADRE MIGUEL': 1, 'GLORIA': 1, 'COSMOS': 5, 'CAJU': 1, 'MEIER': 1, 'ABOLICAO': 3, 'REALENGO': 12, 'CORDOVIL': 3, 'COPACABANA': 4, 'SEPETIBA': 8, 'SENADOR CAMARA': 4, 'CASCADURA': 1, 'MADUREIRA': 3, 'CENTRO': 11, 'RIACHUELO': 5, 'VARGEM PEQUENA': 10, 'SANTA TERESA': 6, 'MARECHAL HERMES': 5, 'BOTAFOGO': 1, 'VILA ISABEL': 11, 'TANQUE': 8, 'BONSUCESSO': 2, 'SANTO CRISTO': 1, 'BENFICA': 2, 'JARDIM SULACAP': 1, 'BANGU': 5, 'MANGUINHOS': 1, 'ENGENHO NOVO': 2, 'JACAREZINHO': 3, 'ANCHIETA': 2, 'ANIL': 4, 'GALEAO': 1, 'PECHINCHA': 4, 'HONORIO GURGEL': 2, 'JARDIM CARIOCA': 1, 'FLAMENGO': 1, 'MAGALHAES BASTOS': 1, 'BARRA DA TIJUCA': 2, 'PORTUGUESA': 1, 'LARANJEIRAS': 2, 'INHAUMA': 1, 'SENADOR VASCONCELOS': 4, 'RAMOS': 5}, {'COSMOS': 1, 'GALEAO': 1, 'CAJU': 1, 'REALENGO': 6, 'PACIENCIA': 1, 'LINS DE VASCONCELOS': 1, 'COPACABANA': 10, 'ANDARAI': 1, 'CASCADURA': 1, 'SEPETIBA': 4, 'MADUREIRA': 2, 'MANGUEIRA': 1, 'CENTRO': 6, 'JARDIM BOTANICO': 1, 'VAZ LOBO': 1, 'SANTA TERESA': 2, 'MARECHAL HERMES': 1, 'CAMPO GRANDE': 12, 'OLARIA': 1, 'BOTAFOGO': 2, 'TAQUARA': 5, 'VILA ISABEL': 2, 'VISTA ALEGRE': 1, 'BONSUCESSO': 8, 'COSTA BARROS': 2, 'ROCHA MIRANDA': 3, 'SANTA CRUZ': 5, 'BENFICA': 2, 'CIDADE DE DEUS': 3, 'RIO COMPRIDO': 2, 'BANGU': 4, 'IPANEMA': 3, 'MARACANA': 1, 'HIGIENOPOLIS': 2, 'GRAJAU': 1, 'ENGENHO NOVO': 1, 'JARDIM AMERICA': 1, 'PIEDADE': 2, 'TIJUCA': 6, 'ANIL': 1, 'GUADALUPE': 2, 'SENADOR VASCONCELOS': 1, 'VILA MILITAR': 1, 'TURIACU': 1, 'PARADA DE LUCAS': 1, 'GARDENIA AZUL': 1, 'ROCHA': 1, 'GUARATIBA': 2, 'JACAREPAGUA': 2, 'TODOS OS SANTOS': 1, 'DEL CASTILHO': 2, 'PECHINCHA': 1, 'HONORIO GURGEL': 2, 'ACARI': 3, 'CACHAMBI': 3, 'SAO CRISTOVAO': 1, 'ESTACIO': 1, 'OSWALDO CRUZ': 2, 'CIDADE NOVA': 1, 'PAQUETA': 12, 'PRACA SECA': 2, 'BARRA DA TIJUCA': 1, 'SANTO CRISTO': 2, 'IRAJA': 2, 'PENHA': 3, 'RAMOS': 4, 'COMPLEXO DO ALEMAO': 1, 'GAMBOA': 1, 'PARQUE ANCHIETA': 1, 'CURICICA': 5}, {'COELHO NETO': 1, 'JACARE': 1, 'PACIENCIA': 1, 'MEIER': 1, 'DEODORO': 1, 'REALENGO': 2, 'CORDOVIL': 1, 'SENADOR CAMARA': 3, 'COPACABANA': 3, 'ANDARAI': 2, 'QUINTINO BOCAIUVA': 1, 'SEPETIBA': 4, 'MADUREIRA': 1, 'CENTRO': 5, 'HUMAITA': 1, 'PAQUETA': 2, 'SANTA TERESA': 1, 'BARROS FILHO': 1, 'MARECHAL HERMES': 1, 'CAMPO GRANDE': 5, 'OLARIA': 1, 'BOTAFOGO': 2, 'IRAJA': 2, 'JARDIM BOTANICO': 1, 'ENGENHO DE DENTRO': 2, 'SANTA CRUZ': 2, 'BENFICA': 2, 'CIDADE DE DEUS': 5, 'RIO COMPRIDO': 1, 'BANGU': 2, 'GAMBOA': 2, 'MANGUINHOS': 1, 'ENGENHO NOVO': 1, 'URCA': 1, 'JACAREZINHO': 1, 'TIJUCA': 3, 'PENHA': 2, 'GARDENIA AZUL': 1, 'GUARATIBA': 3, 'TAQUARA': 2, 'HIGIENOPOLIS': 1, 'PECHINCHA': 1, 'ROCINHA': 1, 'LEBLON': 1, 'SAO CRISTOVAO': 2, 'CACHAMBI': 1, 'ESTACIO': 1, 'OSWALDO CRUZ': 1, 'CIDADE UNIVERSITARIA': 1, 'MAGALHAES BASTOS': 3, 'COLEGIO': 3, 'SANTO CRISTO': 1, 'SAUDE': 1, 'INHAUMA': 1, 'RAMOS': 1, 'COSMOS': 1, 'CURICICA': 1}, {'BOTAFOGO': 3, 'PACIENCIA': 1, 'SANTISSIMO': 1, 'MEIER': 2, 'DEODORO': 1, 'REALENGO': 10, 'CORDOVIL': 3, 'CURICICA': 1, 'BENTO RIBEIRO': 1, 'LINS DE VASCONCELOS': 1, 'PILARES': 1, 'COPACABANA': 1, 'ANDARAI': 1, 'SENADOR CAMARA': 4, 'SEPETIBA': 7, 'CENTRO': 4, 'IRAJA': 1, 'VAZ LOBO': 1, 'SANTA TERESA': 2, 'MARECHAL HERMES': 3, 'CAMPO GRANDE': 10, 'PEDRA DE GUARATIBA': 1, 'ROCINHA': 1, 'JACAREPAGUA': 1, 'VILA ISABEL': 2, 'TOMAS COELHO': 1, 'BONSUCESSO': 1, 'GRAJAU': 3, 'SANTA CRUZ': 2, 'ROCHA MIRANDA': 2, 'BANGU': 3, 'MARACANA': 1, 'MANGUINHOS': 1, 'ENGENHO NOVO': 1, 'PIEDADE': 1, 'TIJUCA': 3, 'ANCHIETA': 1, 'GUADALUPE': 2, 'PENHA': 1, 'AGUA SANTA': 1, 'GARDENIA AZUL': 1, 'ANIL': 1, 'PAVUNA': 1, 'GUARATIBA': 2, 'COLEGIO': 2, 'HONORIO GURGEL': 2, 'TODOS OS SANTOS': 1, 'DEL CASTILHO': 1, 'LEME': 1, 'ACARI': 1, 'JARDIM CARIOCA': 1, 'SAO FRANCISCO XAVIER': 1, 'MAGALHAES BASTOS': 2, 'SANTO CRISTO': 1, 'LARANJEIRAS': 1, 'SENADOR VASCONCELOS': 1, 'RAMOS': 1, 'PADRE MIGUEL': 1}, {'COSMOS': 2, 'JACARE': 1, 'PACIENCIA': 2, 'JACAREPAGUA': 1, 'ABOLICAO': 1, 'REALENGO': 4, 'CORDOVIL': 4, 'PILARES': 1, 'COPACABANA': 3, 'SEPETIBA': 8, 'SENADOR CAMARA': 2, 'CASCADURA': 1, 'CENTRO': 1, 'IRAJA': 4, 'COLEGIO': 1, 'MARECHAL HERMES': 1, 'CAMPO GRANDE': 7, 'OLARIA': 1, 'TAQUARA': 2, 'VILA ISABEL': 2, 'BONSUCESSO': 2, 'COSTA BARROS': 1, 'ROCHA MIRANDA': 2, 'SANTA CRUZ': 4, 'VILA VALQUEIRE': 1, 'CACUIA': 1, 'BANGU': 2, 'MARACANA': 1, 'HIGIENOPOLIS': 1, 'JARDIM AMERICA': 1, 'JARDIM SULACAP': 2, 'TIJUCA': 2, 'ANCHIETA': 1, 'GUADALUPE': 4, 'PENHA': 1, 'TURIACU': 1, 'ANIL': 1, 'GUARATIBA': 5, 'CURICICA': 1, 'VIDIGAL': 1, 'TODOS OS SANTOS': 1, 'VICENTE DE CARVALHO': 1, 'HONORIO GURGEL': 1, 'ROCINHA': 3, 'SAO CRISTOVAO': 1, 'VARGEM GRANDE': 1, 'SAO FRANCISCO XAVIER': 1, 'LAGOA': 1, 'VISTA ALEGRE': 1, 'SAUDE': 1, 'PARADA DE LUCAS': 2, 'RAMOS': 2, 'RICARDO DE ALBUQUERQUE': 1, 'PADRE MIGUEL': 1}, {'COSMOS': 3, 'COELHO NETO': 1, 'PACIENCIA': 3, 'SANTISSIMO': 2, 'MEIER': 1, 'CORDOVIL': 1, 'BENTO RIBEIRO': 1, 'COPACABANA': 1, 'SENADOR CAMARA': 1, 'SEPETIBA': 2, 'IRAJA': 1, 'VAZ LOBO': 1, 'MARECHAL HERMES': 1, 'GALEAO': 1, 'OLARIA': 1, 'PEDRA DE GUARATIBA': 1, 'MANGUEIRA': 1, 'VILA ISABEL': 4, 'BONSUCESSO': 1, 'JARDIM AMERICA': 1, 'GRAJAU': 1, 'SANTA CRUZ': 6, 'CIDADE DE DEUS': 1, 'PIEDADE': 1, 'BANGU': 1, 'VIGARIO GERAL': 1, 'LINS DE VASCONCELOS': 1, 'MANGUINHOS': 1, 'COSTA BARROS': 1, 'JACAREZINHO': 1, 'TIJUCA': 2, 'PAVUNA': 1, 'GUADALUPE': 2, 'SENADOR VASCONCELOS': 1, 'ROCHA MIRANDA': 1, 'ANCHIETA': 1, 'GUARATIBA': 2, 'JACAREPAGUA': 2, 'TAQUARA': 1, 'PECHINCHA': 1, 'ROCINHA': 4, 'FLAMENGO': 1, 'VISTA ALEGRE': 1, 'SANTO CRISTO': 1, 'CAMPO GRANDE': 12, 'INHAUMA': 3, 'RAMOS': 1, 'PADRE MIGUEL': 1}, {'COELHO NETO': 2, 'COSMOS': 2, 'ABOLICAO': 2, 'PIEDADE': 1, 'CAMPINHO': 1, 'PAVUNA': 1, 'GARDENIA AZUL': 1, 'COPACABANA': 1, 'ANDARAI': 1, 'SENADOR CAMARA': 1, 'SEPETIBA': 1, 'MADUREIRA': 2, 'GUARATIBA': 4, 'IRAJA': 1, 'VIDIGAL': 1, 'VARGEM PEQUENA': 1, 'SANTA TERESA': 1, 'ROCINHA': 1, 'MARECHAL HERMES': 2, 'FLAMENGO': 1, 'CAMPO GRANDE': 9, 'VARGEM GRANDE': 1, 'PRACA SECA': 1, 'VIGARIO GERAL': 1, 'ROCHA MIRANDA': 1, 'SANTA CRUZ': 4, 'JACAREZINHO': 1, 'BANGU': 2}, {'COSMOS': 1, 'MANGUINHOS': 1, 'ENGENHO NOVO': 1, 'URCA': 1, 'REALENGO': 2, 'TIJUCA': 1, 'BENTO RIBEIRO': 1, 'BARRA DA TIJUCA': 3, 'COPACABANA': 1, 'ROCHA MIRANDA': 1, 'SEPETIBA': 7, 'CENTRO': 2, 'GUARATIBA': 1, 'HONORIO GURGEL': 1, 'VAZ LOBO': 1, 'LEME': 1, 'JARDIM CARIOCA': 2, 'ROCINHA': 2, 'LEBLON': 2, 'CAMPO GRANDE': 5, 'OLARIA': 2, 'VILA ISABEL': 1, 'ENGENHO DE DENTRO': 1, 'GUADALUPE': 2, 'PENHA': 2, 'SANTA CRUZ': 2, 'RICARDO DE ALBUQUERQUE': 1, 'RIO COMPRIDO': 1, 'PADRE MIGUEL': 1}, {'COSMOS': 1, 'JARDIM CARIOCA': 1, 'PACIENCIA': 1, 'MANGUINHOS': 1, 'COLEGIO': 1, 'PENHA CIRCULAR': 1, 'CORDOVIL': 1, 'BENTO RIBEIRO': 1, 'GARDENIA AZUL': 1, 'GUADALUPE': 1, 'SENADOR VASCONCELOS': 1, 'ANDARAI': 2, 'PARADA DE LUCAS': 1, 'SENADOR CAMARA': 1, 'SEPETIBA': 3, 'GUARATIBA': 2, 'JACAREPAGUA': 1, 'VARGEM PEQUENA': 1, 'GLORIA': 1, 'MARECHAL HERMES': 1, 'PADRE MIGUEL': 1, 'CAMPO GRANDE': 6, 'BOTAFOGO': 2, 'VILA ISABEL': 1, 'MAGALHAES BASTOS': 1, 'PILARES': 1, 'BONSUCESSO': 2, 'TAUA': 1, 'SAO CRISTOVAO': 2, 'COPACABANA': 1, 'SANTA CRUZ': 1, 'ROCHA MIRANDA': 1, 'BANGU': 1, 'IPANEMA': 1}, {'BOTAFOGO': 6, 'PACIENCIA': 3, 'SANTISSIMO': 2, 'URCA': 1, 'BENTO RIBEIRO': 2, 'COPACABANA': 1, 'SENADOR CAMARA': 1, 'SEPETIBA': 3, 'MADUREIRA': 3, 'CENTRO': 5, 'SAMPAIO': 1, 'SANTA TERESA': 2, 'GLORIA': 1, 'CAMPO GRANDE': 4, 'OLARIA': 1, 'PEDRA DE GUARATIBA': 1, 'ROCINHA': 1, 'VILA ISABEL': 1, 'TANQUE': 1, 'BONSUCESSO': 1, 'ROCHA MIRANDA': 5, 'SANTA CRUZ': 3, 'GUADALUPE': 3, 'RIO COMPRIDO': 2, 'BANGU': 2, 'GAMBOA': 2, 'REALENGO': 1, 'PAVUNA': 1, 'CATUMBI': 4, 'TURIACU': 1, 'ANCHIETA': 1, 'JACAREPAGUA': 2, 'VICENTE DE CARVALHO': 1, 'HONORIO GURGEL': 1, 'ACARI': 1, 'CATETE': 4, 'ESTACIO': 2, 'OSWALDO CRUZ': 1, 'CIDADE NOVA': 1, 'LAGOA': 1, 'BARRA DA TIJUCA': 1, 'LARANJEIRAS': 2, 'PARADA DE LUCAS': 1, 'RAMOS': 1}, {'JACARE': 1, 'COSMOS': 1, 'MEIER': 5, 'PIEDADE': 1, 'TIJUCA': 2, 'PAVUNA': 1, 'BENTO RIBEIRO': 1, 'PENHA': 1, 'ANIL': 1, 'SENADOR CAMARA': 1, 'SEPETIBA': 1, 'MADUREIRA': 1, 'GUARATIBA': 4, 'JACAREPAGUA': 1, 'HONORIO GURGEL': 1, 'MARECHAL HERMES': 2, 'CATETE': 1, 'GALEAO': 1, 'OLARIA': 1, 'BOTAFOGO': 2, 'ROCINHA': 1, 'MANGUEIRA': 1, 'PAQUETA': 1, 'PRACA SECA': 2, 'VISTA ALEGRE': 1, 'TANQUE': 1, 'BONSUCESSO': 2, 'TAUA': 1, 'CAMPO GRANDE': 7, 'PARADA DE LUCAS': 1, 'RAMOS': 1, 'BENFICA': 1, 'CIDADE DE DEUS': 1, 'ROCHA MIRANDA': 1}, {'SAO CRISTOVAO': 1, 'JACARE': 1, 'SANTISSIMO': 1, 'REALENGO': 1, 'SAMPAIO': 1, 'PAVUNA': 2, 'CATUMBI': 2, 'COPACABANA': 2, 'GAVEA': 3, 'SEPETIBA': 1, 'CENTRO': 3, 'GUARATIBA': 2, 'VIDIGAL': 1, 'PECHINCHA': 1, 'SANTA TERESA': 1, 'MARECHAL HERMES': 1, 'CACHAMBI': 1, 'CAMPO GRANDE': 7, 'OLARIA': 1, 'BOTAFOGO': 10, 'ESTACIO': 3, 'MANGUEIRA': 1, 'JARDIM BOTANICO': 1, 'COSME VELHO': 1, 'PILARES': 1, 'SANTO CRISTO': 2, 'LARANJEIRAS': 1, 'CATETE': 1, 'INHAUMA': 1, 'SANTA CRUZ': 1, 'BENFICA': 1, 'RIO COMPRIDO': 1, 'COMPLEXO DO ALEMAO': 1}, {'COSMOS': 1, 'PAQUETA': 1, 'MARECHAL HERMES': 1, 'MEIER': 1, 'CAMPO GRANDE': 1, 'BOTAFOGO': 1, 'TIJUCA': 1, 'PAVUNA': 1, 'LAGOA': 1, 'ENGENHO NOVO': 1, 'BONSUCESSO': 1, 'SEPETIBA': 1, 'CASCADURA': 1, 'SANTA CRUZ': 1, 'ANCHIETA': 1, 'GUARATIBA': 2, 'TAQUARA': 1, 'BANGU': 1, 'COMPLEXO DO ALEMAO': 1}, {'IPANEMA': 1, 'MARACANA': 1, 'MARECHAL HERMES': 3, 'MEIER': 1, 'CAMPO GRANDE': 2, 'OLARIA': 1, 'REALENGO': 2, 'ANCHIETA': 1, 'SEPETIBA': 1, 'RAMOS': 1, 'COMPLEXO DO ALEMAO': 1, 'COLEGIO': 1, 'JACAREPAGUA': 1, 'HUMAITA': 1}, {'COSMOS': 3, 'MARACANA': 1, 'MARECHAL HERMES': 1, 'COSTA BARROS': 1, 'TIJUCA': 1, 'GUADALUPE': 1, 'CAMPO GRANDE': 6, 'SENADOR CAMARA': 1, 'SEPETIBA': 1, 'RAMOS': 1, 'GUARATIBA': 2, 'SANTA CRUZ': 1}, {'GUARATIBA': 1, 'MARACANA': 1, 'COPACABANA': 2, 'BONSUCESSO': 1, 'CAMPO GRANDE': 3, 'REALENGO': 2, 'JACAREPAGUA': 1, 'BANGU': 1, 'RIO COMPRIDO': 1}, {'JACARE': 1, 'GUADALUPE': 1, 'BOTAFOGO': 1, 'COPACABANA': 1, 'FLAMENGO': 1, 'CAMPO GRANDE': 1, 'BENFICA': 1}, {'PAQUETA': 1, 'PRACA SECA': 1, 'PARADA DE LUCAS': 1, 'PRACA DA BANDEIRA': 1, 'BOTAFOGO': 1, 'SANTA CRUZ': 1, 'BANGU': 1}, {'VILA ISABEL': 7, 'CAMPO GRANDE': 1, 'ANDARAI': 1, 'COSTA BARROS': 2, 'GRAJAU': 2, 'MADUREIRA': 1}]\n"
     ]
    }
   ],
   "source": [
    "dict_selva = []\n",
    "for i in range(max(casos_selva['semana_numero']) - min(casos_selva['semana_numero'])):\n",
    "    selva = casos_selva[(casos_selva['doenca'] == 'Zika')&(casos_selva['semana_numero'] == i)]['bairro'].value_counts()\n",
    "    dict_selva.append(dict(selva))\n",
    "print(dict_selva)"
   ]
  },
  {
   "cell_type": "code",
   "execution_count": 119,
   "metadata": {
    "collapsed": false
   },
   "outputs": [
    {
     "data": {
      "text/plain": [
       "Index(['VILA ISABEL-932', 'GRAJAU-932', 'COSTA BARROS-932', 'ANDARAI-932',\n",
       "       'MADUREIRA-932', 'CAMPO GRANDE-932'],\n",
       "      dtype='object')"
      ]
     },
     "execution_count": 119,
     "metadata": {},
     "output_type": "execute_result"
    }
   ],
   "source": [
    "selva.index + '2'"
   ]
  },
  {
   "cell_type": "code",
   "execution_count": 90,
   "metadata": {
    "collapsed": false
   },
   "outputs": [
    {
     "ename": "TypeError",
     "evalue": "cannot convert the series to <class 'int'>",
     "output_type": "error",
     "traceback": [
      "\u001b[0;31m---------------------------------------------------------------------------\u001b[0m",
      "\u001b[0;31mTypeError\u001b[0m                                 Traceback (most recent call last)",
      "\u001b[0;32m<ipython-input-90-707bccb0879b>\u001b[0m in \u001b[0;36m<module>\u001b[0;34m()\u001b[0m\n\u001b[1;32m      1\u001b[0m \u001b[0;32mfor\u001b[0m \u001b[0mi\u001b[0m \u001b[0;32min\u001b[0m \u001b[0mrange\u001b[0m\u001b[0;34m(\u001b[0m\u001b[0;36m94\u001b[0m\u001b[0;34m)\u001b[0m\u001b[0;34m:\u001b[0m\u001b[0;34m\u001b[0m\u001b[0m\n\u001b[0;32m----> 2\u001b[0;31m     \u001b[0mselva\u001b[0m \u001b[0;34m=\u001b[0m \u001b[0mcasos_selva\u001b[0m\u001b[0;34m[\u001b[0m\u001b[0;34m(\u001b[0m\u001b[0mcasos_selva\u001b[0m\u001b[0;34m[\u001b[0m\u001b[0;34m'doenca'\u001b[0m\u001b[0;34m]\u001b[0m \u001b[0;34m==\u001b[0m \u001b[0;34m'Zika'\u001b[0m\u001b[0;34m)\u001b[0m \u001b[0;34m&\u001b[0m \u001b[0;34m(\u001b[0m\u001b[0mint\u001b[0m\u001b[0;34m(\u001b[0m\u001b[0;34m(\u001b[0m\u001b[0mcasos_selva\u001b[0m\u001b[0;34m[\u001b[0m\u001b[0;34m'dia'\u001b[0m\u001b[0;34m]\u001b[0m \u001b[0;34m-\u001b[0m \u001b[0mmin\u001b[0m\u001b[0;34m(\u001b[0m\u001b[0mcasos_selva\u001b[0m\u001b[0;34m[\u001b[0m\u001b[0;34m'dia'\u001b[0m\u001b[0;34m]\u001b[0m\u001b[0;34m)\u001b[0m\u001b[0;34m)\u001b[0m\u001b[0;34m)\u001b[0m\u001b[0;34m//\u001b[0m\u001b[0;36m7\u001b[0m \u001b[0;34m<=\u001b[0m \u001b[0mi\u001b[0m\u001b[0;34m)\u001b[0m\u001b[0;34m]\u001b[0m\u001b[0;34m[\u001b[0m\u001b[0;34m'bairro'\u001b[0m\u001b[0;34m]\u001b[0m\u001b[0;34m.\u001b[0m\u001b[0mvalue_counts\u001b[0m\u001b[0;34m(\u001b[0m\u001b[0;34m)\u001b[0m\u001b[0;34m\u001b[0m\u001b[0m\n\u001b[0m",
      "\u001b[0;32m/home/joaomarcosgris/anaconda3/lib/python3.5/site-packages/pandas/core/series.py\u001b[0m in \u001b[0;36mwrapper\u001b[0;34m(self)\u001b[0m\n\u001b[1;32m     76\u001b[0m             \u001b[0;32mreturn\u001b[0m \u001b[0mconverter\u001b[0m\u001b[0;34m(\u001b[0m\u001b[0mself\u001b[0m\u001b[0;34m.\u001b[0m\u001b[0miloc\u001b[0m\u001b[0;34m[\u001b[0m\u001b[0;36m0\u001b[0m\u001b[0;34m]\u001b[0m\u001b[0;34m)\u001b[0m\u001b[0;34m\u001b[0m\u001b[0m\n\u001b[1;32m     77\u001b[0m         raise TypeError(\"cannot convert the series to \"\n\u001b[0;32m---> 78\u001b[0;31m                         \"{0}\".format(str(converter)))\n\u001b[0m\u001b[1;32m     79\u001b[0m \u001b[0;34m\u001b[0m\u001b[0m\n\u001b[1;32m     80\u001b[0m     \u001b[0;32mreturn\u001b[0m \u001b[0mwrapper\u001b[0m\u001b[0;34m\u001b[0m\u001b[0m\n",
      "\u001b[0;31mTypeError\u001b[0m: cannot convert the series to <class 'int'>"
     ]
    }
   ],
   "source": [
    "for i in range(94):\n",
    "    selva = casos_selva[(casos_selva['doenca'] == 'Zika') & (int((casos_selva['dia'] - min(casos_selva['dia'])))//7 <= i)]['bairro'].value_counts()"
   ]
  },
  {
   "cell_type": "code",
   "execution_count": 182,
   "metadata": {
    "collapsed": false
   },
   "outputs": [
    {
     "data": {
      "text/plain": [
       "RECREIO DOS BANDEIRANTES    0.000085\n",
       "CAVALCANTI                  0.000496\n",
       "PARQUE COLUMBIA             0.000761\n",
       "MARIA DA GRACA              0.001129\n",
       "JOA                         0.001222\n",
       "VILA MILITAR                0.001289\n",
       "LEBLON                      0.001303\n",
       "JACAREZINHO                 0.001348\n",
       "PARQUE ANCHIETA             0.001717\n",
       "RICARDO DE ALBUQUERQUE      0.001774\n",
       "LAGOA                       0.001981\n",
       "SAO CONRADO                 0.002004\n",
       "GAVEA                       0.002187\n",
       "FLAMENGO                    0.002358\n",
       "LARANJEIRAS                 0.002503\n",
       "BANGU                       0.002665\n",
       "SENADOR CAMARA              0.002692\n",
       "JARDIM BOTANICO             0.002832\n",
       "JACAREPAGUA                 0.002854\n",
       "IPANEMA                     0.002901\n",
       "MANGUINHOS                  0.002904\n",
       "BARRA DA TIJUCA             0.002921\n",
       "TODOS OS SANTOS             0.002921\n",
       "COSME VELHO                 0.002926\n",
       "CAMPO DOS AFONSOS           0.002930\n",
       "TAUA                        0.003179\n",
       "PRACA DA BANDEIRA           0.003233\n",
       "PADRE MIGUEL                0.003254\n",
       "OSWALDO CRUZ                0.003261\n",
       "ENGENHEIRO LEAL             0.003272\n",
       "                              ...   \n",
       "PRACA SECA                  0.009806\n",
       "VIDIGAL                     0.010315\n",
       "SANTA TERESA                0.010629\n",
       "RIO COMPRIDO                0.010671\n",
       "PACIENCIA                   0.010716\n",
       "TAQUARA                     0.010722\n",
       "CAJU                        0.010744\n",
       "JACARE                      0.011320\n",
       "SAO FRANCISCO XAVIER        0.011387\n",
       "SAMPAIO                     0.011840\n",
       "CENTRO                      0.012129\n",
       "ESTACIO                     0.012392\n",
       "ANIL                        0.012577\n",
       "SAO CRISTOVAO               0.013014\n",
       "ROCINHA                     0.013121\n",
       "GUARATIBA                   0.013867\n",
       "VARGEM GRANDE               0.014104\n",
       "GARDENIA AZUL               0.014620\n",
       "CATUMBI                     0.014973\n",
       "BONSUCESSO                  0.015285\n",
       "VISTA ALEGRE                0.017049\n",
       "CURICICA                    0.017186\n",
       "ZUMBI                       0.017857\n",
       "SANTO CRISTO                0.018005\n",
       "SEPETIBA                    0.019443\n",
       "COSTA BARROS                0.019865\n",
       "CAMORIM                     0.020305\n",
       "PEDRA DE GUARATIBA          0.036046\n",
       "BARRA DE GUARATIBA          0.039419\n",
       "PAQUETA                     0.043142\n",
       "dtype: float64"
      ]
     },
     "execution_count": 182,
     "metadata": {},
     "output_type": "execute_result"
    }
   ],
   "source": [
    "casos_zika_por_bairro_normalizado"
   ]
  },
  {
   "cell_type": "code",
   "execution_count": null,
   "metadata": {
    "collapsed": true
   },
   "outputs": [],
   "source": []
  }
 ],
 "metadata": {
  "anaconda-cloud": {},
  "kernelspec": {
   "display_name": "Python [conda root]",
   "language": "python",
   "name": "conda-root-py"
  },
  "language_info": {
   "codemirror_mode": {
    "name": "ipython",
    "version": 3
   },
   "file_extension": ".py",
   "mimetype": "text/x-python",
   "name": "python",
   "nbconvert_exporter": "python",
   "pygments_lexer": "ipython3",
   "version": "3.5.2"
  }
 },
 "nbformat": 4,
 "nbformat_minor": 1
}
