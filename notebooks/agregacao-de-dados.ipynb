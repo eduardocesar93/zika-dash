{
 "cells": [
  {
   "cell_type": "code",
   "execution_count": 19,
   "metadata": {
    "collapsed": true
   },
   "outputs": [],
   "source": [
    "import pandas as pd"
   ]
  },
  {
   "cell_type": "code",
   "execution_count": 20,
   "metadata": {
    "collapsed": true
   },
   "outputs": [],
   "source": [
    "tweets = pd.read_csv('../data/tweets-dataset-limpo.csv')\n",
    "casos = pd.read_csv('../data/casos-por-bairro-limpo.csv')\n",
    "clima = pd.read_csv('../data/dados-climaticos-limpo.csv')"
   ]
  },
  {
   "cell_type": "code",
   "execution_count": 64,
   "metadata": {
    "collapsed": false,
    "scrolled": true
   },
   "outputs": [
    {
     "data": {
      "text/html": [
       "<div>\n",
       "<table border=\"1\" class=\"dataframe\">\n",
       "  <thead>\n",
       "    <tr style=\"text-align: right;\">\n",
       "      <th></th>\n",
       "      <th>bairro</th>\n",
       "      <th>doenca</th>\n",
       "      <th>dia</th>\n",
       "      <th>populacao</th>\n",
       "    </tr>\n",
       "  </thead>\n",
       "  <tbody>\n",
       "    <tr>\n",
       "      <th>0</th>\n",
       "      <td>TAQUARA</td>\n",
       "      <td>Dengue</td>\n",
       "      <td>2015-09-17</td>\n",
       "      <td>102126</td>\n",
       "    </tr>\n",
       "    <tr>\n",
       "      <th>1</th>\n",
       "      <td>TAQUARA</td>\n",
       "      <td>Dengue</td>\n",
       "      <td>2015-04-06</td>\n",
       "      <td>102126</td>\n",
       "    </tr>\n",
       "    <tr>\n",
       "      <th>2</th>\n",
       "      <td>TAQUARA</td>\n",
       "      <td>Dengue</td>\n",
       "      <td>2015-08-17</td>\n",
       "      <td>102126</td>\n",
       "    </tr>\n",
       "    <tr>\n",
       "      <th>3</th>\n",
       "      <td>TAQUARA</td>\n",
       "      <td>Dengue</td>\n",
       "      <td>2015-08-17</td>\n",
       "      <td>102126</td>\n",
       "    </tr>\n",
       "    <tr>\n",
       "      <th>4</th>\n",
       "      <td>TAQUARA</td>\n",
       "      <td>Dengue</td>\n",
       "      <td>2015-02-28</td>\n",
       "      <td>102126</td>\n",
       "    </tr>\n",
       "  </tbody>\n",
       "</table>\n",
       "</div>"
      ],
      "text/plain": [
       "    bairro  doenca         dia  populacao\n",
       "0  TAQUARA  Dengue  2015-09-17     102126\n",
       "1  TAQUARA  Dengue  2015-04-06     102126\n",
       "2  TAQUARA  Dengue  2015-08-17     102126\n",
       "3  TAQUARA  Dengue  2015-08-17     102126\n",
       "4  TAQUARA  Dengue  2015-02-28     102126"
      ]
     },
     "execution_count": 64,
     "metadata": {},
     "output_type": "execute_result"
    }
   ],
   "source": [
    "casos.head()"
   ]
  },
  {
   "cell_type": "code",
   "execution_count": 69,
   "metadata": {
    "collapsed": false
   },
   "outputs": [],
   "source": [
    "casos_zika_por_bairro = casos[casos['doenca'] == 'Zika']['bairro'].value_counts()"
   ]
  },
  {
   "cell_type": "code",
   "execution_count": 23,
   "metadata": {
    "collapsed": false
   },
   "outputs": [],
   "source": [
    "populacao_por_bairro = casos[['bairro', 'populacao']].drop_duplicates()"
   ]
  },
  {
   "cell_type": "code",
   "execution_count": 24,
   "metadata": {
    "collapsed": false
   },
   "outputs": [
    {
     "data": {
      "text/html": [
       "<div>\n",
       "<table border=\"1\" class=\"dataframe\">\n",
       "  <thead>\n",
       "    <tr style=\"text-align: right;\">\n",
       "      <th></th>\n",
       "      <th>bairro</th>\n",
       "      <th>populacao</th>\n",
       "    </tr>\n",
       "  </thead>\n",
       "  <tbody>\n",
       "    <tr>\n",
       "      <th>0</th>\n",
       "      <td>TAQUARA</td>\n",
       "      <td>102126</td>\n",
       "    </tr>\n",
       "    <tr>\n",
       "      <th>1957</th>\n",
       "      <td>REALENGO</td>\n",
       "      <td>180123</td>\n",
       "    </tr>\n",
       "    <tr>\n",
       "      <th>6893</th>\n",
       "      <td>IRAJA</td>\n",
       "      <td>96382</td>\n",
       "    </tr>\n",
       "    <tr>\n",
       "      <th>8899</th>\n",
       "      <td>MADUREIRA</td>\n",
       "      <td>50106</td>\n",
       "    </tr>\n",
       "    <tr>\n",
       "      <th>9875</th>\n",
       "      <td>PAVUNA</td>\n",
       "      <td>97350</td>\n",
       "    </tr>\n",
       "  </tbody>\n",
       "</table>\n",
       "</div>"
      ],
      "text/plain": [
       "         bairro  populacao\n",
       "0       TAQUARA     102126\n",
       "1957   REALENGO     180123\n",
       "6893      IRAJA      96382\n",
       "8899  MADUREIRA      50106\n",
       "9875     PAVUNA      97350"
      ]
     },
     "execution_count": 24,
     "metadata": {},
     "output_type": "execute_result"
    }
   ],
   "source": [
    "populacao_por_bairro.head()"
   ]
  },
  {
   "cell_type": "code",
   "execution_count": 40,
   "metadata": {
    "collapsed": false
   },
   "outputs": [],
   "source": [
    "populacao_por_bairro = pd.Series(populacao_por_bairro['populacao'].tolist(),index=populacao_por_bairro['bairro'].tolist())"
   ]
  },
  {
   "cell_type": "code",
   "execution_count": 45,
   "metadata": {
    "collapsed": false
   },
   "outputs": [],
   "source": [
    "casos_zika_por_bairro_normalizado = casos_zika_por_bairro / populacao_por_bairro"
   ]
  },
  {
   "cell_type": "code",
   "execution_count": 80,
   "metadata": {
    "collapsed": false
   },
   "outputs": [],
   "source": [
    "casos_zika_por_bairro_normalizado = casos_zika_por_bairro_normalizado.sort_values().dropna().drop_duplicates().drop('BRAS DE PINA')"
   ]
  },
  {
   "cell_type": "code",
   "execution_count": 82,
   "metadata": {
    "collapsed": false
   },
   "outputs": [
    {
     "data": {
      "text/plain": [
       "VILA DE PENHA               0.000079\n",
       "RECREIO DOS BANDEIRANTES    0.000085\n",
       "CAVALCANTI                  0.000496\n",
       "PARQUE COLUMBIA             0.000761\n",
       "MARIA DA GRACA              0.001129\n",
       "JOA                         0.001222\n",
       "VILA MILITAR                0.001289\n",
       "LEBLON                      0.001303\n",
       "JACAREZINHO                 0.001348\n",
       "PARQUE ANCHIETA             0.001717\n",
       "RICARDO DE ALBUQUERQUE      0.001774\n",
       "LAGOA                       0.001981\n",
       "SAO CONRADO                 0.002004\n",
       "ITANHANGA                   0.002135\n",
       "GAVEA                       0.002187\n",
       "FLAMENGO                    0.002358\n",
       "VILA KOSMOS                 0.002408\n",
       "LARANJEIRAS                 0.002503\n",
       "BANGU                       0.002665\n",
       "SENADOR CAMARA              0.002692\n",
       "JARDIM BOTANICO             0.002832\n",
       "JACAREPAGUA                 0.002854\n",
       "IPANEMA                     0.002901\n",
       "MANGUINHOS                  0.002904\n",
       "BARRA DA TIJUCA             0.002921\n",
       "TODOS OS SANTOS             0.002921\n",
       "COSME VELHO                 0.002926\n",
       "CAMPO DOS AFONSOS           0.002930\n",
       "TAUA                        0.003179\n",
       "PRACA DA BANDEIRA           0.003233\n",
       "                              ...   \n",
       "PRACA SECA                  0.009806\n",
       "VIDIGAL                     0.010315\n",
       "SANTA TERESA                0.010629\n",
       "RIO COMPRIDO                0.010671\n",
       "PACIENCIA                   0.010716\n",
       "TAQUARA                     0.010722\n",
       "CAJU                        0.010744\n",
       "JACARE                      0.011320\n",
       "SAO FRANCISCO XAVIER        0.011387\n",
       "SAMPAIO                     0.011840\n",
       "CENTRO                      0.012129\n",
       "ESTACIO                     0.012392\n",
       "ANIL                        0.012577\n",
       "SAO CRISTOVAO               0.013014\n",
       "ROCINHA                     0.013121\n",
       "GUARATIBA                   0.013867\n",
       "VARGEM GRANDE               0.014104\n",
       "GARDENIA AZUL               0.014620\n",
       "CATUMBI                     0.014973\n",
       "BONSUCESSO                  0.015285\n",
       "VISTA ALEGRE                0.017049\n",
       "CURICICA                    0.017186\n",
       "ZUMBI                       0.017857\n",
       "SANTO CRISTO                0.018005\n",
       "SEPETIBA                    0.019443\n",
       "COSTA BARROS                0.019865\n",
       "CAMORIM                     0.020305\n",
       "PEDRA DE GUARATIBA          0.036046\n",
       "BARRA DE GUARATIBA          0.039419\n",
       "PAQUETA                     0.043142\n",
       "dtype: float64"
      ]
     },
     "execution_count": 82,
     "metadata": {},
     "output_type": "execute_result"
    }
   ],
   "source": [
    "casos_zika_por_bairro_normalizado"
   ]
  },
  {
   "cell_type": "code",
   "execution_count": null,
   "metadata": {
    "collapsed": true
   },
   "outputs": [],
   "source": []
  }
 ],
 "metadata": {
  "anaconda-cloud": {},
  "kernelspec": {
   "display_name": "Python [conda root]",
   "language": "python",
   "name": "conda-root-py"
  },
  "language_info": {
   "codemirror_mode": {
    "name": "ipython",
    "version": 3
   },
   "file_extension": ".py",
   "mimetype": "text/x-python",
   "name": "python",
   "nbconvert_exporter": "python",
   "pygments_lexer": "ipython3",
   "version": "3.5.2"
  }
 },
 "nbformat": 4,
 "nbformat_minor": 1
}
